{
 "cells": [
  {
   "cell_type": "markdown",
   "metadata": {},
   "source": [
    "# Tarea 1 - Parte 4\n",
    "# INF477 Redes Neuronales Artificiales I-2018\n",
    "\n",
    "Profesor: Dr. Ricardo Ñanculef -- \n",
    "Ayudante: Francisco Mena\n",
    "\n",
    "Alumnos:\n",
    "- Jose Caimapo, jose.caimapo.12@sansano.usm.cl\n",
    "\n",
    "- Eliana Providel Godoy, eprovide@inf.utfsm.cl"
   ]
  },
  {
   "cell_type": "code",
   "execution_count": 2,
   "metadata": {},
   "outputs": [
    {
     "name": "stderr",
     "output_type": "stream",
     "text": [
      "Using TensorFlow backend.\n",
      "/anaconda3/envs/redes-neuronales/lib/python3.6/site-packages/sklearn/cross_validation.py:41: DeprecationWarning: This module was deprecated in version 0.18 in favor of the model_selection module into which all the refactored classes and functions are moved. Also note that the interface of the new CV iterators are different from that of this module. This module will be removed in 0.20.\n",
      "  \"This module will be removed in 0.20.\", DeprecationWarning)\n"
     ]
    },
    {
     "data": {
      "image/png": "[encoded data removed]",
      "text/plain": [
       "<Figure size 432x288 with 1 Axes>"
      ]
     },
     "metadata": {},
     "output_type": "display_data"
    }
   ],
   "source": [
    "from IPython.core.interactiveshell import InteractiveShell\n",
    "InteractiveShell.ast_node_interactivity = \"all\"\n",
    "\n",
    "from keras.models import Sequential\n",
    "from keras.layers.core import Dense, Activation\n",
    "from keras.optimizers import SGD\n",
    "\n",
    "from sklearn.cross_validation import train_test_split\n",
    "from sklearn.preprocessing import StandardScaler\n",
    "\n",
    "import pandas as pd\n",
    "import numpy as np\n",
    "df = pd.read_csv(\"./IndoorFingerprint.csv\")\n",
    "\n",
    "import matplotlib.pyplot as plt\n",
    "%matplotlib inline\n",
    "plt.scatter(df[\"X\"],df[\"Y\"])\n",
    "\n",
    "x_ticks = np.arange(0, 49, 8)\n",
    "y_ticks = np.arange(5, 22, 4)\n",
    "plt.xticks(x_ticks)\n",
    "plt.yticks(y_ticks)\n",
    "plt.grid(color='r', linestyle='-', linewidth=2)\n",
    "plt.ylabel(\"y position\")\n",
    "plt.xlabel(\"x position\")\n",
    "plt.show()\n",
    "\n",
    "##Problema de clasificación\n",
    "\n",
    "## Son 24 clases o categorias\n",
    "### softmax\n",
    "### 24 neuronas en la capa de salida\n",
    "### 8 neuronas en la capa de entrada\n",
    "### que falta decidir?\n",
    "## cuantas capas ocultas: por defecto 2?\n",
    "## cuantas neuronas por cada capa oculta?\n",
    "## cual es la funcion de activacion de cada capa oculta? --> relu / sigmoid / tanh\n",
    "## otros parametros:\n",
    "# - loss function\n",
    "# - numero de epochs\n",
    "# - learning rate\n",
    "# - etc?\n",
    "\n",
    "### Por hacer\n",
    "# discretizar los datos de entrenamiento"
   ]
  },
  {
   "cell_type": "code",
   "execution_count": 3,
   "metadata": {},
   "outputs": [],
   "source": [
    "mask_test = np.loadtxt('mask_test.csv',dtype=\"i\")\n",
    "#mask_test\n",
    "X = df.values\n",
    "\n",
    "X_df = pd.DataFrame(X, columns=df.columns)\n",
    "\n",
    "## Coinciden los puntos/zonas con los ejemplos del enunciado\n",
    "## (2, 8) -> zona 1 \n",
    "## (2,20) -> zona 19\n",
    "## Vamos a hacer la discretizacion desde la zona 0 hasta la 23 para que calce\n",
    "## con el indexamiento de arreglos\n",
    "\n",
    "## Discretizacion para determinar zona X\n",
    "X_df['ZONA_X'] = X_df['X'].apply(lambda x: np.floor(x/8) + 1)\n",
    "\n",
    "## Discretizacion para determinar zona Y\n",
    "X_df['ZONA_Y'] = X_df['Y'].apply(lambda y: np.floor((y-5)/4) + 1)\n",
    "\n",
    "## Discretizacion de posiciones ZONA_X + (6*(ZONA_Y - 1))\n",
    "X_df['ZONA'] = X_df.apply(lambda row: row['ZONA_X'] + 6 * (row['ZONA_Y'] - 1) - 1 ,axis=1)\n",
    "\n",
    "X_df.drop(['X', 'Y', 'ZONA_X', 'ZONA_Y'], axis=1, inplace=True)\n",
    "\n",
    "##########\n",
    "### Valores con la zona discretizada pero sin separacion entre train y test\n",
    "Y = X_df['ZONA'].values\n",
    "X_df.drop(['ZONA'], axis=1, inplace=True)\n",
    "X = X_df.values\n"
   ]
  },
  {
   "cell_type": "code",
   "execution_count": 4,
   "metadata": {},
   "outputs": [],
   "source": [
    "### Division de los datos en train y test\n",
    "X_test  = X[mask_test]\n",
    "X_train = np.delete(X, mask_test, axis=0)\n",
    "\n",
    "y_test  = Y[mask_test]\n",
    "y_train = np.delete(Y, mask_test, axis=0)"
   ]
  },
  {
   "cell_type": "code",
   "execution_count": 5,
   "metadata": {},
   "outputs": [],
   "source": [
    "scaler = StandardScaler().fit(X_train)\n",
    "X_train_scaled = pd.DataFrame(scaler.transform(X_train), columns=X_df.columns)\n",
    "\n",
    "## hay que escalar X_test -- \n",
    "scaler2 = StandardScaler().fit(X_test)\n",
    "X_test_scaled = pd.DataFrame(scaler2.transform(X_test), columns=X_df.columns)\n",
    "\n",
    "from keras.utils import to_categorical\n",
    "y_train_onehot = to_categorical(y_train, num_classes=24)\n",
    "y_test_onehot = to_categorical(y_test, num_classes=24)\n"
   ]
  },
  {
   "cell_type": "markdown",
   "metadata": {},
   "source": [
    "** Revisando los valores conjuntos de datos que se utilizarán**"
   ]
  },
  {
   "cell_type": "code",
   "execution_count": 18,
   "metadata": {},
   "outputs": [
    {
     "data": {
      "text/plain": [
       "Index(['C1hA', '0kxZ', 'tvMX', 'OlYb', '7rk5', 'F39L', 'VNSF', 'tkxI'], dtype='object')"
      ]
     },
     "execution_count": 18,
     "metadata": {},
     "output_type": "execute_result"
    },
    {
     "data": {
      "text/plain": [
       "array([[ 1.,  0.,  0., ...,  0.,  0.,  0.],\n",
       "       [ 1.,  0.,  0., ...,  0.,  0.,  0.],\n",
       "       [ 1.,  0.,  0., ...,  0.,  0.,  0.],\n",
       "       ..., \n",
       "       [ 0.,  0.,  0., ...,  0.,  0.,  0.],\n",
       "       [ 0.,  0.,  0., ...,  0.,  0.,  0.],\n",
       "       [ 0.,  0.,  0., ...,  0.,  0.,  0.]])"
      ]
     },
     "execution_count": 18,
     "metadata": {},
     "output_type": "execute_result"
    },
    {
     "data": {
      "text/plain": [
       "Index(['C1hA', '0kxZ', 'tvMX', 'OlYb', '7rk5', 'F39L', 'VNSF', 'tkxI'], dtype='object')"
      ]
     },
     "execution_count": 18,
     "metadata": {},
     "output_type": "execute_result"
    },
    {
     "data": {
      "text/plain": [
       "array([[ 0.,  0.,  0., ...,  0.,  0.,  0.],\n",
       "       [ 0.,  0.,  0., ...,  0.,  0.,  0.],\n",
       "       [ 0.,  0.,  0., ...,  0.,  0.,  0.],\n",
       "       ..., \n",
       "       [ 0.,  0.,  0., ...,  0.,  1.,  0.],\n",
       "       [ 0.,  0.,  0., ...,  0.,  0.,  0.],\n",
       "       [ 0.,  0.,  0., ...,  0.,  0.,  0.]])"
      ]
     },
     "execution_count": 18,
     "metadata": {},
     "output_type": "execute_result"
    },
    {
     "data": {
      "text/plain": [
       "4620"
      ]
     },
     "execution_count": 18,
     "metadata": {},
     "output_type": "execute_result"
    },
    {
     "data": {
      "text/plain": [
       "4620"
      ]
     },
     "execution_count": 18,
     "metadata": {},
     "output_type": "execute_result"
    },
    {
     "data": {
      "text/plain": [
       "1980"
      ]
     },
     "execution_count": 18,
     "metadata": {},
     "output_type": "execute_result"
    },
    {
     "data": {
      "text/plain": [
       "1980"
      ]
     },
     "execution_count": 18,
     "metadata": {},
     "output_type": "execute_result"
    }
   ],
   "source": [
    "X_train_scaled.columns\n",
    "y_train_onehot\n",
    "X_test_scaled.columns\n",
    "y_test_onehot\n",
    "\n",
    "len(X_train_scaled)\n",
    "len(y_train_onehot)\n",
    "len(X_test_scaled)\n",
    "len(y_test_onehot)"
   ]
  },
  {
   "cell_type": "code",
   "execution_count": 5,
   "metadata": {},
   "outputs": [],
   "source": [
    "model = Sequential()\n",
    "\n",
    "model.add(Dense(200, input_dim=X_train_scaled.shape[1], kernel_initializer='uniform'))\n",
    "model.add(Activation('relu'))\n",
    "\n",
    "model.add(Dense(200, kernel_initializer='uniform'))\n",
    "model.add(Activation('relu'))\n",
    "\n",
    "model.add(Dense(24, kernel_initializer='uniform'))\n",
    "model.add(Activation('softmax'))\n",
    "\n",
    "sgd = SGD(lr=0.01)\n",
    "loss_function = 'categorical_crossentropy'\n",
    "model.compile(optimizer=sgd,loss=loss_function, metrics=[\"accuracy\"])"
   ]
  },
  {
   "cell_type": "code",
   "execution_count": 6,
   "metadata": {},
   "outputs": [
    {
     "name": "stdout",
     "output_type": "stream",
     "text": [
      "Train on 4620 samples, validate on 1980 samples\n",
      "Epoch 1/100\n",
      "4620/4620 [==============================] - 1s 121us/step - loss: 3.1766 - acc: 0.0381 - val_loss: 3.1734 - val_acc: 0.0722\n",
      "Epoch 2/100\n",
      "4620/4620 [==============================] - 1s 119us/step - loss: 3.1701 - acc: 0.1470 - val_loss: 3.1674 - val_acc: 0.1652\n",
      "Epoch 3/100\n",
      "4620/4620 [==============================] - 1s 152us/step - loss: 3.1639 - acc: 0.1740 - val_loss: 3.1613 - val_acc: 0.2051\n",
      "Epoch 4/100\n",
      "4620/4620 [==============================] - 1s 136us/step - loss: 3.1575 - acc: 0.2223 - val_loss: 3.1549 - val_acc: 0.2071\n",
      "Epoch 5/100\n",
      "4620/4620 [==============================] - 1s 136us/step - loss: 3.1506 - acc: 0.2063 - val_loss: 3.1478 - val_acc: 0.2091\n",
      "Epoch 6/100\n",
      "4620/4620 [==============================] - 1s 131us/step - loss: 3.1428 - acc: 0.2154 - val_loss: 3.1395 - val_acc: 0.1944\n",
      "Epoch 7/100\n",
      "4620/4620 [==============================] - 1s 109us/step - loss: 3.1335 - acc: 0.2011 - val_loss: 3.1293 - val_acc: 0.1899\n",
      "Epoch 8/100\n",
      "4620/4620 [==============================] - 1s 134us/step - loss: 3.1220 - acc: 0.2087 - val_loss: 3.1162 - val_acc: 0.1874\n",
      "Epoch 9/100\n",
      "4620/4620 [==============================] - 1s 133us/step - loss: 3.1068 - acc: 0.2229 - val_loss: 3.0986 - val_acc: 0.1980\n",
      "Epoch 10/100\n",
      "4620/4620 [==============================] - 1s 149us/step - loss: 3.0861 - acc: 0.2149 - val_loss: 3.0740 - val_acc: 0.1934\n",
      "Epoch 11/100\n",
      "4620/4620 [==============================] - 1s 145us/step - loss: 3.0565 - acc: 0.2013 - val_loss: 3.0383 - val_acc: 0.1798\n",
      "Epoch 12/100\n",
      "4620/4620 [==============================] - 1s 145us/step - loss: 3.0130 - acc: 0.1872 - val_loss: 2.9851 - val_acc: 0.1641\n",
      "Epoch 13/100\n",
      "4620/4620 [==============================] - 1s 120us/step - loss: 2.9482 - acc: 0.1703 - val_loss: 2.9061 - val_acc: 0.1318\n",
      "Epoch 14/100\n",
      "4620/4620 [==============================] - 1s 113us/step - loss: 2.8552 - acc: 0.1639 - val_loss: 2.7978 - val_acc: 0.1556\n",
      "Epoch 15/100\n",
      "4620/4620 [==============================] - 0s 107us/step - loss: 2.7361 - acc: 0.1632 - val_loss: 2.6668 - val_acc: 0.1586\n",
      "Epoch 16/100\n",
      "4620/4620 [==============================] - 1s 111us/step - loss: 2.6007 - acc: 0.1870 - val_loss: 2.5261 - val_acc: 0.2131\n",
      "Epoch 17/100\n",
      "4620/4620 [==============================] - 1s 127us/step - loss: 2.4624 - acc: 0.2292 - val_loss: 2.3904 - val_acc: 0.2434\n",
      "Epoch 18/100\n",
      "4620/4620 [==============================] - 1s 136us/step - loss: 2.3327 - acc: 0.2487 - val_loss: 2.2648 - val_acc: 0.2657\n",
      "Epoch 19/100\n",
      "4620/4620 [==============================] - 1s 136us/step - loss: 2.2131 - acc: 0.2877 - val_loss: 2.1477 - val_acc: 0.3167\n",
      "Epoch 20/100\n",
      "4620/4620 [==============================] - 1s 134us/step - loss: 2.0982 - acc: 0.3219 - val_loss: 2.0343 - val_acc: 0.3566\n",
      "Epoch 21/100\n",
      "4620/4620 [==============================] - 1s 127us/step - loss: 1.9841 - acc: 0.3582 - val_loss: 1.9171 - val_acc: 0.3990\n",
      "Epoch 22/100\n",
      "4620/4620 [==============================] - 1s 126us/step - loss: 1.8698 - acc: 0.4039 - val_loss: 1.8041 - val_acc: 0.4167\n",
      "Epoch 23/100\n",
      "4620/4620 [==============================] - 1s 122us/step - loss: 1.7599 - acc: 0.4301 - val_loss: 1.6965 - val_acc: 0.4338\n",
      "Epoch 24/100\n",
      "4620/4620 [==============================] - 0s 105us/step - loss: 1.6603 - acc: 0.4606 - val_loss: 1.6021 - val_acc: 0.4505\n",
      "Epoch 25/100\n",
      "4620/4620 [==============================] - 1s 125us/step - loss: 1.5733 - acc: 0.4807 - val_loss: 1.5195 - val_acc: 0.5040\n",
      "Epoch 26/100\n",
      "4620/4620 [==============================] - 1s 139us/step - loss: 1.4992 - acc: 0.5080 - val_loss: 1.4510 - val_acc: 0.5207\n",
      "Epoch 27/100\n",
      "4620/4620 [==============================] - 1s 126us/step - loss: 1.4346 - acc: 0.5273 - val_loss: 1.3890 - val_acc: 0.5581\n",
      "Epoch 28/100\n",
      "4620/4620 [==============================] - 1s 129us/step - loss: 1.3771 - acc: 0.5606 - val_loss: 1.3314 - val_acc: 0.5586\n",
      "Epoch 29/100\n",
      "4620/4620 [==============================] - 1s 137us/step - loss: 1.3263 - acc: 0.5710 - val_loss: 1.2805 - val_acc: 0.5818\n",
      "Epoch 30/100\n",
      "4620/4620 [==============================] - 1s 135us/step - loss: 1.2758 - acc: 0.5844 - val_loss: 1.2369 - val_acc: 0.5884\n",
      "Epoch 31/100\n",
      "4620/4620 [==============================] - 1s 144us/step - loss: 1.2303 - acc: 0.6032 - val_loss: 1.1882 - val_acc: 0.6136\n",
      "Epoch 32/100\n",
      "4620/4620 [==============================] - 1s 109us/step - loss: 1.1874 - acc: 0.6182 - val_loss: 1.1537 - val_acc: 0.6045\n",
      "Epoch 33/100\n",
      "4620/4620 [==============================] - 1s 142us/step - loss: 1.1464 - acc: 0.6268 - val_loss: 1.1086 - val_acc: 0.6379\n",
      "Epoch 34/100\n",
      "4620/4620 [==============================] - 1s 147us/step - loss: 1.1087 - acc: 0.6411 - val_loss: 1.0759 - val_acc: 0.6500\n",
      "Epoch 35/100\n",
      "4620/4620 [==============================] - 1s 128us/step - loss: 1.0735 - acc: 0.6584 - val_loss: 1.0458 - val_acc: 0.6717\n",
      "Epoch 36/100\n",
      "4620/4620 [==============================] - 1s 142us/step - loss: 1.0395 - acc: 0.6738 - val_loss: 1.0106 - val_acc: 0.6722\n",
      "Epoch 37/100\n",
      "4620/4620 [==============================] - 1s 120us/step - loss: 1.0085 - acc: 0.6879 - val_loss: 0.9809 - val_acc: 0.6924\n",
      "Epoch 38/100\n",
      "4620/4620 [==============================] - 1s 143us/step - loss: 0.9779 - acc: 0.7002 - val_loss: 0.9536 - val_acc: 0.7192\n",
      "Epoch 39/100\n",
      "4620/4620 [==============================] - 1s 113us/step - loss: 0.9511 - acc: 0.7093 - val_loss: 0.9245 - val_acc: 0.7121\n",
      "Epoch 40/100\n",
      "4620/4620 [==============================] - 1s 137us/step - loss: 0.9253 - acc: 0.7171 - val_loss: 0.9044 - val_acc: 0.7288\n",
      "Epoch 41/100\n",
      "4620/4620 [==============================] - 1s 135us/step - loss: 0.9006 - acc: 0.7214 - val_loss: 0.8808 - val_acc: 0.7359\n",
      "Epoch 42/100\n",
      "4620/4620 [==============================] - 1s 120us/step - loss: 0.8778 - acc: 0.7312 - val_loss: 0.8632 - val_acc: 0.7404\n",
      "Epoch 43/100\n",
      "4620/4620 [==============================] - 1s 137us/step - loss: 0.8571 - acc: 0.7351 - val_loss: 0.8405 - val_acc: 0.7540\n",
      "Epoch 44/100\n",
      "4620/4620 [==============================] - 1s 110us/step - loss: 0.8368 - acc: 0.7431 - val_loss: 0.8334 - val_acc: 0.7374\n",
      "Epoch 45/100\n",
      "4620/4620 [==============================] - 1s 132us/step - loss: 0.8189 - acc: 0.7476 - val_loss: 0.8252 - val_acc: 0.7409\n",
      "Epoch 46/100\n",
      "4620/4620 [==============================] - 1s 116us/step - loss: 0.8025 - acc: 0.7552 - val_loss: 0.7956 - val_acc: 0.7500\n",
      "Epoch 47/100\n",
      "4620/4620 [==============================] - 1s 137us/step - loss: 0.7883 - acc: 0.7587 - val_loss: 0.7869 - val_acc: 0.7687\n",
      "Epoch 48/100\n",
      "4620/4620 [==============================] - 1s 136us/step - loss: 0.7721 - acc: 0.7610 - val_loss: 0.7691 - val_acc: 0.7778\n",
      "Epoch 49/100\n",
      "4620/4620 [==============================] - 1s 118us/step - loss: 0.7581 - acc: 0.7675 - val_loss: 0.7569 - val_acc: 0.7657\n",
      "Epoch 50/100\n",
      "4620/4620 [==============================] - 1s 132us/step - loss: 0.7458 - acc: 0.7721 - val_loss: 0.7435 - val_acc: 0.7667\n",
      "Epoch 51/100\n",
      "4620/4620 [==============================] - 1s 137us/step - loss: 0.7336 - acc: 0.7712 - val_loss: 0.7337 - val_acc: 0.7763\n",
      "Epoch 52/100\n",
      "4620/4620 [==============================] - 1s 123us/step - loss: 0.7237 - acc: 0.7771 - val_loss: 0.7309 - val_acc: 0.7813\n",
      "Epoch 53/100\n",
      "4620/4620 [==============================] - 1s 125us/step - loss: 0.7128 - acc: 0.7762 - val_loss: 0.7170 - val_acc: 0.7763\n",
      "Epoch 54/100\n",
      "4620/4620 [==============================] - 1s 135us/step - loss: 0.7026 - acc: 0.7851 - val_loss: 0.7100 - val_acc: 0.7788\n",
      "Epoch 55/100\n",
      "4620/4620 [==============================] - 1s 144us/step - loss: 0.6929 - acc: 0.7823 - val_loss: 0.6950 - val_acc: 0.7864\n",
      "Epoch 56/100\n",
      "4620/4620 [==============================] - 1s 132us/step - loss: 0.6822 - acc: 0.7864 - val_loss: 0.6876 - val_acc: 0.7828\n",
      "Epoch 57/100\n",
      "4620/4620 [==============================] - 1s 126us/step - loss: 0.6732 - acc: 0.7903 - val_loss: 0.6810 - val_acc: 0.7864\n",
      "Epoch 58/100\n",
      "4620/4620 [==============================] - 1s 139us/step - loss: 0.6641 - acc: 0.7939 - val_loss: 0.6683 - val_acc: 0.7914\n",
      "Epoch 59/100\n",
      "4620/4620 [==============================] - 1s 137us/step - loss: 0.6565 - acc: 0.7937 - val_loss: 0.6623 - val_acc: 0.7960\n",
      "Epoch 60/100\n"
     ]
    },
    {
     "name": "stdout",
     "output_type": "stream",
     "text": [
      "4620/4620 [==============================] - 0s 107us/step - loss: 0.6477 - acc: 0.7957 - val_loss: 0.6597 - val_acc: 0.7970\n",
      "Epoch 61/100\n",
      "4620/4620 [==============================] - 0s 107us/step - loss: 0.6408 - acc: 0.8006 - val_loss: 0.6550 - val_acc: 0.7975\n",
      "Epoch 62/100\n",
      "4620/4620 [==============================] - 0s 106us/step - loss: 0.6319 - acc: 0.8022 - val_loss: 0.6388 - val_acc: 0.7970\n",
      "Epoch 63/100\n",
      "4620/4620 [==============================] - 0s 105us/step - loss: 0.6232 - acc: 0.8056 - val_loss: 0.6336 - val_acc: 0.8040\n",
      "Epoch 64/100\n",
      "4620/4620 [==============================] - 0s 105us/step - loss: 0.6177 - acc: 0.8087 - val_loss: 0.6349 - val_acc: 0.7949\n",
      "Epoch 65/100\n",
      "4620/4620 [==============================] - 0s 103us/step - loss: 0.6098 - acc: 0.8106 - val_loss: 0.6228 - val_acc: 0.8066\n",
      "Epoch 66/100\n",
      "4620/4620 [==============================] - 0s 107us/step - loss: 0.6026 - acc: 0.8123 - val_loss: 0.6113 - val_acc: 0.8131\n",
      "Epoch 67/100\n",
      "4620/4620 [==============================] - 1s 110us/step - loss: 0.5962 - acc: 0.8143 - val_loss: 0.6085 - val_acc: 0.8040\n",
      "Epoch 68/100\n",
      "4620/4620 [==============================] - 0s 105us/step - loss: 0.5883 - acc: 0.8171 - val_loss: 0.6063 - val_acc: 0.8005\n",
      "Epoch 69/100\n",
      "4620/4620 [==============================] - 1s 111us/step - loss: 0.5835 - acc: 0.8154 - val_loss: 0.6010 - val_acc: 0.8116\n",
      "Epoch 70/100\n",
      "4620/4620 [==============================] - 1s 119us/step - loss: 0.5746 - acc: 0.8197 - val_loss: 0.5927 - val_acc: 0.8116\n",
      "Epoch 71/100\n",
      "4620/4620 [==============================] - 1s 134us/step - loss: 0.5686 - acc: 0.8240 - val_loss: 0.5905 - val_acc: 0.8131\n",
      "Epoch 72/100\n",
      "4620/4620 [==============================] - 1s 128us/step - loss: 0.5626 - acc: 0.8262 - val_loss: 0.5792 - val_acc: 0.8177\n",
      "Epoch 73/100\n",
      "4620/4620 [==============================] - 1s 131us/step - loss: 0.5567 - acc: 0.8249 - val_loss: 0.5744 - val_acc: 0.8131\n",
      "Epoch 74/100\n",
      "4620/4620 [==============================] - 1s 126us/step - loss: 0.5516 - acc: 0.8284 - val_loss: 0.5705 - val_acc: 0.8167\n",
      "Epoch 75/100\n",
      "4620/4620 [==============================] - 1s 132us/step - loss: 0.5448 - acc: 0.8266 - val_loss: 0.5614 - val_acc: 0.8202\n",
      "Epoch 76/100\n",
      "4620/4620 [==============================] - 1s 138us/step - loss: 0.5378 - acc: 0.8284 - val_loss: 0.5532 - val_acc: 0.8177\n",
      "Epoch 77/100\n",
      "4620/4620 [==============================] - 1s 114us/step - loss: 0.5332 - acc: 0.8310 - val_loss: 0.5494 - val_acc: 0.8263\n",
      "Epoch 78/100\n",
      "4620/4620 [==============================] - 1s 117us/step - loss: 0.5279 - acc: 0.8327 - val_loss: 0.5507 - val_acc: 0.8202\n",
      "Epoch 79/100\n",
      "4620/4620 [==============================] - 1s 122us/step - loss: 0.5232 - acc: 0.8335 - val_loss: 0.5415 - val_acc: 0.8222\n",
      "Epoch 80/100\n",
      "4620/4620 [==============================] - 1s 128us/step - loss: 0.5169 - acc: 0.8366 - val_loss: 0.5422 - val_acc: 0.8237\n",
      "Epoch 81/100\n",
      "4620/4620 [==============================] - 1s 150us/step - loss: 0.5131 - acc: 0.8355 - val_loss: 0.5403 - val_acc: 0.8232\n",
      "Epoch 82/100\n",
      "4620/4620 [==============================] - 1s 139us/step - loss: 0.5063 - acc: 0.8374 - val_loss: 0.5285 - val_acc: 0.8283\n",
      "Epoch 83/100\n",
      "4620/4620 [==============================] - 1s 125us/step - loss: 0.5024 - acc: 0.8424 - val_loss: 0.5290 - val_acc: 0.8278\n",
      "Epoch 84/100\n",
      "4620/4620 [==============================] - 1s 133us/step - loss: 0.4977 - acc: 0.8426 - val_loss: 0.5236 - val_acc: 0.8298\n",
      "Epoch 85/100\n",
      "4620/4620 [==============================] - 1s 133us/step - loss: 0.4931 - acc: 0.8420 - val_loss: 0.5169 - val_acc: 0.8303\n",
      "Epoch 86/100\n",
      "4620/4620 [==============================] - 1s 122us/step - loss: 0.4882 - acc: 0.8448 - val_loss: 0.5137 - val_acc: 0.8333\n",
      "Epoch 87/100\n",
      "4620/4620 [==============================] - 1s 124us/step - loss: 0.4837 - acc: 0.8433 - val_loss: 0.5028 - val_acc: 0.8348\n",
      "Epoch 88/100\n",
      "4620/4620 [==============================] - 1s 125us/step - loss: 0.4788 - acc: 0.8476 - val_loss: 0.5029 - val_acc: 0.8278\n",
      "Epoch 89/100\n",
      "4620/4620 [==============================] - 1s 157us/step - loss: 0.4748 - acc: 0.8481 - val_loss: 0.5009 - val_acc: 0.8359\n",
      "Epoch 90/100\n",
      "4620/4620 [==============================] - 1s 134us/step - loss: 0.4697 - acc: 0.8468 - val_loss: 0.5018 - val_acc: 0.8338\n",
      "Epoch 91/100\n",
      "4620/4620 [==============================] - 1s 125us/step - loss: 0.4660 - acc: 0.8489 - val_loss: 0.4966 - val_acc: 0.8278\n",
      "Epoch 92/100\n",
      "4620/4620 [==============================] - 1s 123us/step - loss: 0.4626 - acc: 0.8491 - val_loss: 0.4953 - val_acc: 0.8364\n",
      "Epoch 93/100\n",
      "4620/4620 [==============================] - 1s 136us/step - loss: 0.4591 - acc: 0.8548 - val_loss: 0.4942 - val_acc: 0.8374\n",
      "Epoch 94/100\n",
      "4620/4620 [==============================] - 1s 143us/step - loss: 0.4535 - acc: 0.8556 - val_loss: 0.4869 - val_acc: 0.8359\n",
      "Epoch 95/100\n",
      "4620/4620 [==============================] - 1s 122us/step - loss: 0.4500 - acc: 0.8563 - val_loss: 0.4764 - val_acc: 0.8439\n",
      "Epoch 96/100\n",
      "4620/4620 [==============================] - 1s 128us/step - loss: 0.4465 - acc: 0.8556 - val_loss: 0.4773 - val_acc: 0.8444\n",
      "Epoch 97/100\n",
      "4620/4620 [==============================] - 1s 146us/step - loss: 0.4429 - acc: 0.8602 - val_loss: 0.4785 - val_acc: 0.8348\n",
      "Epoch 98/100\n",
      "4620/4620 [==============================] - 1s 140us/step - loss: 0.4384 - acc: 0.8600 - val_loss: 0.4723 - val_acc: 0.8485\n",
      "Epoch 99/100\n",
      "4620/4620 [==============================] - 1s 127us/step - loss: 0.4355 - acc: 0.8608 - val_loss: 0.4633 - val_acc: 0.8490\n",
      "Epoch 100/100\n",
      "4620/4620 [==============================] - 1s 125us/step - loss: 0.4325 - acc: 0.8639 - val_loss: 0.4620 - val_acc: 0.8449\n"
     ]
    }
   ],
   "source": [
    "hist = model.fit(X_train_scaled.as_matrix(), y_train_onehot, epochs=100, verbose=1, \n",
    "                 validation_data=(X_test_scaled.as_matrix(), y_test_onehot))"
   ]
  },
  {
   "cell_type": "code",
   "execution_count": 7,
   "metadata": {},
   "outputs": [],
   "source": [
    "## Función para gráficar\n",
    "import matplotlib.pyplot as plt\n",
    "def plot_data(loss,val_loss,acc,val_acc,error_class,val_error_class ,title1, title2,title3):\n",
    "    plt.close('all')\n",
    "\n",
    "    f, axarr = plt.subplots(3, sharex=True,figsize=(10,10))\n",
    "    axarr[0].set_title(title1)\n",
    "    axarr[0].plot(loss)\n",
    "    axarr[0].plot(val_loss)\n",
    "    axarr[0].set_xlabel('epoch')\n",
    "    axarr[0].set_ylabel(loss_function)\n",
    "    #plt.ylim(ymin=0, ymax=1)\n",
    "    \n",
    "    axarr[1].set_title(title2)\n",
    "    axarr[1].plot(acc)\n",
    "    axarr[1].plot(val_acc)\n",
    "    axarr[1].set_xlabel('epoch')\n",
    "    axarr[1].set_ylabel('acc')\n",
    "    #plt.ylim(ymin=0, ymax=1)\n",
    "    \n",
    "    axarr[2].set_title(title3)\n",
    "    axarr[2].plot(error_class)\n",
    "    axarr[2].plot(val_error_class)\n",
    "    axarr[2].set_xlabel('epoch')\n",
    "    axarr[2].set_ylabel('1-acc')\n",
    "    #plt.ylim(ymin=0, ymax=1)\n",
    "\n",
    "    axarr[2].legend(['train', 'test'], loc='upper right')\n",
    "    axarr[1].legend(['train', 'test'], loc='upper right')\n",
    "    axarr[0].legend(['train', 'test'], loc='upper right')\n",
    "    \n",
    "    plt.show()"
   ]
  },
  {
   "cell_type": "code",
   "execution_count": 8,
   "metadata": {},
   "outputs": [
    {
     "name": "stdout",
     "output_type": "stream",
     "text": [
      "dict_keys(['val_loss', 'val_acc', 'loss', 'acc'])\n",
      "dict_keys(['val_loss', 'val_acc', 'loss', 'acc'])\n"
     ]
    },
    {
     "data": {
      "image/png": "[encoded data removed]",
      "text/plain": [
       "<Figure size 720x720 with 3 Axes>"
      ]
     },
     "metadata": {},
     "output_type": "display_data"
    }
   ],
   "source": [
    "##Los valores de history\n",
    "print(hist.history.keys())\n",
    "print(hist.history.keys())\n",
    "\n",
    "plot_data(\n",
    "        hist.history['loss'], #gráfico 1 (mse vs epoch)\n",
    "        hist.history['val_loss'], \n",
    "        hist.history['acc'], #gráfico 2 (acc vs epoch)\n",
    "        hist.history['val_acc'],\n",
    "        list(map(lambda x: 1 - x, hist.history['acc'])), #gráfico 3 (error de clasficación)\n",
    "        list(map(lambda x: 1 - x, hist.history['val_acc'])), loss_function + ' vs Epoch', 'ACC vs Epoch' ,'Error de clasificación'\n",
    "    )\n"
   ]
  },
  {
   "cell_type": "markdown",
   "metadata": {},
   "source": [
    "- Gráfico 1: se oberva claramente como disminuye el error de clasficación a medida que aumenta el número de epochs\n",
    "- Gráfico 2: Se observa como aumenta accuracy a medida que aumenta el número de epochs. Con la configuración acc queda en 0.8636  y val_acc 0.8414\n",
    "- Gráfico 3: Considerando que 1 cuando la máquina se equivoca y 0 cuando acierta, se gráfica 1-history['acc'], entendiendo esto como el error de clasificación, lo que disminuye a medida que aumenta el número de epochs."
   ]
  }
 ],
 "metadata": {
  "kernelspec": {
   "display_name": "Python 3",
   "language": "python",
   "name": "python3"
  },
  "language_info": {
   "codemirror_mode": {
    "name": "ipython",
    "version": 3
   },
   "file_extension": ".py",
   "mimetype": "text/x-python",
   "name": "python",
   "nbconvert_exporter": "python",
   "pygments_lexer": "ipython3",
   "version": "3.6.4"
  }
 },
 "nbformat": 4,
 "nbformat_minor": 2
}
