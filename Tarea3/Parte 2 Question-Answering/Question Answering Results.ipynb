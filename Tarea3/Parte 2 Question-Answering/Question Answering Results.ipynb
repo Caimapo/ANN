{
 "cells": [
  {
   "cell_type": "code",
   "execution_count": 1,
   "metadata": {
    "ExecuteTime": {
     "end_time": "2018-08-31T00:03:02.484392Z",
     "start_time": "2018-08-31T00:02:53.859619Z"
    },
    "scrolled": true
   },
   "outputs": [
    {
     "name": "stderr",
     "output_type": "stream",
     "text": [
      "c:\\users\\caimapo\\appdata\\local\\programs\\python\\python36\\lib\\site-packages\\h5py\\__init__.py:36: FutureWarning: Conversion of the second argument of issubdtype from `float` to `np.floating` is deprecated. In future, it will be treated as `np.float64 == np.dtype(float).type`.\n",
      "  from ._conv import register_converters as _register_converters\n",
      "Using TensorFlow backend.\n"
     ]
    }
   ],
   "source": [
    "import os, time\n",
    "from collections import defaultdict\n",
    "from keras.models import load_model\n",
    "import pickle\n",
    "import pandas as pd"
   ]
  },
  {
   "cell_type": "code",
   "execution_count": 2,
   "metadata": {
    "ExecuteTime": {
     "end_time": "2018-08-31T00:03:14.846561Z",
     "start_time": "2018-08-31T00:03:03.380361Z"
    }
   },
   "outputs": [],
   "source": [
    "resultados_path = os.path.join(os.getcwd(),'results')\n",
    "model1 = load_model(os.path.join(resultados_path,'model_CuDNNGRU_.h5'))\n",
    "#model2 = load_model(os.path.join(resultados_path,'model_CuDNNLSTM_.h5'))\n",
    "#model3 = load_model(os.path.join(resultados_path,'model_RNN_.h5'))"
   ]
  },
  {
   "cell_type": "code",
   "execution_count": 3,
   "metadata": {
    "ExecuteTime": {
     "end_time": "2018-08-31T00:03:19.939296Z",
     "start_time": "2018-08-31T00:03:19.844191Z"
    }
   },
   "outputs": [],
   "source": [
    "df_test = pd.read_csv(os.path.join(os.getcwd(),'data','test_Q.csv'))\n",
    "\n",
    "with open(os.path.join(os.getcwd(),'temp','Xtest_question.pickle'),'rb') as p_file:\n",
    "    Xtest_question = pickle.load(p_file)\n",
    "with open(os.path.join(os.getcwd(),'temp','vocab_answer.pickle'),'rb') as p_file:\n",
    "    vocab_answer = pickle.load(p_file)\n",
    "with open(os.path.join(os.getcwd(),'temp','vocab_question.pickle'),'rb') as p_file:\n",
    "    vocab_question = pickle.load(p_file)\n",
    "with open(os.path.join(os.getcwd(),'temp','vocabQ_indices.pickle'),'rb') as p_file:\n",
    "    vocabQ_indices = pickle.load(p_file)\n",
    "with open(os.path.join(os.getcwd(),'temp','indices_vocabA.pickle'),'rb') as p_file:\n",
    "    indices_vocabA = pickle.load(p_file)"
   ]
  },
  {
   "cell_type": "code",
   "execution_count": 4,
   "metadata": {
    "ExecuteTime": {
     "end_time": "2018-08-31T00:03:20.859189Z",
     "start_time": "2018-08-31T00:03:20.850185Z"
    }
   },
   "outputs": [
    {
     "data": {
      "text/plain": [
       "(11873, 60)"
      ]
     },
     "execution_count": 4,
     "metadata": {},
     "output_type": "execute_result"
    }
   ],
   "source": [
    "Xtest_question.shape"
   ]
  },
  {
   "cell_type": "code",
   "execution_count": 5,
   "metadata": {
    "ExecuteTime": {
     "end_time": "2018-08-31T00:03:22.433457Z",
     "start_time": "2018-08-31T00:03:22.428451Z"
    }
   },
   "outputs": [
    {
     "data": {
      "text/plain": [
       "array([[41693, 15790,  8164, ...,     0,     0,     0],\n",
       "       [33251, 28626, 28183, ...,     0,     0,     0],\n",
       "       [ 4045, 16661, 27689, ...,     0,     0,     0],\n",
       "       ...,\n",
       "       [15790, 20168, 28183, ...,     0,     0,     0],\n",
       "       [15790, 27235, 30533, ...,     0,     0,     0],\n",
       "       [15790, 27235, 20168, ...,     0,     0,     0]])"
      ]
     },
     "execution_count": 5,
     "metadata": {},
     "output_type": "execute_result"
    }
   ],
   "source": [
    "Xtest_question.reshape((11873,60,))"
   ]
  },
  {
   "cell_type": "code",
   "execution_count": 6,
   "metadata": {
    "ExecuteTime": {
     "end_time": "2018-08-31T00:03:23.359553Z",
     "start_time": "2018-08-31T00:03:23.355541Z"
    }
   },
   "outputs": [
    {
     "data": {
      "text/plain": [
       "(11873, 60)"
      ]
     },
     "execution_count": 6,
     "metadata": {},
     "output_type": "execute_result"
    }
   ],
   "source": [
    "Xtest_question.shape"
   ]
  },
  {
   "cell_type": "code",
   "execution_count": 7,
   "metadata": {
    "ExecuteTime": {
     "end_time": "2018-08-31T00:03:24.221498Z",
     "start_time": "2018-08-31T00:03:24.217514Z"
    }
   },
   "outputs": [
    {
     "data": {
      "text/plain": [
       "'abell'"
      ]
     },
     "execution_count": 7,
     "metadata": {},
     "output_type": "execute_result"
    }
   ],
   "source": [
    "vocab_question[39080]\n"
   ]
  },
  {
   "cell_type": "code",
   "execution_count": 8,
   "metadata": {
    "ExecuteTime": {
     "end_time": "2018-08-31T00:03:25.525193Z",
     "start_time": "2018-08-31T00:03:25.521176Z"
    }
   },
   "outputs": [
    {
     "name": "stdout",
     "output_type": "stream",
     "text": [
      "(60,)\n",
      "(1, 60)\n"
     ]
    }
   ],
   "source": [
    "example = Xtest_question[1]\n",
    "ex=example.reshape((1,60,))\n",
    "print(example.shape)\n",
    "print(ex.shape)"
   ]
  },
  {
   "cell_type": "code",
   "execution_count": 10,
   "metadata": {
    "ExecuteTime": {
     "end_time": "2018-08-31T00:03:34.959687Z",
     "start_time": "2018-08-31T00:03:33.083757Z"
    }
   },
   "outputs": [],
   "source": [
    "value = model1.predict(ex)"
   ]
  },
  {
   "cell_type": "code",
   "execution_count": 9,
   "metadata": {
    "ExecuteTime": {
     "end_time": "2018-08-31T00:03:29.040452Z",
     "start_time": "2018-08-31T00:03:29.033451Z"
    }
   },
   "outputs": [
    {
     "name": "stdout",
     "output_type": "stream",
     "text": [
      "__________________________________________________________________________________________________\n",
      "Layer (type)                    Output Shape         Param #     Connected to                     \n",
      "==================================================================================================\n",
      "input_1 (InputLayer)            (None, 60)           0                                            \n",
      "__________________________________________________________________________________________________\n",
      "embedding_1 (Embedding)         (None, 60, 64)       2691776     input_1[0][0]                    \n",
      "__________________________________________________________________________________________________\n",
      "cu_dnngru_1 (CuDNNGRU)          (None, 60, 128)      74496       embedding_1[0][0]                \n",
      "__________________________________________________________________________________________________\n",
      "time_distributed_1 (TimeDistrib (None, 60, 47)       6063        cu_dnngru_1[0][0]                \n",
      "__________________________________________________________________________________________________\n",
      "permute_1 (Permute)             (None, 47, 60)       0           time_distributed_1[0][0]         \n",
      "__________________________________________________________________________________________________\n",
      "activation_1 (Activation)       (None, 47, 60)       0           permute_1[0][0]                  \n",
      "__________________________________________________________________________________________________\n",
      "permute_2 (Permute)             (None, 60, 47)       0           activation_1[0][0]               \n",
      "__________________________________________________________________________________________________\n",
      "lambda_1 (Lambda)               (None, 47, 128)      0           cu_dnngru_1[0][0]                \n",
      "                                                                 permute_2[0][0]                  \n",
      "__________________________________________________________________________________________________\n",
      "cu_dnngru_2 (CuDNNGRU)          (None, 47, 128)      99072       lambda_1[0][0]                   \n",
      "__________________________________________________________________________________________________\n",
      "time_distributed_2 (TimeDistrib (None, 47, 47423)    6117567     cu_dnngru_2[0][0]                \n",
      "==================================================================================================\n",
      "Total params: 8,988,974\n",
      "Trainable params: 8,988,974\n",
      "Non-trainable params: 0\n",
      "__________________________________________________________________________________________________\n"
     ]
    }
   ],
   "source": [
    "model1.summary()"
   ]
  },
  {
   "cell_type": "code",
   "execution_count": 52,
   "metadata": {
    "ExecuteTime": {
     "end_time": "2018-08-30T22:40:50.184677Z",
     "start_time": "2018-08-30T22:40:50.179691Z"
    }
   },
   "outputs": [
    {
     "data": {
      "text/plain": [
       "(1, 47, 47423)"
      ]
     },
     "execution_count": 52,
     "metadata": {},
     "output_type": "execute_result"
    }
   ],
   "source": [
    "value.shape"
   ]
  },
  {
   "cell_type": "code",
   "execution_count": 11,
   "metadata": {
    "ExecuteTime": {
     "end_time": "2018-08-31T00:03:40.070528Z",
     "start_time": "2018-08-31T00:03:40.066563Z"
    }
   },
   "outputs": [
    {
     "name": "stdout",
     "output_type": "stream",
     "text": [
      "[[[1.19022043e-04 2.11404127e-04 8.35010269e-06 ... 5.91784953e-07\n",
      "   2.23747043e-06 1.43329669e-06]\n",
      "  [1.00577017e-02 1.17471545e-05 7.60854164e-06 ... 2.33514152e-06\n",
      "   2.60590823e-05 2.58781711e-06]\n",
      "  [3.02984565e-02 3.25669935e-05 3.36540666e-06 ... 1.32134601e-05\n",
      "   2.37593595e-05 4.38707457e-06]\n",
      "  ...\n",
      "  [9.99964237e-01 1.86745619e-11 4.22336832e-10 ... 2.79410745e-10\n",
      "   8.38289382e-10 3.23771127e-14]\n",
      "  [9.99969006e-01 1.85884381e-11 3.16147081e-10 ... 2.89967939e-10\n",
      "   8.21522850e-10 3.06602041e-14]\n",
      "  [9.99966502e-01 1.86520712e-11 3.61135788e-10 ... 3.13238213e-10\n",
      "   8.44432690e-10 3.08398902e-14]]]\n"
     ]
    }
   ],
   "source": [
    "print(value)"
   ]
  },
  {
   "cell_type": "code",
   "execution_count": 54,
   "metadata": {
    "ExecuteTime": {
     "end_time": "2018-08-30T22:40:55.200808Z",
     "start_time": "2018-08-30T22:40:55.195822Z"
    }
   },
   "outputs": [
    {
     "data": {
      "text/plain": [
       "(47, 47423)"
      ]
     },
     "execution_count": 54,
     "metadata": {},
     "output_type": "execute_result"
    }
   ],
   "source": [
    "val = value.reshape(value.shape[1:])\n",
    "val.shape"
   ]
  },
  {
   "cell_type": "code",
   "execution_count": 56,
   "metadata": {
    "ExecuteTime": {
     "end_time": "2018-08-30T22:41:07.923468Z",
     "start_time": "2018-08-30T22:41:07.916487Z"
    }
   },
   "outputs": [
    {
     "name": "stdout",
     "output_type": "stream",
     "text": [
      "(47,)\n",
      "0.9999431\n"
     ]
    }
   ],
   "source": [
    "import numpy as np\n",
    "\n",
    "vak = np.sum(val,axis=1)\n",
    "print(vak.shape)\n",
    "print(vak[1])"
   ]
  },
  {
   "cell_type": "code",
   "execution_count": 61,
   "metadata": {
    "ExecuteTime": {
     "end_time": "2018-08-30T23:09:26.854421Z",
     "start_time": "2018-08-30T23:09:26.850432Z"
    }
   },
   "outputs": [
    {
     "data": {
      "text/plain": [
       "47423"
      ]
     },
     "execution_count": 61,
     "metadata": {},
     "output_type": "execute_result"
    }
   ],
   "source": [
    "len(indices_vocabA)"
   ]
  },
  {
   "cell_type": "code",
   "execution_count": 97,
   "metadata": {
    "ExecuteTime": {
     "end_time": "2018-08-30T23:33:43.128283Z",
     "start_time": "2018-08-30T23:33:43.121303Z"
    }
   },
   "outputs": [],
   "source": [
    "def predict_words(model, example):\n",
    "    prediction = model.predict(example)\n",
    "    prediction = prediction.reshape(prediction.shape[1:])\n",
    "    palabra_elegida = np.array([])\n",
    "    for p_palabra in prediction:\n",
    "        p_palabra = p_palabra/np.sum(p_palabra)\n",
    "        palabra_elegida = np.append(\n",
    "            palabra_elegida, np.random.choice(p_palabra.shape[0], p=p_palabra))\n",
    "    return palabra_elegida"
   ]
  },
  {
   "cell_type": "code",
   "execution_count": 109,
   "metadata": {
    "ExecuteTime": {
     "end_time": "2018-08-30T23:45:34.756892Z",
     "start_time": "2018-08-30T23:45:34.744925Z"
    }
   },
   "outputs": [],
   "source": [
    "def show_examples(model, indexs):\n",
    "\n",
    "    for i in range(len(indexs)):\n",
    "        #indexs = np.random.randint(0,len(Xtest_question))\n",
    "        example = Xtest_question[indexs[i]]\n",
    "        example = example.reshape((1,60,))\n",
    "        indexes_answer = predict_words(model, example)\n",
    "\n",
    "        question = df_test[\"question\"][indexs[i]]\n",
    "        print(\"Pregunta: \", question)\n",
    "        answer = \"\"\n",
    "        for index in indexes_answer:\n",
    "            if indices_vocabA[index] == \"#end\":  # el final de la oracion\n",
    "                continue\n",
    "            else:\n",
    "                answer += indices_vocabA[indexs[i]] + \" \"\n",
    "        print(\"Respuesta: \", answer)\n",
    "    print(\"Los ha predecido todos!\")"
   ]
  },
  {
   "cell_type": "code",
   "execution_count": 112,
   "metadata": {
    "ExecuteTime": {
     "end_time": "2018-08-30T23:45:56.804509Z",
     "start_time": "2018-08-30T23:45:56.800521Z"
    }
   },
   "outputs": [],
   "source": [
    "tipos=np.random.randint(0,len(Xtest_question),size=10)"
   ]
  },
  {
   "cell_type": "code",
   "execution_count": 115,
   "metadata": {
    "ExecuteTime": {
     "end_time": "2018-08-30T23:49:04.365283Z",
     "start_time": "2018-08-30T23:49:03.816205Z"
    }
   },
   "outputs": [
    {
     "name": "stdout",
     "output_type": "stream",
     "text": [
      "Pregunta:  The university was a founding force behind what conference?\n",
      "Respuesta:  khan khan khan \n",
      "Pregunta:  When was the Ottoman Caliphate abolished?\n",
      "Respuesta:  top top \n",
      "Pregunta:  Which region of California is Palm Springs located in?\n",
      "Respuesta:  Funnel Funnel Funnel Funnel Funnel Funnel Funnel \n",
      "Pregunta:  When was the first geological map of the entire earth created?\n",
      "Respuesta:  pains \n",
      "Pregunta:  What did Donald Davies develop in the late 1950s?\n",
      "Respuesta:  trophies trophies trophies trophies \n",
      "Pregunta:  What club won 118 tournaments and 15 national championships?\n",
      "Respuesta:  overthrow overthrow overthrow overthrow overthrow \n",
      "Pregunta:  Who had a main goal of attracting the wealthy to Harvard?\n",
      "Respuesta:  glamour glamour glamour \n",
      "Pregunta:  A vertical force pointing northeast can be split into how many forces?\n",
      "Respuesta:  Site Site Site Site \n",
      "Pregunta:  Point Conception is an example of a landmark among what boundary of southern California?\n",
      "Respuesta:  Luigi Luigi \n",
      "Pregunta:  How much of the lake connecting with the Rhine can you see from the German islands?\n",
      "Respuesta:  Escalators Escalators \n",
      "Los ha predecido todos!\n"
     ]
    }
   ],
   "source": [
    "show_examples(model1,tipos)"
   ]
  },
  {
   "cell_type": "code",
   "execution_count": 116,
   "metadata": {
    "ExecuteTime": {
     "end_time": "2018-08-30T23:49:06.499803Z",
     "start_time": "2018-08-30T23:49:05.952241Z"
    }
   },
   "outputs": [
    {
     "name": "stdout",
     "output_type": "stream",
     "text": [
      "Pregunta:  The university was a founding force behind what conference?\n",
      "Respuesta:  khan khan khan khan \n",
      "Pregunta:  When was the Ottoman Caliphate abolished?\n",
      "Respuesta:  top top \n",
      "Pregunta:  Which region of California is Palm Springs located in?\n",
      "Respuesta:  Funnel Funnel Funnel Funnel Funnel Funnel Funnel Funnel Funnel Funnel Funnel Funnel \n",
      "Pregunta:  When was the first geological map of the entire earth created?\n",
      "Respuesta:  pains pains \n",
      "Pregunta:  What did Donald Davies develop in the late 1950s?\n",
      "Respuesta:  trophies trophies \n",
      "Pregunta:  What club won 118 tournaments and 15 national championships?\n",
      "Respuesta:  overthrow overthrow overthrow \n",
      "Pregunta:  Who had a main goal of attracting the wealthy to Harvard?\n",
      "Respuesta:  glamour \n",
      "Pregunta:  A vertical force pointing northeast can be split into how many forces?\n",
      "Respuesta:  Site Site Site \n",
      "Pregunta:  Point Conception is an example of a landmark among what boundary of southern California?\n",
      "Respuesta:  Luigi \n",
      "Pregunta:  How much of the lake connecting with the Rhine can you see from the German islands?\n",
      "Respuesta:  Escalators Escalators \n",
      "Los ha predecido todos!\n"
     ]
    }
   ],
   "source": [
    "show_examples(model2,tipos)"
   ]
  },
  {
   "cell_type": "code",
   "execution_count": 117,
   "metadata": {
    "ExecuteTime": {
     "end_time": "2018-08-30T23:49:10.866091Z",
     "start_time": "2018-08-30T23:49:10.041274Z"
    }
   },
   "outputs": [
    {
     "name": "stdout",
     "output_type": "stream",
     "text": [
      "Pregunta:  The university was a founding force behind what conference?\n",
      "Respuesta:  khan khan \n",
      "Pregunta:  When was the Ottoman Caliphate abolished?\n",
      "Respuesta:  top top \n",
      "Pregunta:  Which region of California is Palm Springs located in?\n",
      "Respuesta:  Funnel Funnel Funnel Funnel Funnel \n",
      "Pregunta:  When was the first geological map of the entire earth created?\n",
      "Respuesta:  pains \n",
      "Pregunta:  What did Donald Davies develop in the late 1950s?\n",
      "Respuesta:  trophies trophies \n",
      "Pregunta:  What club won 118 tournaments and 15 national championships?\n",
      "Respuesta:  overthrow \n",
      "Pregunta:  Who had a main goal of attracting the wealthy to Harvard?\n",
      "Respuesta:  glamour \n",
      "Pregunta:  A vertical force pointing northeast can be split into how many forces?\n",
      "Respuesta:  Site Site Site Site Site Site Site Site \n",
      "Pregunta:  Point Conception is an example of a landmark among what boundary of southern California?\n",
      "Respuesta:  Luigi Luigi \n",
      "Pregunta:  How much of the lake connecting with the Rhine can you see from the German islands?\n",
      "Respuesta:  Escalators Escalators \n",
      "Los ha predecido todos!\n"
     ]
    }
   ],
   "source": [
    "show_examples(model3,tipos)"
   ]
  }
 ],
 "metadata": {
  "kernelspec": {
   "display_name": "Python 3",
   "language": "python",
   "name": "python3"
  },
  "language_info": {
   "codemirror_mode": {
    "name": "ipython",
    "version": 3
   },
   "file_extension": ".py",
   "mimetype": "text/x-python",
   "name": "python",
   "nbconvert_exporter": "python",
   "pygments_lexer": "ipython3",
   "version": "3.6.5"
  },
  "toc": {
   "base_numbering": 1,
   "nav_menu": {},
   "number_sections": true,
   "sideBar": true,
   "skip_h1_title": false,
   "title_cell": "Tabla de contenidos",
   "title_sidebar": "Contenido",
   "toc_cell": false,
   "toc_position": {},
   "toc_section_display": true,
   "toc_window_display": true
  }
 },
 "nbformat": 4,
 "nbformat_minor": 2
}
