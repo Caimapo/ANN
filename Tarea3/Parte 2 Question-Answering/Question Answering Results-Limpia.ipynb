{
 "cells": [
  {
   "cell_type": "code",
   "execution_count": 1,
   "metadata": {
    "ExecuteTime": {
     "end_time": "2018-08-31T00:25:51.224232Z",
     "start_time": "2018-08-31T00:25:43.750938Z"
    },
    "scrolled": true
   },
   "outputs": [
    {
     "name": "stderr",
     "output_type": "stream",
     "text": [
      "c:\\users\\caimapo\\appdata\\local\\programs\\python\\python36\\lib\\site-packages\\h5py\\__init__.py:36: FutureWarning: Conversion of the second argument of issubdtype from `float` to `np.floating` is deprecated. In future, it will be treated as `np.float64 == np.dtype(float).type`.\n",
      "  from ._conv import register_converters as _register_converters\n",
      "Using TensorFlow backend.\n"
     ]
    }
   ],
   "source": [
    "import os, time\n",
    "from collections import defaultdict\n",
    "from keras.models import load_model\n",
    "import pickle\n",
    "import pandas as pd\n",
    "import numpy as np"
   ]
  },
  {
   "cell_type": "code",
   "execution_count": 2,
   "metadata": {
    "ExecuteTime": {
     "end_time": "2018-08-31T00:26:04.854252Z",
     "start_time": "2018-08-31T00:25:51.868977Z"
    }
   },
   "outputs": [],
   "source": [
    "resultados_path = os.path.join(os.getcwd(),'results')\n",
    "model1 = load_model(os.path.join(resultados_path,'model_CuDNNGRU_.h5'))\n",
    "model2 = load_model(os.path.join(resultados_path,'model_CuDNNLSTM_.h5'))\n",
    "model3 = load_model(os.path.join(resultados_path,'model_RNN_.h5'))"
   ]
  },
  {
   "cell_type": "code",
   "execution_count": 3,
   "metadata": {
    "ExecuteTime": {
     "end_time": "2018-08-31T00:26:28.806926Z",
     "start_time": "2018-08-31T00:26:28.715146Z"
    }
   },
   "outputs": [],
   "source": [
    "df_test = pd.read_csv(os.path.join(os.getcwd(),'data','test_Q.csv'))\n",
    "\n",
    "with open(os.path.join(os.getcwd(),'temp','Xtest_question.pickle'),'rb') as p_file:\n",
    "    Xtest_question = pickle.load(p_file)\n",
    "with open(os.path.join(os.getcwd(),'temp','vocab_answer.pickle'),'rb') as p_file:\n",
    "    vocab_answer = pickle.load(p_file)\n",
    "with open(os.path.join(os.getcwd(),'temp','vocab_question.pickle'),'rb') as p_file:\n",
    "    vocab_question = pickle.load(p_file)\n",
    "with open(os.path.join(os.getcwd(),'temp','vocabQ_indices.pickle'),'rb') as p_file:\n",
    "    vocabQ_indices = pickle.load(p_file)\n",
    "with open(os.path.join(os.getcwd(),'temp','indices_vocabA.pickle'),'rb') as p_file:\n",
    "    indices_vocabA = pickle.load(p_file)"
   ]
  },
  {
   "cell_type": "code",
   "execution_count": 4,
   "metadata": {
    "ExecuteTime": {
     "end_time": "2018-08-31T00:26:29.506704Z",
     "start_time": "2018-08-31T00:26:29.499723Z"
    }
   },
   "outputs": [],
   "source": [
    "def predict_words(model, example):\n",
    "    prediction = model.predict(example)\n",
    "    prediction = prediction.reshape(prediction.shape[1:])\n",
    "    palabra_elegida = np.array([])\n",
    "    for p_palabra in prediction:\n",
    "        p_palabra = p_palabra/np.sum(p_palabra)\n",
    "        palabra_elegida = np.append(\n",
    "            palabra_elegida, np.random.choice(p_palabra.shape[0], p=p_palabra))\n",
    "    return palabra_elegida"
   ]
  },
  {
   "cell_type": "code",
   "execution_count": 5,
   "metadata": {
    "ExecuteTime": {
     "end_time": "2018-08-31T00:26:30.817085Z",
     "start_time": "2018-08-31T00:26:30.804105Z"
    }
   },
   "outputs": [],
   "source": [
    "def show_examples(model, indexs):\n",
    "\n",
    "    for i in range(len(indexs)):\n",
    "        #indexs = np.random.randint(0,len(Xtest_question))\n",
    "        example = Xtest_question[indexs[i]]\n",
    "        example = example.reshape((1,60,))\n",
    "        indexes_answer = predict_words(model, example)\n",
    "\n",
    "        question = df_test[\"question\"][indexs[i]]\n",
    "        print(\"Pregunta: \", question)\n",
    "        answer = \"\"\n",
    "        for index in indexes_answer:\n",
    "            if indices_vocabA[index] == \"#end\":  # el final de la oracion\n",
    "                continue\n",
    "            else:\n",
    "                answer += indices_vocabA[indexs[i]] + \" \"\n",
    "        print(\"Respuesta: \", answer)\n",
    "    print(\"Los ha predecido todos!\")"
   ]
  },
  {
   "cell_type": "code",
   "execution_count": 6,
   "metadata": {
    "ExecuteTime": {
     "end_time": "2018-08-31T00:26:32.446465Z",
     "start_time": "2018-08-31T00:26:32.442466Z"
    }
   },
   "outputs": [],
   "source": [
    "tipos=np.random.randint(0,len(Xtest_question),size=10)"
   ]
  },
  {
   "cell_type": "code",
   "execution_count": 7,
   "metadata": {
    "ExecuteTime": {
     "end_time": "2018-08-31T00:26:36.137486Z",
     "start_time": "2018-08-31T00:26:34.831980Z"
    }
   },
   "outputs": [
    {
     "name": "stdout",
     "output_type": "stream",
     "text": [
      "Pregunta:  What is the force between two locations related to?\n",
      "Respuesta:  Patience \n",
      "Pregunta:  What caused UK to have an oil crisis in its own country?\n",
      "Respuesta:  768,868 768,868 768,868 768,868 \n",
      "Pregunta:  Were the centers profitable\n",
      "Respuesta:  subcutaneously subcutaneously subcutaneously subcutaneously subcutaneously subcutaneously \n",
      "Pregunta:  What is located after Rüdesheim am Rhein and Koblenz?\n",
      "Respuesta:  justify justify justify justify justify justify \n",
      "Pregunta:  What type of company is Van Gend en Loos?\n",
      "Respuesta:  handpump handpump handpump handpump handpump \n",
      "Pregunta:  What is considered to be a recreational euphoric?\n",
      "Respuesta:  Garten Garten Garten Garten Garten Garten Garten Garten Garten Garten Garten Garten Garten Garten Garten Garten \n",
      "Pregunta:  What are other irrelevant examples of a function problem>\n",
      "Respuesta:  multi-racials multi-racials multi-racials \n",
      "Pregunta:  How much of the water flow does the Waal get from the Rhine?\n",
      "Respuesta:  marshmallows marshmallows \n",
      "Pregunta:  Who asserted Russia's right to \"self-determination?\"\n",
      "Respuesta:  brocket brocket brocket brocket brocket brocket brocket brocket brocket brocket brocket brocket brocket brocket brocket brocket brocket brocket \n",
      "Pregunta:  What well known political scientists are currently on the university's faculty?\n",
      "Respuesta:  tornadoes tornadoes tornadoes tornadoes \n",
      "Los ha predecido todos!\n"
     ]
    }
   ],
   "source": [
    "show_examples(model1,tipos)"
   ]
  },
  {
   "cell_type": "code",
   "execution_count": 8,
   "metadata": {
    "ExecuteTime": {
     "end_time": "2018-08-31T00:26:39.046503Z",
     "start_time": "2018-08-31T00:26:38.516918Z"
    }
   },
   "outputs": [
    {
     "name": "stdout",
     "output_type": "stream",
     "text": [
      "Pregunta:  What is the force between two locations related to?\n",
      "Respuesta:  Patience \n",
      "Pregunta:  What caused UK to have an oil crisis in its own country?\n",
      "Respuesta:  768,868 \n",
      "Pregunta:  Were the centers profitable\n",
      "Respuesta:  subcutaneously subcutaneously subcutaneously subcutaneously \n",
      "Pregunta:  What is located after Rüdesheim am Rhein and Koblenz?\n",
      "Respuesta:  justify justify justify justify justify justify justify justify \n",
      "Pregunta:  What type of company is Van Gend en Loos?\n",
      "Respuesta:  handpump handpump handpump handpump handpump handpump handpump handpump handpump handpump handpump handpump \n",
      "Pregunta:  What is considered to be a recreational euphoric?\n",
      "Respuesta:  Garten Garten Garten Garten Garten Garten Garten Garten Garten Garten Garten Garten Garten Garten \n",
      "Pregunta:  What are other irrelevant examples of a function problem>\n",
      "Respuesta:  multi-racials multi-racials \n",
      "Pregunta:  How much of the water flow does the Waal get from the Rhine?\n",
      "Respuesta:  marshmallows marshmallows \n",
      "Pregunta:  Who asserted Russia's right to \"self-determination?\"\n",
      "Respuesta:  brocket brocket brocket brocket brocket brocket brocket brocket brocket brocket brocket brocket brocket brocket brocket brocket brocket brocket brocket brocket brocket brocket brocket \n",
      "Pregunta:  What well known political scientists are currently on the university's faculty?\n",
      "Respuesta:  tornadoes tornadoes \n",
      "Los ha predecido todos!\n"
     ]
    }
   ],
   "source": [
    "show_examples(model2,tipos)"
   ]
  },
  {
   "cell_type": "code",
   "execution_count": 9,
   "metadata": {
    "ExecuteTime": {
     "end_time": "2018-08-31T00:26:43.172367Z",
     "start_time": "2018-08-31T00:26:42.387467Z"
    }
   },
   "outputs": [
    {
     "name": "stdout",
     "output_type": "stream",
     "text": [
      "Pregunta:  What is the force between two locations related to?\n",
      "Respuesta:  Patience \n",
      "Pregunta:  What caused UK to have an oil crisis in its own country?\n",
      "Respuesta:  768,868 \n",
      "Pregunta:  Were the centers profitable\n",
      "Respuesta:  subcutaneously subcutaneously subcutaneously \n",
      "Pregunta:  What is located after Rüdesheim am Rhein and Koblenz?\n",
      "Respuesta:  justify justify \n",
      "Pregunta:  What type of company is Van Gend en Loos?\n",
      "Respuesta:  handpump handpump handpump \n",
      "Pregunta:  What is considered to be a recreational euphoric?\n",
      "Respuesta:  Garten Garten \n",
      "Pregunta:  What are other irrelevant examples of a function problem>\n",
      "Respuesta:  multi-racials \n",
      "Pregunta:  How much of the water flow does the Waal get from the Rhine?\n",
      "Respuesta:  marshmallows marshmallows \n",
      "Pregunta:  Who asserted Russia's right to \"self-determination?\"\n",
      "Respuesta:  brocket brocket brocket brocket brocket brocket brocket brocket brocket brocket brocket \n",
      "Pregunta:  What well known political scientists are currently on the university's faculty?\n",
      "Respuesta:  tornadoes \n",
      "Los ha predecido todos!\n"
     ]
    }
   ],
   "source": [
    "show_examples(model3,tipos)"
   ]
  },
  {
   "cell_type": "markdown",
   "metadata": {},
   "source": [
    "Benchmark"
   ]
  },
  {
   "cell_type": "code",
   "execution_count": 12,
   "metadata": {
    "ExecuteTime": {
     "end_time": "2018-08-31T00:36:06.593750Z",
     "start_time": "2018-08-31T00:28:56.203043Z"
    }
   },
   "outputs": [
    {
     "name": "stdout",
     "output_type": "stream",
     "text": [
      "Los ha predecido todos!\n"
     ]
    }
   ],
   "source": [
    "\n",
    "dic_predictions = {}\n",
    "for example,id_e in zip(Xtest_question,df_test[\"id\"]): #todos los ejemplos\n",
    "    example = example.reshape((1,60,))\n",
    "    indexes_answer = predict_words(model1,example) #predice palabra en cada instante\n",
    "    answer = \"\"\n",
    "    for index in indexes_answer:\n",
    "        if indices_vocabA[index]==\"#end\": # el final de la oracion\n",
    "            continue\n",
    "        else:\n",
    "            answer+=indices_vocabA[index]+\" \"\n",
    "    dic_predictions[id_e] = answer\n",
    "print(\"Los ha predecido todos!\")\n",
    "json_save = json.dumps(dic_predictions)\n",
    "archivo = open(\"predictions1\",\"w\")\n",
    "archivo.write(json_save)\n",
    "archivo.close()"
   ]
  },
  {
   "cell_type": "code",
   "execution_count": 13,
   "metadata": {
    "ExecuteTime": {
     "end_time": "2018-08-31T00:44:10.262938Z",
     "start_time": "2018-08-31T00:36:44.428276Z"
    }
   },
   "outputs": [
    {
     "name": "stdout",
     "output_type": "stream",
     "text": [
      "Los ha predecido todos!\n"
     ]
    }
   ],
   "source": [
    "\n",
    "dic_predictions = {}\n",
    "for example,id_e in zip(Xtest_question,df_test[\"id\"]): #todos los ejemplos\n",
    "    example = example.reshape((1,60,))\n",
    "    indexes_answer = predict_words(model2,example) #predice palabra en cada instante\n",
    "    answer = \"\"\n",
    "    for index in indexes_answer:\n",
    "        if indices_vocabA[index]==\"#end\": # el final de la oracion\n",
    "            continue\n",
    "        else:\n",
    "            answer+=indices_vocabA[index]+\" \"\n",
    "    dic_predictions[id_e] = answer\n",
    "print(\"Los ha predecido todos!\")\n",
    "json_save = json.dumps(dic_predictions)\n",
    "archivo = open(\"predictions2\",\"w\")\n",
    "archivo.write(json_save)\n",
    "archivo.close()"
   ]
  },
  {
   "cell_type": "code",
   "execution_count": 14,
   "metadata": {
    "ExecuteTime": {
     "end_time": "2018-08-31T01:17:07.517148Z",
     "start_time": "2018-08-31T01:04:49.971103Z"
    }
   },
   "outputs": [
    {
     "name": "stdout",
     "output_type": "stream",
     "text": [
      "Los ha predecido todos!\n"
     ]
    }
   ],
   "source": [
    "\n",
    "dic_predictions = {}\n",
    "for example,id_e in zip(Xtest_question,df_test[\"id\"]): #todos los ejemplos\n",
    "    example = example.reshape((1,60,))\n",
    "    indexes_answer = predict_words(model3,example) #predice palabra en cada instante\n",
    "    answer = \"\"\n",
    "    for index in indexes_answer:\n",
    "        if indices_vocabA[index]==\"#end\": # el final de la oracion\n",
    "            continue\n",
    "        else:\n",
    "            answer+=indices_vocabA[index]+\" \"\n",
    "    dic_predictions[id_e] = answer\n",
    "print(\"Los ha predecido todos!\")\n",
    "json_save = json.dumps(dic_predictions)\n",
    "archivo = open(\"predictions3\",\"w\")\n",
    "archivo.write(json_save)\n",
    "archivo.close()"
   ]
  }
 ],
 "metadata": {
  "kernelspec": {
   "display_name": "Python 3",
   "language": "python",
   "name": "python3"
  },
  "language_info": {
   "codemirror_mode": {
    "name": "ipython",
    "version": 3
   },
   "file_extension": ".py",
   "mimetype": "text/x-python",
   "name": "python",
   "nbconvert_exporter": "python",
   "pygments_lexer": "ipython3",
   "version": "3.6.5"
  },
  "toc": {
   "base_numbering": 1,
   "nav_menu": {},
   "number_sections": true,
   "sideBar": true,
   "skip_h1_title": false,
   "title_cell": "Tabla de contenidos",
   "title_sidebar": "Contenido",
   "toc_cell": false,
   "toc_position": {
    "height": "calc(100% - 180px)",
    "left": "10px",
    "top": "150px",
    "width": "429px"
   },
   "toc_section_display": true,
   "toc_window_display": true
  }
 },
 "nbformat": 4,
 "nbformat_minor": 2
}
