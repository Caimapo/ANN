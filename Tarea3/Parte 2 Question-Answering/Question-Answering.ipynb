{
 "cells": [
  {
   "cell_type": "markdown",
   "metadata": {
    "ExecuteTime": {
     "end_time": "2018-09-01T00:31:27.215781Z",
     "start_time": "2018-09-01T00:31:27.210814Z"
    }
   },
   "source": [
    "# Tarea 3 - Parte 2\n",
    "# INF477 Redes Neuronales Artificiales I-2018\n",
    "\n",
    "Profesor: Dr. Ricardo Ñanculef -- \n",
    "Ayudante: Francisco Mena\n",
    "\n",
    "Alumnos:\n",
    "- Jose Caimapo, jose.caimapo.12@sansano.usm.cl\n",
    "\n",
    "- Eliana Providel Godoy, eprovide@inf.utfsm.cl"
   ]
  },
  {
   "cell_type": "markdown",
   "metadata": {
    "ExecuteTime": {
     "end_time": "2018-08-28T02:29:09.308433Z",
     "start_time": "2018-08-28T02:29:09.290504Z"
    }
   },
   "source": [
    "## 2. *Question Answering*\n",
    "\n",
    "Las redes neuronales recurrentes hoy en día han sido aplicadas a varios problemas que involucra dependencia temporal de los datos de entrada, en textos por lo común, tal como los modelos *sequence to sequence* de traducción, resumir textos, formular hipótesis de un extracto o, como veremos en esta actividad, generar respuesta en base a alguna pregunta. En imágenes también han sido aplicadas, ya sea a procesamiento de videos u a otro problema en que las imágenes tienen dependencia temporal unas con otras.\n",
    "\n",
    "Para ésta actividad trabajaremos el dataset de __[SQuAD2.0](https://rajpurkar.github.io/SQuAD-explorer/)__  (The Stanford Question Answering Dataset), los datos se los entregamos en formato *csv*, sin ningún preprocesamiento, para que sea mas fácil la lectura. La tarea como ya se comentó consiste en predecir una respuesta (secuencia de palabras) que contesten una pregunta también en forma de secuencia de palabras, con un enfoque *encoder-decoder* con módulos de antención.\n",
    "\n",
    "\n",
    "<img src=\"https://d2908q01vomqb2.cloudfront.net/f1f836cb4ea6efb2a0b1b99f41ad8b103eff4b59/2017/07/20/sockeye_1.gif\" title=\"Attention\" width=\"65%\" style=\"float: right;\"/>\n",
    "\n",
    "\n",
    "<img src=\"http://www.wildml.com/wp-content/uploads/2015/12/Screen-Shot-2015-12-30-at-1.16.08-PM.png\" title=\"Attention\" width=\"35%\" style=\"float: left;\"/>\n",
    "\n",
    "\n",
    "\n",
    "Los módulos de antención [[6]](#refs) son una variación a la arquitectura *encoder-decoder* en donde se agrega que para cada instante de tiempo de la **decodificación** $T'$ hay una combinación lineal del vector de codificación en todos los instantes tiempo $T$, ésto es para que en cada instante de tiempo de la decodificación se ponga atención a cierta información en toda la secuencia de entrada. \n",
    "\n",
    "\n",
    "$$\n",
    "y_{T'} = \\sum_{t}^{T} \\alpha_{T',t} \\cdot h_t^{codificacion}\n",
    "$$"
   ]
  },
  {
   "cell_type": "markdown",
   "metadata": {},
   "source": [
    "> a) Carge los datos y descríbalos ¿Cuántos ejemplos se tienen para entrenar y para predecir?\n"
   ]
  },
  {
   "cell_type": "code",
   "execution_count": 1,
   "metadata": {
    "ExecuteTime": {
     "end_time": "2018-08-31T23:23:03.568206Z",
     "start_time": "2018-08-31T23:23:01.875217Z"
    }
   },
   "outputs": [],
   "source": [
    "import pandas as pd\n",
    "import time, os\n",
    "from collections import defaultdict\n",
    "\n",
    "\n",
    "df_train = pd.read_csv(os.path.join(os.getcwd(),'data','train_Q-A.csv'))\n",
    "df_train.dropna(inplace=True)\n",
    "df_test = pd.read_csv(os.path.join(os.getcwd(),'data','test_Q.csv'))"
   ]
  },
  {
   "cell_type": "code",
   "execution_count": 2,
   "metadata": {
    "ExecuteTime": {
     "end_time": "2018-08-31T23:23:04.399992Z",
     "start_time": "2018-08-31T23:23:04.386030Z"
    }
   },
   "outputs": [
    {
     "data": {
      "text/html": [
       "<div>\n",
       "<style scoped>\n",
       "    .dataframe tbody tr th:only-of-type {\n",
       "        vertical-align: middle;\n",
       "    }\n",
       "\n",
       "    .dataframe tbody tr th {\n",
       "        vertical-align: top;\n",
       "    }\n",
       "\n",
       "    .dataframe thead th {\n",
       "        text-align: right;\n",
       "    }\n",
       "</style>\n",
       "<table border=\"1\" class=\"dataframe\">\n",
       "  <thead>\n",
       "    <tr style=\"text-align: right;\">\n",
       "      <th></th>\n",
       "      <th>id</th>\n",
       "      <th>question</th>\n",
       "      <th>answer</th>\n",
       "    </tr>\n",
       "  </thead>\n",
       "  <tbody>\n",
       "    <tr>\n",
       "      <th>0</th>\n",
       "      <td>56be85543aeaaa14008c9063</td>\n",
       "      <td>When did Beyonce start becoming popular?</td>\n",
       "      <td>in the late 1990s</td>\n",
       "    </tr>\n",
       "    <tr>\n",
       "      <th>1</th>\n",
       "      <td>56be85543aeaaa14008c9065</td>\n",
       "      <td>What areas did Beyonce compete in when she was...</td>\n",
       "      <td>singing and dancing</td>\n",
       "    </tr>\n",
       "    <tr>\n",
       "      <th>2</th>\n",
       "      <td>56be85543aeaaa14008c9066</td>\n",
       "      <td>When did Beyonce leave Destiny's Child and bec...</td>\n",
       "      <td>2003</td>\n",
       "    </tr>\n",
       "    <tr>\n",
       "      <th>3</th>\n",
       "      <td>56bf6b0f3aeaaa14008c9601</td>\n",
       "      <td>In what city and state did Beyonce  grow up?</td>\n",
       "      <td>Houston, Texas</td>\n",
       "    </tr>\n",
       "    <tr>\n",
       "      <th>4</th>\n",
       "      <td>56bf6b0f3aeaaa14008c9602</td>\n",
       "      <td>In which decade did Beyonce become famous?</td>\n",
       "      <td>late 1990s</td>\n",
       "    </tr>\n",
       "  </tbody>\n",
       "</table>\n",
       "</div>"
      ],
      "text/plain": [
       "                         id  \\\n",
       "0  56be85543aeaaa14008c9063   \n",
       "1  56be85543aeaaa14008c9065   \n",
       "2  56be85543aeaaa14008c9066   \n",
       "3  56bf6b0f3aeaaa14008c9601   \n",
       "4  56bf6b0f3aeaaa14008c9602   \n",
       "\n",
       "                                            question               answer  \n",
       "0           When did Beyonce start becoming popular?    in the late 1990s  \n",
       "1  What areas did Beyonce compete in when she was...  singing and dancing  \n",
       "2  When did Beyonce leave Destiny's Child and bec...                 2003  \n",
       "3      In what city and state did Beyonce  grow up?        Houston, Texas  \n",
       "4         In which decade did Beyonce become famous?           late 1990s  "
      ]
     },
     "execution_count": 2,
     "metadata": {},
     "output_type": "execute_result"
    }
   ],
   "source": [
    "df_train.head()"
   ]
  },
  {
   "cell_type": "code",
   "execution_count": 3,
   "metadata": {
    "ExecuteTime": {
     "end_time": "2018-08-31T23:23:05.727440Z",
     "start_time": "2018-08-31T23:23:05.719463Z"
    },
    "scrolled": true
   },
   "outputs": [
    {
     "data": {
      "text/html": [
       "<div>\n",
       "<style scoped>\n",
       "    .dataframe tbody tr th:only-of-type {\n",
       "        vertical-align: middle;\n",
       "    }\n",
       "\n",
       "    .dataframe tbody tr th {\n",
       "        vertical-align: top;\n",
       "    }\n",
       "\n",
       "    .dataframe thead th {\n",
       "        text-align: right;\n",
       "    }\n",
       "</style>\n",
       "<table border=\"1\" class=\"dataframe\">\n",
       "  <thead>\n",
       "    <tr style=\"text-align: right;\">\n",
       "      <th></th>\n",
       "      <th>id</th>\n",
       "      <th>question</th>\n",
       "    </tr>\n",
       "  </thead>\n",
       "  <tbody>\n",
       "    <tr>\n",
       "      <th>0</th>\n",
       "      <td>56ddde6b9a695914005b9628</td>\n",
       "      <td>In what country is Normandy located?</td>\n",
       "    </tr>\n",
       "    <tr>\n",
       "      <th>1</th>\n",
       "      <td>56ddde6b9a695914005b9629</td>\n",
       "      <td>When were the Normans in Normandy?</td>\n",
       "    </tr>\n",
       "    <tr>\n",
       "      <th>2</th>\n",
       "      <td>56ddde6b9a695914005b962a</td>\n",
       "      <td>From which countries did the Norse originate?</td>\n",
       "    </tr>\n",
       "    <tr>\n",
       "      <th>3</th>\n",
       "      <td>56ddde6b9a695914005b962b</td>\n",
       "      <td>Who was the Norse leader?</td>\n",
       "    </tr>\n",
       "    <tr>\n",
       "      <th>4</th>\n",
       "      <td>56ddde6b9a695914005b962c</td>\n",
       "      <td>What century did the Normans first gain their ...</td>\n",
       "    </tr>\n",
       "  </tbody>\n",
       "</table>\n",
       "</div>"
      ],
      "text/plain": [
       "                         id                                           question\n",
       "0  56ddde6b9a695914005b9628               In what country is Normandy located?\n",
       "1  56ddde6b9a695914005b9629                 When were the Normans in Normandy?\n",
       "2  56ddde6b9a695914005b962a      From which countries did the Norse originate?\n",
       "3  56ddde6b9a695914005b962b                          Who was the Norse leader?\n",
       "4  56ddde6b9a695914005b962c  What century did the Normans first gain their ..."
      ]
     },
     "execution_count": 3,
     "metadata": {},
     "output_type": "execute_result"
    }
   ],
   "source": [
    "df_test.head()\n"
   ]
  },
  {
   "cell_type": "code",
   "execution_count": 4,
   "metadata": {
    "ExecuteTime": {
     "end_time": "2018-08-31T23:23:07.096812Z",
     "start_time": "2018-08-31T23:23:07.088827Z"
    }
   },
   "outputs": [
    {
     "name": "stdout",
     "output_type": "stream",
     "text": [
      "Existen un total de  86821 preguntas\n",
      "Y un total de 86821 respuestas\n",
      "En cuanto a las preguntas para predecir se tiene que son un total de 11873\n"
     ]
    }
   ],
   "source": [
    "print(\"Existen un total de  {} preguntas\".format(len(df_train['question'])))\n",
    "print(\"Y un total de {} respuestas\".format(len(df_train['answer'])))\n",
    "\n",
    "\n",
    "print(\"En cuanto a las preguntas para predecir se tiene que son un total de {}\".format(\n",
    "   len(df_test['question']) ))"
   ]
  },
  {
   "cell_type": "markdown",
   "metadata": {},
   "source": [
    "Existen un total de  86821 preguntas\n",
    "Y un total de 86821 respuestas\n",
    "En cuanto a las preguntas para predecir se tiene que son un total de 11873"
   ]
  },
  {
   "cell_type": "markdown",
   "metadata": {},
   "source": [
    "> b) Realice un preprocesamiento simple a los textos de entrada (preguntas) *tokenizandolos* y pasando a minúsculas para evitar ambiguedad, si desea agregar algun preprocesamiento éxtra ésto se verá reflajado en su nota. A los textos de salida (respuestas) no realice ningún preprocesamiento mas que *tokenizar*, puesto que para la evaluación se solicita retornar los textos en su forma natural. Comente lo realizado.\n"
   ]
  },
  {
   "cell_type": "code",
   "execution_count": 5,
   "metadata": {
    "ExecuteTime": {
     "end_time": "2018-08-31T23:30:52.860058Z",
     "start_time": "2018-08-31T23:30:34.573460Z"
    }
   },
   "outputs": [],
   "source": [
    "from nltk.tokenize import word_tokenize\n",
    "train_questions = [word_tokenize(sentence.lower()) for sentence in df_train[\"question\"]] #or processing\n",
    "test_questions = [word_tokenize(sentence.lower()) for sentence in df_test[\"question\"]]\n",
    "train_answers = [word_tokenize(sentence) for sentence in df_train[\"answer\"]]"
   ]
  },
  {
   "cell_type": "markdown",
   "metadata": {},
   "source": [
    "> c) Cree un vocabulario para codificar las palabras en las respuestas a generar. Repita el procedimiento para las preguntas. Agrege un símbolo que signifique el fin de la respuesta a generar, así para tener un criterio de cuando una respuesta, valga la redundancia, está efectivamente *respondida* ¿Cuántas palabras tiene el vocabulario de las respuestas y de las preguntas? ¿Ésto podría ser un problema al momento de entrenar la red para que predizca de entre todas ellas?"
   ]
  },
  {
   "cell_type": "code",
   "execution_count": 6,
   "metadata": {
    "ExecuteTime": {
     "end_time": "2018-08-31T23:31:25.029694Z",
     "start_time": "2018-08-31T23:31:24.782380Z"
    },
    "scrolled": true
   },
   "outputs": [
    {
     "name": "stdout",
     "output_type": "stream",
     "text": [
      "posibles palabras para respuestas: 47423\n",
      "posibles palabras para preguntas: 42059\n"
     ]
    }
   ],
   "source": [
    "vocab_answer = set()\n",
    "for sentence in train_answers:\n",
    "    for word in sentence:\n",
    "        vocab_answer.add(word)\n",
    "vocab_answer = [\"#end\"]+ list(vocab_answer)\n",
    "print('posibles palabras para respuestas: {}'.format(len(vocab_answer)))\n",
    "vocabA_indices = {c: i for i, c in enumerate(vocab_answer)}\n",
    "indices_vocabA = {i: c for i, c in enumerate(vocab_answer)}\n",
    "\n",
    "vocab_question = set()\n",
    "for sentence in train_questions+test_questions:\n",
    "    for word in sentence:\n",
    "        vocab_question.add(word)\n",
    "vocab_question = list(vocab_question)\n",
    "print('posibles palabras para preguntas: {}'.format(len(vocab_question)))\n",
    "vocabQ_indices = {c: i for i, c in enumerate(vocab_question)}"
   ]
  },
  {
   "cell_type": "markdown",
   "metadata": {},
   "source": [
    "El vocabulario es de 47423 y 42059 palabras para respuestas y preguntas respectivamente"
   ]
  },
  {
   "cell_type": "code",
   "execution_count": 49,
   "metadata": {
    "ExecuteTime": {
     "end_time": "2018-09-01T00:23:39.553177Z",
     "start_time": "2018-09-01T00:23:37.633940Z"
    }
   },
   "outputs": [
    {
     "data": {
      "image/png": "[encoded data removed]",
      "text/plain": [
       "<matplotlib.figure.Figure at 0x1ff88362828>"
      ]
     },
     "metadata": {},
     "output_type": "display_data"
    },
    {
     "data": {
      "image/png": "[encoded data removed]",
      "text/plain": [
       "<matplotlib.figure.Figure at 0x1ff91dda4a8>"
      ]
     },
     "metadata": {},
     "output_type": "display_data"
    }
   ],
   "source": [
    "import nltk\n",
    "import matplotlib.pyplot as plt\n",
    "words_q = np.asarray(train_questions).flatten()\n",
    "words_a =  np.asarray(train_answers).flatten()\n",
    "words_q = np.concatenate(words_q).ravel()\n",
    "words_a = np.concatenate(words_a).ravel()\n",
    "\n",
    "fdist1 = nltk.FreqDist(words_q)\n",
    "fdist2 = nltk.FreqDist(words_a)\n",
    "plt.figure(figsize=(12,6))\n",
    "fdist1.plot(50)\n",
    "plt.figure(figsize=(12,6))\n",
    "fdist2.plot(50)"
   ]
  },
  {
   "cell_type": "markdown",
   "metadata": {},
   "source": [
    "Se visualiza el ranking de palabras, de los vocabularios de preguntas y respuestas, se pueden observar posibles problemas como el exceso de simbolos, se tiene la conjetura que puede ocasionar problemas para la legibilidad de la construcción de respuestas."
   ]
  },
  {
   "cell_type": "markdown",
   "metadata": {},
   "source": [
    "> d) Codifique los tokens (palabras) de cada texto que utilizará."
   ]
  },
  {
   "cell_type": "markdown",
   "metadata": {},
   "source": [
    "Se codifican los tokens en un vector, el cual contiene la codificación de los tokens en números\n",
    "['in', 'the', 'late', '1990s'] es equivalente a [24348, 12119, 40759, 5167]"
   ]
  },
  {
   "cell_type": "code",
   "execution_count": 11,
   "metadata": {
    "ExecuteTime": {
     "end_time": "2018-08-31T23:35:45.712510Z",
     "start_time": "2018-08-31T23:35:45.438512Z"
    }
   },
   "outputs": [],
   "source": [
    "X_answers = [[vocabA_indices[palabra] for palabra in sentence] for sentence in train_answers]\n",
    "Xtrain_question = [[vocabQ_indices[palabra] for palabra in sentence] for sentence in train_questions]\n",
    "Xtest_question = [[vocabQ_indices[palabra] for palabra in sentence] for sentence in test_questions]\n"
   ]
  },
  {
   "cell_type": "markdown",
   "metadata": {},
   "source": [
    "> Luego de ésto realice un *padding* a ambas secuencias, entrada y salida de entrenamiento y a la entrada del conjunto de pruebas. Comente sobre las dimensionalidades finales de los conjuntos de entrenamiento y de prueba."
   ]
  },
  {
   "cell_type": "markdown",
   "metadata": {},
   "source": [
    "Dada a la diferencia de los largos de las respuestas se procesan para dejarlas todas en un largo estandar, el cual va a ser input del modelo"
   ]
  },
  {
   "cell_type": "code",
   "execution_count": 14,
   "metadata": {
    "ExecuteTime": {
     "end_time": "2018-08-31T23:37:10.963722Z",
     "start_time": "2018-08-31T23:37:04.709598Z"
    },
    "scrolled": true
   },
   "outputs": [
    {
     "name": "stderr",
     "output_type": "stream",
     "text": [
      "c:\\users\\caimapo\\appdata\\local\\programs\\python\\python36\\lib\\site-packages\\h5py\\__init__.py:36: FutureWarning: Conversion of the second argument of issubdtype from `float` to `np.floating` is deprecated. In future, it will be treated as `np.float64 == np.dtype(float).type`.\n",
      "  from ._conv import register_converters as _register_converters\n",
      "Using TensorFlow backend.\n"
     ]
    }
   ],
   "source": [
    "import numpy as np\n",
    "max_input_lenght = np.max(list(map(len,train_questions)))\n",
    "max_output_lenght = np.max(list(map(len,train_answers)))+1\n",
    "\n",
    "from keras.preprocessing import sequence\n",
    "\n",
    "Xtrain_question = sequence.pad_sequences(Xtrain_question,maxlen=max_input_lenght,padding='post',value=0)\n",
    "Xtest_question = sequence.pad_sequences(Xtest_question,maxlen=max_input_lenght,padding='post',value=0)\n",
    "X_answers = sequence.pad_sequences(X_answers,maxlen=max_output_lenght,padding='post',value=vocabA_indices[\"#end\"])\n"
   ]
  },
  {
   "cell_type": "markdown",
   "metadata": {},
   "source": [
    "> Defina la atención $\\alpha$ que se calculará sobre cada instante de tiempo $T$ computándo su atención en cada instante de tiempo de la decodificación $T'$.\n"
   ]
  },
  {
   "cell_type": "markdown",
   "metadata": {},
   "source": [
    "Para esta parte se decide separar el codigo dado a que existen muchos problemas de incoherencias producidas por el estilo flexible de los notebooks, Se separa cada modelo en su propio scriptn, cada modelo cubre la parte de la definición del encoder decoder con el modulo de atencion y el entrenamiento , si se descomenta las siguientes lineas se puede observar, pero estos scripts estan ideados para ser ejecutados en consola."
   ]
  },
  {
   "cell_type": "code",
   "execution_count": null,
   "metadata": {
    "ExecuteTime": {
     "end_time": "2018-08-31T23:43:30.204780Z",
     "start_time": "2018-08-31T23:43:30.192835Z"
    }
   },
   "outputs": [],
   "source": [
    "# %load QA.py"
   ]
  },
  {
   "cell_type": "markdown",
   "metadata": {},
   "source": [
    "el primer modelo es tal cual como lo espresado en el enunciado, con compuerta de tipo CuDNNGRU"
   ]
  },
  {
   "cell_type": "code",
   "execution_count": null,
   "metadata": {},
   "outputs": [],
   "source": [
    "# %load QA model 2.py"
   ]
  },
  {
   "cell_type": "markdown",
   "metadata": {},
   "source": [
    "el segundo modelo consta de una compuerta CuDNNLSTM"
   ]
  },
  {
   "cell_type": "code",
   "execution_count": null,
   "metadata": {},
   "outputs": [],
   "source": [
    "# %load QA model 3.py"
   ]
  },
  {
   "cell_type": "markdown",
   "metadata": {},
   "source": [
    "el modelo 3 consta de compuerta del tipo Simple_RNN"
   ]
  },
  {
   "cell_type": "code",
   "execution_count": null,
   "metadata": {},
   "outputs": [],
   "source": [
    "# %load QA model 4.py"
   ]
  },
  {
   "cell_type": "markdown",
   "metadata": {},
   "source": [
    "Como variación se usa el modelo 4 con una compuerta bidireccional, sobre una compuerta LSTM"
   ]
  },
  {
   "cell_type": "markdown",
   "metadata": {},
   "source": [
    "> g) Mostrar ejemplos"
   ]
  },
  {
   "cell_type": "code",
   "execution_count": null,
   "metadata": {},
   "outputs": [],
   "source": [
    "resultados_path = os.path.join(os.getcwd(),'results')\n",
    "model1 = load_model(os.path.join(resultados_path,'model_CuDNNGRU_.h5'))\n",
    "model2 = load_model(os.path.join(resultados_path,'model_CuDNNLSTM_.h5'))\n",
    "model3 = load_model(os.path.join(resultados_path,'model_RNN_.h5'))\n",
    "#model4 = load_model(os.path.join(resultados_path,'model_Bidirectional_.h5'))"
   ]
  },
  {
   "cell_type": "code",
   "execution_count": null,
   "metadata": {},
   "outputs": [],
   "source": [
    "df_test = pd.read_csv(os.path.join(os.getcwd(),'data','test_Q.csv'))\n",
    "\n",
    "with open(os.path.join(os.getcwd(),'temp','Xtest_question.pickle'),'rb') as p_file:\n",
    "    Xtest_question = pickle.load(p_file)\n",
    "with open(os.path.join(os.getcwd(),'temp','vocab_answer.pickle'),'rb') as p_file:\n",
    "    vocab_answer = pickle.load(p_file)\n",
    "with open(os.path.join(os.getcwd(),'temp','vocab_question.pickle'),'rb') as p_file:\n",
    "    vocab_question = pickle.load(p_file)\n",
    "with open(os.path.join(os.getcwd(),'temp','vocabQ_indices.pickle'),'rb') as p_file:\n",
    "    vocabQ_indices = pickle.load(p_file)\n",
    "with open(os.path.join(os.getcwd(),'temp','indices_vocabA.pickle'),'rb') as p_file:\n",
    "    indices_vocabA = pickle.load(p_file)"
   ]
  },
  {
   "cell_type": "code",
   "execution_count": 135,
   "metadata": {
    "ExecuteTime": {
     "end_time": "2018-09-01T01:11:36.401094Z",
     "start_time": "2018-09-01T01:11:36.389118Z"
    }
   },
   "outputs": [],
   "source": [
    "# Se define diversity como la probabilidad de elegir otra elemento entre el segundo al cuarto con mas probabilidad\n",
    "def predict_words(model, example,diversity=0):\n",
    "    prediction = model.predict(example)\n",
    "    prediction = prediction.reshape(prediction.shape[1:])\n",
    "    palabra_elegida = np.array([])\n",
    "    for p_palabra in prediction:\n",
    "        p_palabra = p_palabra/np.sum(p_palabra)\n",
    "        palabra_elegida = np.append(\n",
    "            palabra_elegida, np.random.choice(p_palabra.shape[0], p=p_palabra))\n",
    "        if np.random.binomial(n=1,p=diversity):\n",
    "            palabra_elegida = palabra_elegida[:-1]\n",
    "            idx = np.random.randint(2,4)\n",
    "            palabra_elegida = np.append(\n",
    "            palabra_elegida, np.argsort(p_palabra)[::-1][idx])\n",
    "            \n",
    "    return palabra_elegida"
   ]
  },
  {
   "cell_type": "code",
   "execution_count": null,
   "metadata": {},
   "outputs": [],
   "source": [
    "def show_examples(model, indexs):\n",
    "\n",
    "    for i in range(len(indexs)):\n",
    "        #indexs = np.random.randint(0,len(Xtest_question))\n",
    "        example = Xtest_question[indexs[i]]\n",
    "        example = example.reshape((1,60,))\n",
    "        indexes_answer = predict_words(model, example)\n",
    "\n",
    "        question = df_test[\"question\"][indexs[i]]\n",
    "        print(\"Pregunta: \", question)\n",
    "        answer = \"\"\n",
    "        for index in indexes_answer:\n",
    "            if indices_vocabA[index] == \"#end\":  # el final de la oracion\n",
    "                continue\n",
    "            else:\n",
    "                answer += indices_vocabA[indexs[i]] + \" \"\n",
    "        print(\"Respuesta: \", answer)\n",
    "    print(\"Los ha predecido todos!\")"
   ]
  },
  {
   "cell_type": "markdown",
   "metadata": {},
   "source": [
    "Pequeña muestra aleatoria de indices de preguntas, las cuales se contrasta a lo largo de los diferentes modelo."
   ]
  },
  {
   "cell_type": "raw",
   "metadata": {},
   "source": [
    "# Modelo 1\n",
    "Pregunta:  What is the force between two locations related to?\n",
    "Respuesta:  Patience \n",
    "Pregunta:  What caused UK to have an oil crisis in its own country?\n",
    "Respuesta:  768,868 768,868 768,868 768,868 \n",
    "Pregunta:  Were the centers profitable\n",
    "Respuesta:  subcutaneously subcutaneously subcutaneously subcutaneously subcutaneously subcutaneously \n",
    "Pregunta:  What is located after Rüdesheim am Rhein and Koblenz?\n",
    "Respuesta:  justify justify justify justify justify justify \n",
    "Pregunta:  What type of company is Van Gend en Loos?\n",
    "Respuesta:  handpump handpump handpump handpump handpump \n",
    "Pregunta:  What is considered to be a recreational euphoric?\n",
    "Respuesta:  Garten Garten Garten Garten Garten Garten Garten Garten Garten Garten Garten Garten Garten Garten Garten Garten \n",
    "Pregunta:  What are other irrelevant examples of a function problem>\n",
    "Respuesta:  multi-racials multi-racials multi-racials \n",
    "Pregunta:  How much of the water flow does the Waal get from the Rhine?\n",
    "Respuesta:  marshmallows marshmallows \n",
    "Pregunta:  Who asserted Russia's right to \"self-determination?\"\n",
    "Respuesta:  brocket brocket brocket brocket brocket brocket brocket brocket brocket brocket brocket brocket brocket brocket brocket brocket brocket brocket \n",
    "Pregunta:  What well known political scientists are currently on the university's faculty?\n",
    "Respuesta:  tornadoes tornadoes tornadoes tornadoes"
   ]
  },
  {
   "cell_type": "raw",
   "metadata": {},
   "source": [
    "# Modelo 2\n",
    "Pregunta:  What is the force between two locations related to?\n",
    "Respuesta:  Patience \n",
    "Pregunta:  What caused UK to have an oil crisis in its own country?\n",
    "Respuesta:  768,868 \n",
    "Pregunta:  Were the centers profitable\n",
    "Respuesta:  subcutaneously subcutaneously subcutaneously subcutaneously \n",
    "Pregunta:  What is located after Rüdesheim am Rhein and Koblenz?\n",
    "Respuesta:  justify justify justify justify justify justify justify justify \n",
    "Pregunta:  What type of company is Van Gend en Loos?\n",
    "Respuesta:  handpump handpump handpump handpump handpump handpump handpump handpump handpump handpump handpump handpump \n",
    "Pregunta:  What is considered to be a recreational euphoric?\n",
    "Respuesta:  Garten Garten Garten Garten Garten Garten Garten Garten Garten Garten Garten Garten Garten Garten \n",
    "Pregunta:  What are other irrelevant examples of a function problem>\n",
    "Respuesta:  multi-racials multi-racials \n",
    "Pregunta:  How much of the water flow does the Waal get from the Rhine?\n",
    "Respuesta:  marshmallows marshmallows \n",
    "Pregunta:  Who asserted Russia's right to \"self-determination?\"\n",
    "Respuesta:  brocket brocket brocket brocket brocket brocket brocket brocket brocket brocket brocket brocket brocket brocket brocket brocket brocket brocket brocket brocket brocket brocket brocket \n",
    "Pregunta:  What well known political scientists are currently on the university's faculty?\n",
    "Respuesta:  tornadoes tornadoes "
   ]
  },
  {
   "cell_type": "raw",
   "metadata": {},
   "source": [
    "# Modelo 3\n",
    "Pregunta:  What is the force between two locations related to?\n",
    "Respuesta:  Patience \n",
    "Pregunta:  What caused UK to have an oil crisis in its own country?\n",
    "Respuesta:  768,868 \n",
    "Pregunta:  Were the centers profitable\n",
    "Respuesta:  subcutaneously subcutaneously subcutaneously \n",
    "Pregunta:  What is located after Rüdesheim am Rhein and Koblenz?\n",
    "Respuesta:  justify justify \n",
    "Pregunta:  What type of company is Van Gend en Loos?\n",
    "Respuesta:  handpump handpump handpump \n",
    "Pregunta:  What is considered to be a recreational euphoric?\n",
    "Respuesta:  Garten Garten \n",
    "Pregunta:  What are other irrelevant examples of a function problem>\n",
    "Respuesta:  multi-racials \n",
    "Pregunta:  How much of the water flow does the Waal get from the Rhine?\n",
    "Respuesta:  marshmallows marshmallows \n",
    "Pregunta:  Who asserted Russia's right to \"self-determination?\"\n",
    "Respuesta:  brocket brocket brocket brocket brocket brocket brocket brocket brocket brocket brocket \n",
    "Pregunta:  What well known political scientists are currently on the university's faculty?\n",
    "Respuesta:  tornadoes "
   ]
  },
  {
   "cell_type": "markdown",
   "metadata": {},
   "source": [
    "Se puede observar que a lo largo de los tres modelos, se obtienen resultados similares, pero diferente en el los largos de respuestas obtenidos, esto se puede deber al tratamiento de la marca #End que indica el fin de la respuesta, también se observa esto cuando se elige una diversidad mayor a la definida, las respuestas incrementan en su largo."
   ]
  },
  {
   "cell_type": "raw",
   "metadata": {},
   "source": [
    "Cuarto modelo quedo corrupto despues de la transición de colab a la maquina local"
   ]
  },
  {
   "cell_type": "markdown",
   "metadata": {},
   "source": [
    "> h) Evalúe la calidad de su modelo con la métrica del *benchmark*, para ésto deberá descargar el archivo **evaluation script** y el dato **dev json** de la página oficial del dataset: https://rajpurkar.github.io/SQuAD-explorer/ y ejecutarlo de la siguiente manera dentro del *Jupyter Notebook*\n",
    "\n",
    "```python\n",
    "#evaluar resultados\n",
    "!python evaluate-v2.0.py dev-v2.0.json predictions\n",
    "```\n",
    "> Para generar las predicciones utilice la función anteriormente definida de la siguiente manera:\n",
    "```python\n",
    "dic_predictions = {}\n",
    "for example,id_e in zip(Xtest_question,df_test[\"id\"]): #todos los ejemplos\n",
    "    indexes_answer = predict_words(model,example) #predice palabra en cada instante\n",
    "    answer = \"\"\n",
    "    for index in indexes_answer:\n",
    "        if indices_vocabA[index]==\"#end\": # el final de la oracion\n",
    "            continue\n",
    "        else:\n",
    "            answer+=indices_vocabA[index]+\" \"\n",
    "    dic_predictions[id_e] = answer\n",
    "    contador+=1\n",
    "print(\"Los ha predecido todos!\")\n",
    "json_save = json.dumps(dic_predictions)\n",
    "archivo = open(\"predictions\",\"w\")\n",
    "archivo.write(json_save)\n",
    "archivo.close()\n",
    "```\n",
    "Comente sobre el desempeño obtenido y porqué debiera deberse."
   ]
  },
  {
   "cell_type": "markdown",
   "metadata": {},
   "source": [
    "Resultados de los cuatro modelos probados"
   ]
  },
  {
   "cell_type": "raw",
   "metadata": {},
   "source": [
    "C:\\Users\\Caimapo\\Desktop\\U\\ML\\ANN\\Tarea3\\Parte 2 Question-Answering>py -3 evaluate-v2.0.py dev-v2.0.json predictions1\n",
    "{\n",
    "  \"exact\": 0.0,\n",
    "  \"f1\": 0.007259367993807478,\n",
    "  \"total\": 11873,\n",
    "  \"HasAns_exact\": 0.0,\n",
    "  \"HasAns_f1\": 0.014539554013238224,\n",
    "  \"HasAns_total\": 5928,\n",
    "  \"NoAns_exact\": 0.0,\n",
    "  \"NoAns_f1\": 0.0,\n",
    "  \"NoAns_total\": 5945\n",
    "}"
   ]
  },
  {
   "cell_type": "raw",
   "metadata": {},
   "source": [
    "\n",
    "C:\\Users\\Caimapo\\Desktop\\U\\ML\\ANN\\Tarea3\\Parte 2 Question-Answering>py -3 evaluate-v2.0.py dev-v2.0.json predictions2\n",
    "{\n",
    "  \"exact\": 0.050534826918217805,\n",
    "  \"f1\": 0.052504389403235534,\n",
    "  \"total\": 11873,\n",
    "  \"HasAns_exact\": 0.0,\n",
    "  \"HasAns_f1\": 0.0039447731755424065,\n",
    "  \"HasAns_total\": 5928,\n",
    "  \"NoAns_exact\": 0.10092514718250631,\n",
    "  \"NoAns_f1\": 0.10092514718250631,\n",
    "  \"NoAns_total\": 5945\n",
    "}"
   ]
  },
  {
   "cell_type": "raw",
   "metadata": {},
   "source": [
    "C:\\Users\\Caimapo\\Desktop\\U\\ML\\ANN\\Tarea3\\Parte 2 Question-Answering>py -3 evaluate-v2.0.py dev-v2.0.json predictions3\n",
    "{\n",
    "  \"exact\": 0.042112355765181506,\n",
    "  \"f1\": 0.04482783596046015,\n",
    "  \"total\": 11873,\n",
    "  \"HasAns_exact\": 0.0,\n",
    "  \"HasAns_f1\": 0.0054387476988096185,\n",
    "  \"HasAns_total\": 5928,\n",
    "  \"NoAns_exact\": 0.08410428931875526,\n",
    "  \"NoAns_f1\": 0.08410428931875526,\n",
    "  \"NoAns_total\": 5945\n",
    "}"
   ]
  },
  {
   "cell_type": "raw",
   "metadata": {},
   "source": [
    "C:\\Users\\Caimapo\\Desktop\\U\\ML\\ANN\\Tarea3\\Parte 2 Question-Answering>py -3 evaluate-v2.0.py dev-v2.0.json predictions4\n",
    "{\n",
    "  \"exact\": 0.46323591341699655,\n",
    "  \"f1\": 0.9167586835479324,\n",
    "  \"total\": 11873,\n",
    "  \"HasAns_exact\": 0.0,\n",
    "  \"HasAns_f1\": 0.9083461285027957,\n",
    "  \"HasAns_total\": 5928,\n",
    "  \"NoAns_exact\": 0.9251471825063078,\n",
    "  \"NoAns_f1\": 0.9251471825063078,\n",
    "  \"NoAns_total\": 5945\n",
    "}"
   ]
  },
  {
   "cell_type": "markdown",
   "metadata": {},
   "source": [
    "Si bien se puede ver valores de f1 muy bajos, es dificil decirnir sobre si esta escrito en porcentaje de 0 a 1 o de 0 a 100, dado a los ejemplos obtenidos con los modelos 1 al 3 se observa poca cohesión entre las ideas, por lo que se sospecha que sea de escala 0 a 100, Esto se debe a gran parte a la falta de poder del modelo, ya que esta limitado al contexto de la pregunta y las respuestas, pero desde el punto de vista de la gramatica, se hace dificil encontrar patrones suficientemente ricos para generar relaciones entre estos, este fenomeno se ve reflejado en los ejemplos que si bien responden de manera diferente, estas solo relacionan una palabra a una pregunta"
   ]
  }
 ],
 "metadata": {
  "kernelspec": {
   "display_name": "Python 3",
   "language": "python",
   "name": "python3"
  },
  "language_info": {
   "codemirror_mode": {
    "name": "ipython",
    "version": 3
   },
   "file_extension": ".py",
   "mimetype": "text/x-python",
   "name": "python",
   "nbconvert_exporter": "python",
   "pygments_lexer": "ipython3",
   "version": "3.6.5"
  },
  "toc": {
   "base_numbering": 1,
   "nav_menu": {},
   "number_sections": true,
   "sideBar": true,
   "skip_h1_title": false,
   "title_cell": "Tabla de contenidos",
   "title_sidebar": "Contenido",
   "toc_cell": false,
   "toc_position": {
    "height": "calc(100% - 180px)",
    "left": "10px",
    "top": "150px",
    "width": "429px"
   },
   "toc_section_display": true,
   "toc_window_display": true
  }
 },
 "nbformat": 4,
 "nbformat_minor": 2
}
