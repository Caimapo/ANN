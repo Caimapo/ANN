{
 "cells": [
  {
   "cell_type": "markdown",
   "metadata": {},
   "source": [
    "# Tarea 3 - Parte 1.2\n",
    "# INF477 Redes Neuronales Artificiales I-2018\n",
    "\n",
    "Profesor: Dr. Ricardo Ñanculef -- \n",
    "Ayudante: Francisco Mena\n",
    "\n",
    "Alumnos:\n",
    "- Jose Caimapo, jose.caimapo.12@sansano.usm.cl\n",
    "\n",
    "- Eliana Providel Godoy, eprovide@inf.utfsm.cl"
   ]
  },
  {
   "cell_type": "code",
   "execution_count": 1,
   "metadata": {},
   "outputs": [
    {
     "name": "stderr",
     "output_type": "stream",
     "text": [
      "Using TensorFlow backend.\n"
     ]
    }
   ],
   "source": [
    "from keras.datasets import mnist\n",
    "import numpy as np\n",
    "import pandas as pd\n",
    "import keras\n",
    "import time\n",
    "\n",
    "from keras.layers import Input,Conv2D,Flatten,Dense,MaxPool2D\n",
    "from keras.models import Model\n",
    "\n",
    "from keras.layers import Reshape,Conv2DTranspose,Activation\n",
    "from keras import backend as K\n",
    "\n",
    "import os\n",
    "import matplotlib.pyplot as plt\n",
    "from keras.models import load_model"
   ]
  },
  {
   "cell_type": "code",
   "execution_count": 2,
   "metadata": {},
   "outputs": [],
   "source": [
    "import keras\n",
    "import tensorflow as tf\n",
    "config = tf.ConfigProto()\n",
    "config.gpu_options.allow_growth=True\n",
    "sess = tf.Session(config=config)\n",
    "keras.backend.set_session(sess)"
   ]
  },
  {
   "cell_type": "code",
   "execution_count": 3,
   "metadata": {},
   "outputs": [
    {
     "name": "stdout",
     "output_type": "stream",
     "text": [
      "(60000, 28, 28)\n"
     ]
    }
   ],
   "source": [
    "(X_train, y_train), (X_test, y_test) = mnist.load_data()\n",
    "\n",
    "\n",
    "X_train = X_train.astype('float32')\n",
    "X_test = X_test.astype('float32')\n",
    "X_train /= 255\n",
    "X_test /= 255\n",
    "print(X_train.shape)\n",
    "img_rows, img_cols = X_train.shape[1:]\n",
    "channel  = 1\n",
    "#img_rows, img_cols = X_train.shape[1:]\n",
    "\n",
    "\n",
    "#img_rows, img_cols,channel = X_train.shape[:]"
   ]
  },
  {
   "cell_type": "code",
   "execution_count": 4,
   "metadata": {},
   "outputs": [],
   "source": [
    "X_train = np.reshape(X_train, (len(X_train), 28, 28,1)) #modify for th dim ordering\n",
    "X_test = np.reshape(X_test, (len(X_test), 28, 28,1))"
   ]
  },
  {
   "cell_type": "code",
   "execution_count": 5,
   "metadata": {},
   "outputs": [
    {
     "name": "stdout",
     "output_type": "stream",
     "text": [
      "(60000, 28, 28, 1)\n",
      "(10000, 28, 28, 1)\n"
     ]
    }
   ],
   "source": [
    "#X_train = X_train.reshape((len(X_train), np.prod(X_train.shape[1:]),1,1))\n",
    "#X_test = X_test.reshape((len(X_test), np.prod(X_test.shape[1:]),1,1))\n",
    "print(X_train.shape)\n",
    "print(X_test.shape)"
   ]
  },
  {
   "cell_type": "markdown",
   "metadata": {},
   "source": [
    "### a) Defina al *discriminador* de la GAN como el que se muestra en el código, de 3 bloque convolucionales y una tanda *fully conected*, con los Dropout para evitar *overfitting*. Describa la arquitectura utilizada y cuál es la función de activación seleccionada."
   ]
  },
  {
   "cell_type": "code",
   "execution_count": 6,
   "metadata": {},
   "outputs": [
    {
     "name": "stdout",
     "output_type": "stream",
     "text": [
      "_________________________________________________________________\n",
      "Layer (type)                 Output Shape              Param #   \n",
      "=================================================================\n",
      "conv2d_1 (Conv2D)            (None, 14, 14, 64)        1664      \n",
      "_________________________________________________________________\n",
      "leaky_re_lu_1 (LeakyReLU)    (None, 14, 14, 64)        0         \n",
      "_________________________________________________________________\n",
      "dropout_1 (Dropout)          (None, 14, 14, 64)        0         \n",
      "_________________________________________________________________\n",
      "conv2d_2 (Conv2D)            (None, 7, 7, 128)         204928    \n",
      "_________________________________________________________________\n",
      "leaky_re_lu_2 (LeakyReLU)    (None, 7, 7, 128)         0         \n",
      "_________________________________________________________________\n",
      "dropout_2 (Dropout)          (None, 7, 7, 128)         0         \n",
      "_________________________________________________________________\n",
      "conv2d_3 (Conv2D)            (None, 4, 4, 256)         819456    \n",
      "_________________________________________________________________\n",
      "leaky_re_lu_3 (LeakyReLU)    (None, 4, 4, 256)         0         \n",
      "_________________________________________________________________\n",
      "dropout_3 (Dropout)          (None, 4, 4, 256)         0         \n",
      "_________________________________________________________________\n",
      "flatten_1 (Flatten)          (None, 4096)              0         \n",
      "_________________________________________________________________\n",
      "dense_1 (Dense)              (None, 1024)              4195328   \n",
      "_________________________________________________________________\n",
      "leaky_re_lu_4 (LeakyReLU)    (None, 1024)              0         \n",
      "_________________________________________________________________\n",
      "dense_2 (Dense)              (None, 1)                 1025      \n",
      "=================================================================\n",
      "Total params: 5,222,401\n",
      "Trainable params: 5,222,401\n",
      "Non-trainable params: 0\n",
      "_________________________________________________________________\n"
     ]
    }
   ],
   "source": [
    "from keras.models import Model,Sequential\n",
    "from keras.layers import LeakyReLU,Conv2D,Dropout,Flatten,Dense\n",
    "## Discriminator\n",
    "D = Sequential()\n",
    "depth = 64\n",
    "dropout = 0.4\n",
    "input_shape = (img_rows, img_cols, channel)\n",
    "lr_alpha = 0.02\n",
    "\n",
    "#D.add(Conv2D(depth*1, (5,5), strides=2, input_shape=input_shape,padding='same', activation=LeakyReLU(alpha=0.2)))\n",
    "D.add(Conv2D(depth*1, (5,5), strides=2, input_shape=input_shape,padding='same'))\n",
    "D.add(LeakyReLU(alpha=lr_alpha))      \n",
    "D.add(Dropout(dropout))\n",
    "      \n",
    "#D.add(Conv2D(depth*2, (5,5), strides=2, padding='same',activation=LeakyReLU(alpha=0.2)))\n",
    "D.add(Conv2D(depth*2, (5,5), strides=2, padding='same'))      \n",
    "D.add(LeakyReLU(alpha=lr_alpha))      \n",
    "D.add(Dropout(dropout))\n",
    "      \n",
    "#D.add(Conv2D(depth*4, (5,5), strides=2, padding='same',activation=LeakyReLU(alpha=0.2)))\n",
    "D.add(Conv2D(depth*4, (5,5), strides=2, padding='same'))      \n",
    "D.add(LeakyReLU(alpha=lr_alpha))\n",
    "D.add(Dropout(dropout))\n",
    "D.add(Flatten())\n",
    "\n",
    "#D.add(Dense(1024,activation=LeakyReLU(alpha=0.2)))\n",
    "D.add(Dense(1024))\n",
    "D.add(LeakyReLU(alpha=lr_alpha))      \n",
    "\n",
    "D.add(Dense(1,activation='sigmoid'))\n",
    "D.summary()"
   ]
  },
  {
   "cell_type": "markdown",
   "metadata": {},
   "source": [
    "**Arquitectura**\n",
    "* Como entrada la imagen, después 3 capas convolucionales con dropout antes de pasar a la siguiente. La primera cada tiene  64 filtros, la segunda 128  y la tercera 256. En las tres capas convolucionales el kernel es 5x5 y se utiliza stride=2.\n",
    "* Luego tiene una capa fltten que lineariza el resultado de las convoluciones, siendo la entrada  para la siguiente capa totalmente conectada con 1024 unidades ocultas.\n",
    "* Finalmente, la última capa es una única neurona.\n",
    "* Todas las funciones de activación son leakyRelu, con parámetro alpha=0.2, excepto la última capa que tiene activación sigmoid.\n",
    "* Esta última capa representa la probabilidad infeida por el discriminador, siendo un valor entre 0 y 1."
   ]
  },
  {
   "cell_type": "markdown",
   "metadata": {},
   "source": [
    "### b) Defina al generador de la GAN como el que se muestra en el código, con una tanda fully conected y 3 bloque convolucionales transpuesta además de agregar BatchNormalization entre ellas para tener un aprendizaje más estable. Describa la arquitectura utilizada (siendo del tipo fully convolutional puesto que la salida es un arreglo n-dimensional) y el porqué la función de activación de la salida es sigmoidal."
   ]
  },
  {
   "cell_type": "code",
   "execution_count": 7,
   "metadata": {},
   "outputs": [
    {
     "name": "stdout",
     "output_type": "stream",
     "text": [
      "_________________________________________________________________\n",
      "Layer (type)                 Output Shape              Param #   \n",
      "=================================================================\n",
      "dense_3 (Dense)              (None, 128)               384       \n",
      "_________________________________________________________________\n",
      "batch_normalization_1 (Batch (None, 128)               512       \n",
      "_________________________________________________________________\n",
      "activation_1 (Activation)    (None, 128)               0         \n",
      "_________________________________________________________________\n",
      "dense_4 (Dense)              (None, 12544)             1618176   \n",
      "_________________________________________________________________\n",
      "batch_normalization_2 (Batch (None, 12544)             50176     \n",
      "_________________________________________________________________\n",
      "activation_2 (Activation)    (None, 12544)             0         \n",
      "_________________________________________________________________\n",
      "reshape_1 (Reshape)          (None, 14, 14, 64)        0         \n",
      "_________________________________________________________________\n",
      "conv2d_transpose_1 (Conv2DTr (None, 28, 28, 32)        18464     \n",
      "_________________________________________________________________\n",
      "batch_normalization_3 (Batch (None, 28, 28, 32)        128       \n",
      "_________________________________________________________________\n",
      "activation_3 (Activation)    (None, 28, 28, 32)        0         \n",
      "_________________________________________________________________\n",
      "conv2d_transpose_2 (Conv2DTr (None, 28, 28, 32)        9248      \n",
      "_________________________________________________________________\n",
      "batch_normalization_4 (Batch (None, 28, 28, 32)        128       \n",
      "_________________________________________________________________\n",
      "activation_4 (Activation)    (None, 28, 28, 32)        0         \n",
      "_________________________________________________________________\n",
      "conv2d_transpose_3 (Conv2DTr (None, 28, 28, 1)         289       \n",
      "_________________________________________________________________\n",
      "activation_5 (Activation)    (None, 28, 28, 1)         0         \n",
      "=================================================================\n",
      "Total params: 1,697,505\n",
      "Trainable params: 1,672,033\n",
      "Non-trainable params: 25,472\n",
      "_________________________________________________________________\n"
     ]
    }
   ],
   "source": [
    "from keras.layers import BatchNormalization,Reshape,UpSampling2D,Conv2DTranspose,Activation\n",
    "## Generator\n",
    "G = Sequential()\n",
    "dim = 14\n",
    "input_dim= 2 #para que sea similar al vAE\n",
    "\n",
    "#G.add(Dense(128, input_dim=input_dim))\n",
    "G.add(Dense(128, input_dim=input_dim))\n",
    "G.add(BatchNormalization())\n",
    "G.add(Activation('relu'))\n",
    "\n",
    "\n",
    "G.add(Dense(dim*dim*depth))\n",
    "G.add(BatchNormalization())\n",
    "G.add(Activation('relu'))\n",
    "\n",
    "G.add(Reshape((dim, dim, depth)))\n",
    "\n",
    "G.add(Conv2DTranspose(depth/2, (3,3), padding='same',strides=(2,2)))\n",
    "G.add(BatchNormalization())\n",
    "G.add(Activation('relu'))\n",
    "\n",
    "G.add(Conv2DTranspose(depth/2, (3,3), padding='same'))\n",
    "G.add(BatchNormalization())\n",
    "G.add(Activation('relu'))\n",
    "\n",
    "G.add(Conv2DTranspose(channel, (3,3), padding='same')) \n",
    "G.add(Activation('sigmoid')) \n",
    "G.summary()\n"
   ]
  },
  {
   "cell_type": "markdown",
   "metadata": {},
   "source": [
    "** Arquitectura**\n",
    "* Toma como entrada dos valores que se suponde son muestreados de la distribución latente, y los conecta con una capa densa de 128 unidades, luego viene otra capa densa con que $dim*dim*depth$ unidades que corresponde a la versión lieanrizada de la imagen que se esta generando. Luego se redimensiona ese vector como una matriz cuadrada de $dim*dim*depth$. Luego se aplican tres capas de convolución transpuesta que van haciendo un upscaling hasta llegar al tamaño final de la imagen generada. Los parámetros corresponden al inverso del discriminador, en cuanto a número de  filtros por ejemplo. Y finalmente se aplica una activación sigmoid para fomentar que los pixeles tomen colores definidos, por ejemplo blancos o negros en vez de grises, para generar una imagen más nitida.\n",
    "En todas las capas de utiliza batch normalization para obtener un espacio mas estable.\n",
    "\n",
    "* Sigmoid se utiliza en la última capa para poder reducir la dimensioanalidad y poder generar la imagen artificial.\n",
    "Como tambien ruerza a los pixeles a tener un valor bien definido entre ser negro o blanco, evitando colores como grieses.\n",
    "\n"
   ]
  },
  {
   "cell_type": "markdown",
   "metadata": {},
   "source": [
    "### c) Conecte los modelos a través del enfoque adversario, será necesario definir dos modelos debido a que el entrenamiento es iterativo, primero se entrena el discriminador el generador fijo, luego se entrena el generador con el discriminador fijo y así."
   ]
  },
  {
   "cell_type": "code",
   "execution_count": 8,
   "metadata": {},
   "outputs": [],
   "source": [
    "from keras.optimizers import RMSprop\n",
    "## Discriminator model (police)\n",
    "optimizer = RMSprop(lr=0.0008, clipvalue=1.0, decay=6e-8)\n",
    "DM = Sequential()\n",
    "DM.add(D)\n",
    "DM.compile(loss='binary_crossentropy', optimizer=optimizer,metrics=['accuracy'])\n",
    "## Adversarial model (Generator->Discriminator)\n",
    "\n",
    "D.trainable=False #set the discriminator freeze  (fixed params)\n",
    "optimizer = RMSprop(lr=0.0004, clipvalue=1.0, decay=3e-8)\n",
    "AM = Sequential()\n",
    "AM.add(G)\n",
    "AM.add(D)\n",
    "AM.compile(loss='binary_crossentropy', optimizer=optimizer,metrics=['accuracy'])"
   ]
  },
  {
   "cell_type": "markdown",
   "metadata": {},
   "source": [
    "### d) Entrene el modelo definido con el enfoque iterativo como se nombró, para ésto utilice la función que se presenta que lo realiza de manera manual. Grafique la pérdida loss de cada red (el generador y el discriminador/adversario) a través de los pasos de actualización de los pesos ¿Cómo se espera que sean estas curvas de aprendizaje?"
   ]
  },
  {
   "cell_type": "markdown",
   "metadata": {},
   "source": [
    "Al graficar el loss de cada red uno esperaría, en base a la teoría, que el discriminador alcanza un nivel constante de pérdida, cuando su accuracy llega al valor 0.5, es decir que no es mejor que el azar al discriminar, y por ende ya no puede tener mayor ni menor loss. \n",
    "\n",
    "Por otro lado, el nivel de pérdida del generador también, en el caso óptimo, debe llegar a un estado de oscilación constante ya que pasa a recibir respuestas del discriminador que no son mejores que el azar, es decir con precision 0.5, y por tanto el generador ya no podría seguir mejorando. Esto es efectivamente lo que ocurre al graficar el loss luego de los entrenamientos en los puntos siguientes."
   ]
  },
  {
   "cell_type": "code",
   "execution_count": 9,
   "metadata": {},
   "outputs": [
    {
     "name": "stdout",
     "output_type": "stream",
     "text": [
      "5000\n"
     ]
    },
    {
     "name": "stderr",
     "output_type": "stream",
     "text": [
      "/home/srodriguez/miniconda/envs/python27/lib/python2.7/site-packages/keras/engine/training.py:975: UserWarning: Discrepancy between trainable weights and collected trainable weights, did you set `model.trainable` without calling `model.compile` after ?\n",
      "  'Discrepancy between trainable weights and collected trainable'\n"
     ]
    },
    {
     "name": "stdout",
     "output_type": "stream",
     "text": [
      "WARNING:tensorflow:Variable *= will be deprecated. Use variable.assign_mul if you want assignment to the variable value or 'x = x * y' if you want a new python Tensor object.\n",
      "0: [D loss: 0.700207, acc: 0.492188]  [G loss: 2.259525, acc: 0.000000]\n",
      "1000: [D loss: 0.300020, acc: 0.875000]  [G loss: 0.784308, acc: 0.562500]\n",
      "2000: [D loss: 0.345370, acc: 0.859375]  [G loss: 1.992800, acc: 0.171875]\n",
      "3000: [D loss: 0.346891, acc: 0.835938]  [G loss: 1.732757, acc: 0.140625]\n",
      "4000: [D loss: 0.274798, acc: 0.914062]  [G loss: 0.481180, acc: 0.781250]\n"
     ]
    }
   ],
   "source": [
    "def train_on_steps(X_train,DM,AM,G,steps,batch_size, input_dim):\n",
    "    history = {\"d\":[],\"g\":[]}\n",
    "    print(steps)\n",
    "    start_time = time.time()\n",
    "    for e in range(steps):\n",
    "        #print(\"e: %s\" % e)\n",
    "        # Make generative images\n",
    "        image_batch = X_train[np.random.randint(0,X_train.shape[0],size=batch_size),:,:,:] #sample images from real data\n",
    "        noise_gen = np.random.uniform(-1,1,size=[batch_size,input_dim]) #sample image from generated data\n",
    "        generated_images = G.predict(noise_gen) #fake images\n",
    "        # Train discriminator on generated images\n",
    "        X = np.concatenate((image_batch, generated_images))\n",
    "        #create labels\n",
    "        y = np.ones([2*batch_size,1])\n",
    "        y[batch_size:,:] = 0\n",
    "        d_loss  = DM.train_on_batch(X,y)\n",
    "        history[\"d\"].append(d_loss)\n",
    "        # train Generator-Discriminator stack on input noise to non-generated output class\n",
    "        noise_tr = np.random.uniform(-1,1,size=[batch_size,input_dim])\n",
    "        y = np.ones([batch_size, 1])\n",
    "        g_loss = AM.train_on_batch(noise_tr, y)\n",
    "        history[\"g\"].append(g_loss)\n",
    "        if e % 1000 == 0:\n",
    "            log_mesg = \"%d: [D loss: %f, acc: %f]\" % (e, d_loss[0], d_loss[1])\n",
    "            log_mesg = \"%s  [G loss: %f, acc: %f]\" % (log_mesg, g_loss[0], g_loss[1])\n",
    "            print(log_mesg)\n",
    "    end_time = time.time()\n",
    "    total_time = end_time - start_time\n",
    "    return history, total_time\n",
    "\n",
    "train_steps = 5000 #or few if  you want\n",
    "hist, time_d = train_on_steps(X_train,DM,AM,G,train_steps,64, input_dim)"
   ]
  },
  {
   "cell_type": "code",
   "execution_count": 10,
   "metadata": {},
   "outputs": [
    {
     "data": {
      "image/png": "[encoded data removed]",
      "text/plain": [
       "<Figure size 720x360 with 2 Axes>"
      ]
     },
     "metadata": {},
     "output_type": "display_data"
    }
   ],
   "source": [
    "hist_d_loss = [item for item in map(lambda x: x[0], hist['d'])]\n",
    "hist_g_loss = [item for item in map(lambda x: x[0], hist['g'])]\n",
    "\n",
    "plt.figure(figsize=(10,5))\n",
    "plt.subplot(1, 2, 1)\n",
    "plt.plot(hist_d_loss[0:10])\n",
    "plt.plot(hist_g_loss[0:10])\n",
    "plt.legend(['D loss', 'G loss'])\n",
    "plt.xlabel('steps')\n",
    "plt.ylabel('loss')\n",
    "\n",
    "plt.subplot(1, 2, 2)\n",
    "plt.plot(hist_d_loss)\n",
    "plt.plot(hist_g_loss)\n",
    "plt.legend(['D loss', 'G loss'])\n",
    "plt.xlabel('steps')\n",
    "plt.ylabel('loss')\n",
    "plt.show()"
   ]
  },
  {
   "cell_type": "markdown",
   "metadata": {},
   "source": [
    "###  e) Genere nuevos datos artificialmente a través del modelo generador *G* ya entrenado, para esto inicialice aleatoriamente el espacio oculto de dimensiones del generador a través de una distribución Uniforme entre -1 y 1, al igual como fue entrenado. Comente sobre las imágenes generadas y compare con lo realizado con el VAE, en temas de calidad visual y en tiempos de ejecución."
   ]
  },
  {
   "cell_type": "code",
   "execution_count": 11,
   "metadata": {},
   "outputs": [
    {
     "data": {
      "image/png": "[encoded data removed]",
      "text/plain": [
       "<Figure size 432x288 with 10 Axes>"
      ]
     },
     "metadata": {},
     "output_type": "display_data"
    }
   ],
   "source": [
    "N = 10\n",
    "noise = np.random.uniform(-1.0, 1.0, size=[N, input_dim]) \n",
    "images = G.predict(noise)\n",
    "import matplotlib.pyplot as plt\n",
    "for i in range(images.shape[0]):\n",
    "    plt.subplot(4, 4, i+1)\n",
    "    image = images[i, :, :, :]\n",
    "    image = np.reshape(image, [img_rows, img_cols])\n",
    "    plt.imshow(image, cmap='gnuplot2')\n",
    "    plt.axis('off')\n",
    "plt.tight_layout()\n",
    "plt.show()"
   ]
  },
  {
   "cell_type": "markdown",
   "metadata": {},
   "source": [
    "**Comentario**\n",
    "\n",
    "Las imágenes generadas tienen un leve parecido con las originales, pero definitivamente su calidad visual es inferior a las generadas por el VAE. Quizás un punto a favor de estas imágenes que son más \"definidas\" en el sentido que no tienen esos halos de color rosado."
   ]
  },
  {
   "cell_type": "markdown",
   "metadata": {},
   "source": [
    "### f) ¿Qué le parece que resulta más crucial al momento de entrenar las GAN, saber que se tiene un buen generador e intentar mejorar el discriminador o saber que se tiene un buen discriminador e intentar mejorar el generador? en ambos casos para que el generador mejore. Experimente con una de las ideas, modifique el generador o el discriminador e intente generar mejores imágenes artificiales."
   ]
  },
  {
   "cell_type": "markdown",
   "metadata": {},
   "source": [
    "Se podría pensar que un buen discriminador va a permitir entrenar cualquier generador hasta su máximo potencial. A continuación se trata de hacer un mejor discriminador cambiando las capas de Dropout por una de BatchNormalization.\n"
   ]
  },
  {
   "cell_type": "code",
   "execution_count": 12,
   "metadata": {},
   "outputs": [
    {
     "name": "stdout",
     "output_type": "stream",
     "text": [
      "_________________________________________________________________\n",
      "Layer (type)                 Output Shape              Param #   \n",
      "=================================================================\n",
      "conv2d_4 (Conv2D)            (None, 14, 14, 64)        1664      \n",
      "_________________________________________________________________\n",
      "leaky_re_lu_5 (LeakyReLU)    (None, 14, 14, 64)        0         \n",
      "_________________________________________________________________\n",
      "batch_normalization_5 (Batch (None, 14, 14, 64)        256       \n",
      "_________________________________________________________________\n",
      "conv2d_5 (Conv2D)            (None, 7, 7, 128)         204928    \n",
      "_________________________________________________________________\n",
      "leaky_re_lu_6 (LeakyReLU)    (None, 7, 7, 128)         0         \n",
      "_________________________________________________________________\n",
      "batch_normalization_6 (Batch (None, 7, 7, 128)         512       \n",
      "_________________________________________________________________\n",
      "conv2d_6 (Conv2D)            (None, 4, 4, 256)         819456    \n",
      "_________________________________________________________________\n",
      "leaky_re_lu_7 (LeakyReLU)    (None, 4, 4, 256)         0         \n",
      "_________________________________________________________________\n",
      "batch_normalization_7 (Batch (None, 4, 4, 256)         1024      \n",
      "_________________________________________________________________\n",
      "flatten_2 (Flatten)          (None, 4096)              0         \n",
      "_________________________________________________________________\n",
      "dense_5 (Dense)              (None, 1024)              4195328   \n",
      "_________________________________________________________________\n",
      "batch_normalization_8 (Batch (None, 1024)              4096      \n",
      "_________________________________________________________________\n",
      "leaky_re_lu_8 (LeakyReLU)    (None, 1024)              0         \n",
      "_________________________________________________________________\n",
      "dense_6 (Dense)              (None, 1)                 1025      \n",
      "=================================================================\n",
      "Total params: 5,228,289\n",
      "Trainable params: 5,225,345\n",
      "Non-trainable params: 2,944\n",
      "_________________________________________________________________\n",
      "5000\n",
      "0: [D loss: 0.791833, acc: 0.585938]  [G loss: 5.376402, acc: 0.468750]\n",
      "1000: [D loss: 0.000000, acc: 1.000000]  [G loss: 0.022446, acc: 1.000000]\n",
      "2000: [D loss: 0.000000, acc: 1.000000]  [G loss: 0.015220, acc: 1.000000]\n",
      "3000: [D loss: 0.000000, acc: 1.000000]  [G loss: 0.009809, acc: 1.000000]\n",
      "4000: [D loss: 0.000000, acc: 1.000000]  [G loss: 0.008037, acc: 1.000000]\n"
     ]
    },
    {
     "data": {
      "image/png": "[encoded data removed]",
      "text/plain": [
       "<Figure size 432x288 with 10 Axes>"
      ]
     },
     "metadata": {},
     "output_type": "display_data"
    }
   ],
   "source": [
    "## Discriminator\n",
    "D2 = Sequential()\n",
    "d2_depth = 64\n",
    "d2_dropout = 0.4\n",
    "input_shape = (img_rows, img_cols, channel)\n",
    "d2_lr_alpha = 0.02\n",
    "\n",
    "D2.add(Conv2D(depth*1, (5,5), strides=2, input_shape=input_shape, padding='same'))\n",
    "D2.add(LeakyReLU(alpha=lr_alpha))      \n",
    "#D.add(Dropout(dropout))\n",
    "D2.add(BatchNormalization())\n",
    "\n",
    "\n",
    "D2.add(Conv2D(depth*2, (5,5), strides=2, padding='same'))      \n",
    "D2.add(LeakyReLU(alpha=lr_alpha))      \n",
    "#D.add(Dropout(dropout))\n",
    "D2.add(BatchNormalization())\n",
    "\n",
    "D2.add(Conv2D(depth*4, (5,5), strides=2, padding='same'))      \n",
    "D2.add(LeakyReLU(alpha=lr_alpha))\n",
    "#D.add(Dropout(dropout))\n",
    "D2.add(BatchNormalization())\n",
    "\n",
    "D2.add(Flatten())\n",
    "\n",
    "#D.add(Dense(1024,activation=LeakyReLU(alpha=0.2)))\n",
    "D2.add(Dense(1024))\n",
    "D2.add(BatchNormalization())\n",
    "\n",
    "D2.add(LeakyReLU(alpha=lr_alpha))      \n",
    "\n",
    "D2.add(Dense(1,activation='sigmoid'))\n",
    "D2.summary()\n",
    "\n",
    "optimizer = RMSprop(lr=0.0008, clipvalue=1.0, decay=6e-8)\n",
    "DM2 = Sequential()\n",
    "DM2.add(D2)\n",
    "DM2.compile(loss='binary_crossentropy', optimizer=optimizer,metrics=['accuracy'])\n",
    "\n",
    "D2.trainable=False #set the discriminator freeze  (fixed params)\n",
    "optimizer = RMSprop(lr=0.0004, clipvalue=1.0, decay=3e-8)\n",
    "AM2 = Sequential()\n",
    "AM2.add(G)\n",
    "AM2.add(D2)\n",
    "AM2.compile(loss='binary_crossentropy', optimizer=optimizer,metrics=['accuracy'])\n",
    "\n",
    "hist, time_f = train_on_steps(X_train,DM2,AM2,G,train_steps,64, input_dim)\n",
    "\n",
    "N = 10\n",
    "noise = np.random.uniform(-1.0, 1.0, size=[N, input_dim]) \n",
    "images = G.predict(noise)\n",
    "import matplotlib.pyplot as plt\n",
    "for i in range(images.shape[0]):\n",
    "    plt.subplot(4, 4, i+1)\n",
    "    image = images[i, :, :, :]\n",
    "    image = np.reshape(image, [img_rows, img_cols])\n",
    "    plt.imshow(image, cmap='gnuplot2')\n",
    "    plt.axis('off')\n",
    "plt.tight_layout()\n",
    "plt.show()"
   ]
  },
  {
   "cell_type": "markdown",
   "metadata": {},
   "source": [
    "** Comentario **\n",
    "\n",
    "Al parecer el discriminador generado es demasiado exigente y preciso, logra accuracy 1.0, y ocurrió quizás algún overfitting que no logró un mejor generador."
   ]
  },
  {
   "cell_type": "markdown",
   "metadata": {},
   "source": [
    "### g) ¿Qué pasa al cambiar la distribución latente de los datos $z$? Comente sobre alguna distribución elegida, diferente a la Uniforme, e **implementela** entrenando completamente el modelo."
   ]
  },
  {
   "cell_type": "markdown",
   "metadata": {},
   "source": [
    "Para cambiar la distribución latente de los datos es necesario reemplazar el código donde samplea de la distribución uniforme, para que el muestreo salga de otra distribución"
   ]
  },
  {
   "cell_type": "code",
   "execution_count": 13,
   "metadata": {},
   "outputs": [
    {
     "name": "stdout",
     "output_type": "stream",
     "text": [
      "0: [D loss: 0.148494, acc: 0.945312]  [G loss: 3.266486, acc: 0.000000]\n",
      "1000: [D loss: 0.187117, acc: 0.929688]  [G loss: 0.913400, acc: 0.609375]\n",
      "2000: [D loss: 0.121262, acc: 0.960938]  [G loss: 1.153277, acc: 0.515625]\n",
      "3000: [D loss: 0.169462, acc: 0.898438]  [G loss: 0.850254, acc: 0.578125]\n",
      "4000: [D loss: 0.118179, acc: 0.968750]  [G loss: 0.573440, acc: 0.718750]\n"
     ]
    }
   ],
   "source": [
    "def train_on_steps_norm(X_train,DM,AM,G,steps,batch_size, input_dim):\n",
    "    history = {\"d\":[],\"g\":[]}\n",
    "    start_time = time.time()\n",
    "    for e in range(steps):\n",
    "        # Make generative images        \n",
    "        image_batch = X_train[np.random.randint(0,X_train.shape[0],size=batch_size),:,:,:] #sample images from real data\n",
    "\n",
    "        ##noise_gen = np.random.uniform(-1,1,size=[batch_size,input_dim]) #sample image from generated data\n",
    "        ## Sampling de distribucion normal con media 0 y desv estandar 1\n",
    "        noise_gen = np.random.normal(0, 1, size=[batch_size, input_dim])\n",
    "\n",
    "        generated_images = G.predict(noise_gen) #fake images\n",
    "        # Train discriminator on generated images\n",
    "        X = np.concatenate((image_batch, generated_images))\n",
    "        #create labels\n",
    "        y = np.ones([2*batch_size,1])\n",
    "        y[batch_size:,:] = 0\n",
    "        d_loss  = DM.train_on_batch(X,y)\n",
    "        history[\"d\"].append(d_loss)\n",
    "        \n",
    "        # train Generator-Discriminator stack on input noise to non-generated output class        \n",
    "        #noise_tr = np.random.uniform(-1,1,size=[batch_size,input_dim])\n",
    "        noise_tr = np.random.normal(0, 1, size=[batch_size,input_dim])\n",
    "\n",
    "        y = np.ones([batch_size, 1])\n",
    "        g_loss = AM.train_on_batch(noise_tr, y)\n",
    "        history[\"g\"].append(g_loss)\n",
    "        if e % 1000 == 0:\n",
    "            log_mesg = \"%d: [D loss: %f, acc: %f]\" % (e, d_loss[0], d_loss[1])\n",
    "            log_mesg = \"%s  [G loss: %f, acc: %f]\" % (log_mesg, g_loss[0], g_loss[1])\n",
    "            print(log_mesg)\n",
    "    \n",
    "    end_time = time.time()\n",
    "    total_time = end_time - start_time\n",
    "    return history, total_time\n",
    "    \n",
    "train_steps = 5000 #or few if  you want\n",
    "hist, time_g = train_on_steps_norm(X_train,DM,AM,G,train_steps,64, input_dim)"
   ]
  },
  {
   "cell_type": "code",
   "execution_count": 14,
   "metadata": {},
   "outputs": [
    {
     "data": {
      "image/png": "[encoded data removed]",
      "text/plain": [
       "<Figure size 720x360 with 2 Axes>"
      ]
     },
     "metadata": {},
     "output_type": "display_data"
    },
    {
     "data": {
      "image/png": "[encoded data removed]",
      "text/plain": [
       "<Figure size 432x288 with 10 Axes>"
      ]
     },
     "metadata": {},
     "output_type": "display_data"
    }
   ],
   "source": [
    "hist_d_loss = [item for item in map(lambda x: x[0], hist['d'])]\n",
    "hist_g_loss = [item for item in map(lambda x: x[0], hist['g'])]\n",
    "\n",
    "plt.figure(figsize=(10,5))\n",
    "plt.subplot(1, 2, 1)\n",
    "plt.plot(hist_d_loss[0:10])\n",
    "plt.plot(hist_g_loss[0:10])\n",
    "plt.legend(['D loss', 'G loss'])\n",
    "plt.xlabel('steps')\n",
    "plt.ylabel('loss')\n",
    "\n",
    "plt.subplot(1, 2, 2)\n",
    "plt.plot(hist_d_loss)\n",
    "plt.plot(hist_g_loss)\n",
    "plt.legend(['D loss', 'G loss'])\n",
    "plt.xlabel('steps')\n",
    "plt.ylabel('loss')\n",
    "plt.show()\n",
    "\n",
    "N = 10\n",
    "##noise = np.random.uniform(-1.0, 1.0, size=[N, input_dim]) \n",
    "noise = np.random.normal(0, 1, size=[N,input_dim])\n",
    "\n",
    "images = G.predict(noise)\n",
    "import matplotlib.pyplot as plt\n",
    "for i in range(images.shape[0]):\n",
    "    plt.subplot(4, 4, i+1)\n",
    "    image = images[i, :, :, :]\n",
    "    image = np.reshape(image, [img_rows, img_cols])\n",
    "    plt.imshow(image, cmap='gnuplot2')\n",
    "    plt.axis('off')\n",
    "plt.tight_layout()\n",
    "plt.show()"
   ]
  },
  {
   "cell_type": "markdown",
   "metadata": {},
   "source": [
    "**Comentario**\n",
    "\n",
    "En comparación con las imágenes generadas en el punto e se podría decir que estas imagenes son mejores, ya que están un poco más definidas y se parecen más a las originales. Siguen siendo inferiores a las generadas por el VAE, en todo caso. Se puede concluir también que la distribución latente sí tiene impacto en la calidad de las imágenes generadas."
   ]
  },
  {
   "cell_type": "markdown",
   "metadata": {},
   "source": [
    "### h) Comente sobre el efecto de aumentar la dimensionalidad de las variables a generar datos $z$. Compare con lo acontecido con el método generativo VAE."
   ]
  },
  {
   "cell_type": "markdown",
   "metadata": {},
   "source": [
    "Para aumentar la dimensionalidad solo hay que modificar el generador, cambiando la variable input_dim. Se modifica a 4 ingual que como se hizo en VAE."
   ]
  },
  {
   "cell_type": "code",
   "execution_count": 15,
   "metadata": {},
   "outputs": [
    {
     "name": "stdout",
     "output_type": "stream",
     "text": [
      "_________________________________________________________________\n",
      "Layer (type)                 Output Shape              Param #   \n",
      "=================================================================\n",
      "dense_7 (Dense)              (None, 128)               640       \n",
      "_________________________________________________________________\n",
      "batch_normalization_9 (Batch (None, 128)               512       \n",
      "_________________________________________________________________\n",
      "activation_6 (Activation)    (None, 128)               0         \n",
      "_________________________________________________________________\n",
      "dense_8 (Dense)              (None, 12544)             1618176   \n",
      "_________________________________________________________________\n",
      "batch_normalization_10 (Batc (None, 12544)             50176     \n",
      "_________________________________________________________________\n",
      "activation_7 (Activation)    (None, 12544)             0         \n",
      "_________________________________________________________________\n",
      "reshape_2 (Reshape)          (None, 14, 14, 64)        0         \n",
      "_________________________________________________________________\n",
      "conv2d_transpose_4 (Conv2DTr (None, 28, 28, 32)        18464     \n",
      "_________________________________________________________________\n",
      "batch_normalization_11 (Batc (None, 28, 28, 32)        128       \n",
      "_________________________________________________________________\n",
      "activation_8 (Activation)    (None, 28, 28, 32)        0         \n",
      "_________________________________________________________________\n",
      "conv2d_transpose_5 (Conv2DTr (None, 28, 28, 32)        9248      \n",
      "_________________________________________________________________\n",
      "batch_normalization_12 (Batc (None, 28, 28, 32)        128       \n",
      "_________________________________________________________________\n",
      "activation_9 (Activation)    (None, 28, 28, 32)        0         \n",
      "_________________________________________________________________\n",
      "conv2d_transpose_6 (Conv2DTr (None, 28, 28, 1)         289       \n",
      "_________________________________________________________________\n",
      "activation_10 (Activation)   (None, 28, 28, 1)         0         \n",
      "=================================================================\n",
      "Total params: 1,697,761\n",
      "Trainable params: 1,672,289\n",
      "Non-trainable params: 25,472\n",
      "_________________________________________________________________\n"
     ]
    }
   ],
   "source": [
    "## Generator\n",
    "G2 = Sequential()\n",
    "dim = 14\n",
    "input_dim_g2 = 4 #2 #para que sea similar al vAE\n",
    "\n",
    "G2.add(Dense(128, input_dim=input_dim_g2))\n",
    "G2.add(BatchNormalization())\n",
    "G2.add(Activation('relu'))\n",
    "\n",
    "G2.add(Dense(dim*dim*depth))\n",
    "G2.add(BatchNormalization())\n",
    "G2.add(Activation('relu'))\n",
    "\n",
    "G2.add(Reshape((dim, dim, depth)))\n",
    "\n",
    "G2.add(Conv2DTranspose(depth/2, (3,3), padding='same',strides=(2,2)))\n",
    "G2.add(BatchNormalization())\n",
    "G2.add(Activation('relu'))\n",
    "\n",
    "G2.add(Conv2DTranspose(depth/2, (3,3), padding='same'))\n",
    "G2.add(BatchNormalization())\n",
    "G2.add(Activation('relu'))\n",
    "\n",
    "G2.add(Conv2DTranspose(channel, (3,3), padding='same')) \n",
    "G2.add(Activation('sigmoid')) \n",
    "G2.summary()\n",
    "\n",
    "optimizer = RMSprop(lr=0.0004, clipvalue=1.0, decay=3e-8)\n",
    "AM2 = Sequential()\n",
    "AM2.add(G2)\n",
    "AM2.add(D)\n",
    "AM2.compile(loss='binary_crossentropy', optimizer=optimizer,metrics=['accuracy'])\n"
   ]
  },
  {
   "cell_type": "code",
   "execution_count": 16,
   "metadata": {},
   "outputs": [
    {
     "name": "stdout",
     "output_type": "stream",
     "text": [
      "6000\n",
      "0: [D loss: 0.018592, acc: 1.000000]  [G loss: 7.008023, acc: 0.000000]\n",
      "1000: [D loss: 0.398836, acc: 0.843750]  [G loss: 1.322935, acc: 0.156250]\n",
      "2000: [D loss: 0.340182, acc: 0.851562]  [G loss: 1.921448, acc: 0.109375]\n",
      "3000: [D loss: 0.367445, acc: 0.804688]  [G loss: 2.638875, acc: 0.078125]\n",
      "4000: [D loss: 0.266962, acc: 0.859375]  [G loss: 1.570938, acc: 0.250000]\n",
      "5000: [D loss: 0.191729, acc: 0.929688]  [G loss: 1.226031, acc: 0.390625]\n"
     ]
    },
    {
     "data": {
      "image/png": "[encoded data removed]",
      "text/plain": [
       "<Figure size 720x360 with 2 Axes>"
      ]
     },
     "metadata": {},
     "output_type": "display_data"
    },
    {
     "data": {
      "image/png": "[encoded data removed]",
      "text/plain": [
       "<Figure size 432x288 with 10 Axes>"
      ]
     },
     "metadata": {},
     "output_type": "display_data"
    }
   ],
   "source": [
    "## Entrenamos el modelo con discriminador D y generador G2\n",
    "train_steps = 6000 #or few if  you want\n",
    "hist, time_h = train_on_steps(X_train,DM,AM2,G2,train_steps,64, input_dim_g2)\n",
    "\n",
    "hist_d_loss = [item for item in map(lambda x: x[0], hist['d'])]\n",
    "hist_g_loss = [item for item in map(lambda x: x[0], hist['g'])]\n",
    "\n",
    "plt.figure(figsize=(10,5))\n",
    "plt.subplot(1, 2, 1)\n",
    "plt.plot(hist_d_loss[0:10])\n",
    "plt.plot(hist_g_loss[0:10])\n",
    "plt.legend(['D loss', 'G loss'])\n",
    "plt.xlabel('steps')\n",
    "plt.ylabel('loss')\n",
    "\n",
    "plt.subplot(1, 2, 2)\n",
    "plt.plot(hist_d_loss)\n",
    "plt.plot(hist_g_loss)\n",
    "plt.legend(['D loss', 'G loss'])\n",
    "plt.xlabel('steps')\n",
    "plt.ylabel('loss')\n",
    "plt.show()\n",
    "\n",
    "N = 10\n",
    "noise = np.random.uniform(-1.0, 1.0, size=[N, input_dim_g2]) \n",
    "images = G2.predict(noise)\n",
    "import matplotlib.pyplot as plt\n",
    "for i in range(images.shape[0]):\n",
    "    plt.subplot(4, 4, i+1)\n",
    "    image = images[i, :, :, :]\n",
    "    image = np.reshape(image, [img_rows, img_cols])\n",
    "    plt.imshow(image, cmap='gnuplot2')\n",
    "    plt.axis('off')\n",
    "plt.tight_layout()\n",
    "plt.show()"
   ]
  },
  {
   "cell_type": "markdown",
   "metadata": {},
   "source": [
    "** Comentario **\n",
    "\n",
    "Al aumentar la dimensionalidad pareciera ser que se generan mejores imágenes, pero sigue sin estar cerca de lo logrado por el VAE. Es probable que con dimension 2 el espacio latente ya es suficiente para contener las representaciones de las imágenes de MNIST. Quizás en otros datasets es necesario aumentar la dimensionalidad."
   ]
  },
  {
   "cell_type": "markdown",
   "metadata": {},
   "source": [
    "### Comparación de tiempos de entrenamiento"
   ]
  },
  {
   "cell_type": "code",
   "execution_count": 17,
   "metadata": {},
   "outputs": [
    {
     "name": "stdout",
     "output_type": "stream",
     "text": [
      "Tiempo entrenamiento punto d: 248.188007116\n",
      "Tiempo entrenamiento punto g: 242.010546923\n",
      "Tiempo entrenamiento punto h: 297.887487888\n"
     ]
    }
   ],
   "source": [
    "print(\"Tiempo entrenamiento punto d: %s\" % time_d)\n",
    "print(\"Tiempo entrenamiento punto g: %s\" % time_g)\n",
    "print(\"Tiempo entrenamiento punto h: %s\" % time_h)"
   ]
  },
  {
   "cell_type": "markdown",
   "metadata": {},
   "source": [
    "** Comentario **\n",
    "\n",
    "El tiempo de entrenamiento es mucho mayor que en el caso del VAE, considerando con dimension 2 y 4. Además esta GAN es mucho más compleja de entrenar. Entre los modelos de los puntos d, g, y h, se observa que la diferencia de tiempo no es tan grande: el salto más grande es en el punto h; esto puede indicar que la dimensionalidad tiene un mayor impacto en el tiempo de entrenamiento"
   ]
  }
 ],
 "metadata": {
  "kernelspec": {
   "display_name": "Python 2",
   "language": "python",
   "name": "python2"
  },
  "language_info": {
   "codemirror_mode": {
    "name": "ipython",
    "version": 2
   },
   "file_extension": ".py",
   "mimetype": "text/x-python",
   "name": "python",
   "nbconvert_exporter": "python",
   "pygments_lexer": "ipython2",
   "version": "2.7.15"
  }
 },
 "nbformat": 4,
 "nbformat_minor": 2
}
