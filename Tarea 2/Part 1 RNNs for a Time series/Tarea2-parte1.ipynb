{
 "cells": [
  {
   "cell_type": "markdown",
   "metadata": {},
   "source": [
    "# Tarea 2 - Parte 1\n",
    "# INF477 Redes Neuronales Artificiales I-2018\n",
    "\n",
    "Profesor: Dr. Ricardo Ñanculef -- \n",
    "Ayudante: Francisco Mena\n",
    "\n",
    "Alumnos:\n",
    "- Jose Caimapo, jose.caimapo.12@sansano.usm.cl\n",
    "\n",
    "- Eliana Providel Godoy, eprovide@inf.utfsm.cl"
   ]
  },
  {
   "cell_type": "code",
   "execution_count": 271,
   "metadata": {},
   "outputs": [],
   "source": [
    "import numpy as np\n",
    "import pandas as pd\n",
    "from IPython.core.interactiveshell import InteractiveShell\n",
    "InteractiveShell.ast_node_interactivity = \"all\"\n",
    "import matplotlib.pyplot as plt\n",
    "\n",
    "from keras.models import Sequential\n",
    "from keras.layers import Dense\n",
    "from keras.layers import LSTM\n",
    "\n",
    "from sklearn.metrics import mean_squared_error\n",
    "import math\n",
    "\n",
    "import time\n",
    "\n",
    "np.random.seed(7) ## semilla"
   ]
  },
  {
   "cell_type": "markdown",
   "metadata": {},
   "source": [
    "### a) Función que carga los datos, los divide en 1500 de entrenamiento y el 500 de pruebas, y escalado de datos para trabajar con redes recurrentes."
   ]
  },
  {
   "cell_type": "code",
   "execution_count": 272,
   "metadata": {},
   "outputs": [],
   "source": [
    "## Función que carga los datos y escala\n",
    "def data(name_f, num):    \n",
    "    # Leer archivo CSV extrayendo la columna 1, y luego guardando solo los primeros num datos\n",
    "    dataframe = pd.read_csv(name_f,sep=',',usecols=[1],engine='python',skipfooter = 3)[:num]\n",
    "    \n",
    "    # Transforma todos los datos a tipo float32\n",
    "    dataframe[:] = dataframe[:].astype('float32')\n",
    "    \n",
    "    # en df_train guarda los primeros 1500 valores --- posicion 0 hasta 1500 y\n",
    "    # en df_test guarda los restantes  500 valores --- posicion 1500 hasta el final\n",
    "    df_train, df_test = dataframe[:1500].values, dataframe[1500:].values\n",
    "    \n",
    "    from sklearn.preprocessing import MinMaxScaler\n",
    "    scaler = MinMaxScaler(feature_range=(0,1)).fit(df_train)\n",
    "    stream_train_scaled = scaler.transform(df_train)\n",
    "    stream_test_scaled  = scaler.transform(df_test)\n",
    "    return scaler, dataframe, stream_train_scaled, stream_test_scaled"
   ]
  },
  {
   "cell_type": "markdown",
   "metadata": {},
   "source": [
    "** Utilizando la función data (definida anteriormente) y verificando la distribución de los datos **"
   ]
  },
  {
   "cell_type": "code",
   "execution_count": 273,
   "metadata": {},
   "outputs": [],
   "source": [
    "name_f = \"time_series_data.csv\"\n",
    "num = 2000\n",
    "\n",
    "scaler, dataframe,stream_train_scaled,stream_test_scaled = data(name_f,num)\n",
    "stream_train_scaled_Orig = np.copy(stream_train_scaled) ##para tener una copia de los datos originales.\n",
    "stream_test_scaled_Orig = np.copy(stream_test_scaled)   ##para tener una copia de los datos originales."
   ]
  },
  {
   "cell_type": "code",
   "execution_count": 274,
   "metadata": {},
   "outputs": [
    {
     "data": {
      "text/html": [
       "<div>\n",
       "<style scoped>\n",
       "    .dataframe tbody tr th:only-of-type {\n",
       "        vertical-align: middle;\n",
       "    }\n",
       "\n",
       "    .dataframe tbody tr th {\n",
       "        vertical-align: top;\n",
       "    }\n",
       "\n",
       "    .dataframe thead th {\n",
       "        text-align: right;\n",
       "    }\n",
       "</style>\n",
       "<table border=\"1\" class=\"dataframe\">\n",
       "  <thead>\n",
       "    <tr style=\"text-align: right;\">\n",
       "      <th></th>\n",
       "      <th>Daily minimum temperatures in Melbourne, Australia, 1981-1990</th>\n",
       "    </tr>\n",
       "  </thead>\n",
       "  <tbody>\n",
       "    <tr>\n",
       "      <th>count</th>\n",
       "      <td>2000.000000</td>\n",
       "    </tr>\n",
       "    <tr>\n",
       "      <th>mean</th>\n",
       "      <td>11.148250</td>\n",
       "    </tr>\n",
       "    <tr>\n",
       "      <th>std</th>\n",
       "      <td>4.194983</td>\n",
       "    </tr>\n",
       "    <tr>\n",
       "      <th>min</th>\n",
       "      <td>0.000000</td>\n",
       "    </tr>\n",
       "    <tr>\n",
       "      <th>25%</th>\n",
       "      <td>8.100000</td>\n",
       "    </tr>\n",
       "    <tr>\n",
       "      <th>50%</th>\n",
       "      <td>11.000000</td>\n",
       "    </tr>\n",
       "    <tr>\n",
       "      <th>75%</th>\n",
       "      <td>14.000000</td>\n",
       "    </tr>\n",
       "    <tr>\n",
       "      <th>max</th>\n",
       "      <td>26.299999</td>\n",
       "    </tr>\n",
       "  </tbody>\n",
       "</table>\n",
       "</div>"
      ],
      "text/plain": [
       "       Daily minimum temperatures in Melbourne, Australia, 1981-1990\n",
       "count                                        2000.000000            \n",
       "mean                                           11.148250            \n",
       "std                                             4.194983            \n",
       "min                                             0.000000            \n",
       "25%                                             8.100000            \n",
       "50%                                            11.000000            \n",
       "75%                                            14.000000            \n",
       "max                                            26.299999            "
      ]
     },
     "execution_count": 274,
     "metadata": {},
     "output_type": "execute_result"
    },
    {
     "data": {
      "text/html": [
       "<div>\n",
       "<style scoped>\n",
       "    .dataframe tbody tr th:only-of-type {\n",
       "        vertical-align: middle;\n",
       "    }\n",
       "\n",
       "    .dataframe tbody tr th {\n",
       "        vertical-align: top;\n",
       "    }\n",
       "\n",
       "    .dataframe thead th {\n",
       "        text-align: right;\n",
       "    }\n",
       "</style>\n",
       "<table border=\"1\" class=\"dataframe\">\n",
       "  <thead>\n",
       "    <tr style=\"text-align: right;\">\n",
       "      <th></th>\n",
       "      <th>Daily minimum temperatures in Melbourne, Australia, 1981-1990</th>\n",
       "    </tr>\n",
       "  </thead>\n",
       "  <tbody>\n",
       "    <tr>\n",
       "      <th>0</th>\n",
       "      <td>10.0</td>\n",
       "    </tr>\n",
       "  </tbody>\n",
       "</table>\n",
       "</div>"
      ],
      "text/plain": [
       "   Daily minimum temperatures in Melbourne, Australia, 1981-1990\n",
       "0                                               10.0            "
      ]
     },
     "execution_count": 274,
     "metadata": {},
     "output_type": "execute_result"
    },
    {
     "data": {
      "text/plain": [
       "<matplotlib.axes._subplots.AxesSubplot at 0x1a565616d8>"
      ]
     },
     "execution_count": 274,
     "metadata": {},
     "output_type": "execute_result"
    },
    {
     "data": {
      "image/png": "[encoded data removed]",
      "text/plain": [
       "<Figure size 432x288 with 1 Axes>"
      ]
     },
     "metadata": {},
     "output_type": "display_data"
    }
   ],
   "source": [
    "##  Describiendo el dataframe\n",
    "dataframe.describe()\n",
    "dataframe.mode()\n",
    "dataframe.boxplot()"
   ]
  },
  {
   "cell_type": "code",
   "execution_count": 276,
   "metadata": {},
   "outputs": [
    {
     "name": "stdout",
     "output_type": "stream",
     "text": [
      "Datos de entrenamiento escalados\n",
      "Max: 1.0\n",
      "Min: 0.0\n",
      "Len: 1500\n",
      "Datos de prueba escalados\n",
      "Max: 0.851711\n",
      "Min: 0.0114068\n",
      "Len: 500\n"
     ]
    },
    {
     "data": {
      "image/png": "[encoded data removed]",
      "text/plain": [
       "<Figure size 432x288 with 1 Axes>"
      ]
     },
     "metadata": {},
     "output_type": "display_data"
    }
   ],
   "source": [
    "## Para los datos de entrenamiento y prueba escalados\n",
    "\n",
    "print(\"Datos de entrenamiento escalados\")\n",
    "print(\"Max: %s\" % (stream_train_scaled.max()))\n",
    "print(\"Min: %s\" % (stream_train_scaled.min()))\n",
    "print(\"Len: %s\" % (len(stream_train_scaled)))\n",
    "\n",
    "print(\"Datos de prueba escalados\")\n",
    "print(\"Max: %s\" % (stream_test_scaled.max()))\n",
    "print(\"Min: %s\" % (stream_test_scaled.min()))\n",
    "print(\"Len: %s\" % (len(stream_test_scaled)))\n",
    "\n",
    "scaled_data = [stream_train_scaled,stream_test_scaled]\n",
    "_ = plt.title(\"Datos de entrenamiento\")\n",
    "_ = plt.boxplot(scaled_data)\n"
   ]
  },
  {
   "cell_type": "code",
   "execution_count": 277,
   "metadata": {
    "scrolled": true
   },
   "outputs": [
    {
     "data": {
      "image/png": "[encoded data removed]",
      "text/plain": [
       "<Figure size 432x288 with 1 Axes>"
      ]
     },
     "metadata": {},
     "output_type": "display_data"
    },
    {
     "data": {
      "image/png": "[encoded data removed]",
      "text/plain": [
       "<Figure size 432x288 with 1 Axes>"
      ]
     },
     "metadata": {},
     "output_type": "display_data"
    }
   ],
   "source": [
    "hist, bin_edges = np.histogram(stream_test_scaled,bins='auto')\n",
    "_ = plt.hist(stream_test_scaled, bins=bin_edges)\n",
    "_ = plt.title(\"Histograma de datos de prueba\")\n",
    "plt.show()\n",
    "\n",
    "hist, bin_edges = np.histogram(stream_train_scaled,bins='auto')\n",
    "_ = plt.hist(stream_train_scaled, bins=bin_edges)\n",
    "_ = plt.title(\"Histograma de datos de entrenamiento\")\n",
    "plt.show()"
   ]
  },
  {
   "cell_type": "markdown",
   "metadata": {},
   "source": [
    "### b)  Función que recibe una secuencia de valores y la transforma en dos arreglos dataX (input) y dataY (targets) donde el número de características de la matriz de entrada (columnas) es el número de tiempos que se considera como información (lag).\n",
    "\n",
    "### lag es el número de períodos los que serán usados para la predicción."
   ]
  },
  {
   "cell_type": "code",
   "execution_count": 278,
   "metadata": {},
   "outputs": [],
   "source": [
    "def create_dataset(dataset,lag=1):\n",
    "    # filas\n",
    "    m = len(dataset) - lag    \n",
    "    # columnas\n",
    "    n = lag + 1    \n",
    "    data = np.array( [ dataset[x:x+lag+1].flatten() for x in range(0, m) ] )\n",
    "    dataY=data[:,lag]\n",
    "    dataX=np.delete(data,lag,1)\n",
    "    return dataX, dataY\n"
   ]
  },
  {
   "cell_type": "code",
   "execution_count": 279,
   "metadata": {},
   "outputs": [
    {
     "name": "stdout",
     "output_type": "stream",
     "text": [
      "dataX [[ 20.7  17.9  18.8]\n",
      " [ 17.9  18.8  14.6]\n",
      " [ 18.8  14.6  15.8]\n",
      " [ 14.6  15.8  15.8]]\n",
      "\n",
      "dataY [ 14.6  15.8  15.8  10.1]\n"
     ]
    }
   ],
   "source": [
    "## Ejemplo según enunciado\n",
    "dset_prueba = np.array([[20.7], [17.9], [18.8], [14.6], [15.8], [15.8], [10.1]])\n",
    "dataX, dataY = create_dataset(dset_prueba, 3)\n",
    "\n",
    "print(\"dataX %s\\n\"  % (dataX))\n",
    "print(\"dataY %s\"  % (dataY))"
   ]
  },
  {
   "cell_type": "markdown",
   "metadata": {},
   "source": [
    "### c) Utilizando la función anterior se generan los  conjuntos de prueba y entrenamiento"
   ]
  },
  {
   "cell_type": "code",
   "execution_count": 293,
   "metadata": {
    "scrolled": true
   },
   "outputs": [
    {
     "name": "stdout",
     "output_type": "stream",
     "text": [
      "TrainX\n"
     ]
    },
    {
     "data": {
      "text/plain": [
       "(1497, 3)"
      ]
     },
     "execution_count": 293,
     "metadata": {},
     "output_type": "execute_result"
    },
    {
     "data": {
      "text/plain": [
       "(1497,)"
      ]
     },
     "execution_count": 293,
     "metadata": {},
     "output_type": "execute_result"
    },
    {
     "data": {
      "text/plain": [
       "array([[ 0.7870723 ,  0.68060839,  0.71482891],\n",
       "       [ 0.68060839,  0.71482891,  0.5551331 ],\n",
       "       [ 0.71482891,  0.5551331 ,  0.60076052],\n",
       "       ..., \n",
       "       [ 0.72243351,  0.59695822,  0.68441069],\n",
       "       [ 0.59695822,  0.68441069,  0.5627377 ],\n",
       "       [ 0.68441069,  0.5627377 ,  0.52851713]], dtype=float32)"
      ]
     },
     "execution_count": 293,
     "metadata": {},
     "output_type": "execute_result"
    },
    {
     "name": "stdout",
     "output_type": "stream",
     "text": [
      "TestY\n"
     ]
    },
    {
     "data": {
      "text/plain": [
       "(497, 3)"
      ]
     },
     "execution_count": 293,
     "metadata": {},
     "output_type": "execute_result"
    },
    {
     "data": {
      "text/plain": [
       "(497,)"
      ]
     },
     "execution_count": 293,
     "metadata": {},
     "output_type": "execute_result"
    },
    {
     "data": {
      "text/plain": [
       "array([[ 0.58174908,  0.54372627,  0.59315592],\n",
       "       [ 0.54372627,  0.59315592,  0.60836506],\n",
       "       [ 0.59315592,  0.60836506,  0.56653994],\n",
       "       ..., \n",
       "       [ 0.32699624,  0.21673004,  0.20912549],\n",
       "       [ 0.21673004,  0.20912549,  0.21673004],\n",
       "       [ 0.20912549,  0.21673004,  0.21673004]], dtype=float32)"
      ]
     },
     "execution_count": 293,
     "metadata": {},
     "output_type": "execute_result"
    }
   ],
   "source": [
    "lag = 3\n",
    "trainX, trainY = create_dataset(stream_train_scaled, lag)\n",
    "testX, testY   = create_dataset(stream_test_scaled , lag)\n",
    "\n",
    "## Verificando las dimensiones y datos\n",
    "## *X Tiene la forma [ejemplos, atributos]\n",
    "\n",
    "print(\"TrainX\")\n",
    "trainX.shape\n",
    "trainY.shape\n",
    "trainX\n",
    "\n",
    "print(\"TestY\")\n",
    "testX.shape\n",
    "testY.shape\n",
    "testX\n"
   ]
  },
  {
   "cell_type": "markdown",
   "metadata": {},
   "source": [
    "### d) Se transfoman los datos para que tengan la estructura [samples, time step, features], dado que   hasta ahora tienen la estructura [samples, features] que no es lo requerido para la red LSTM."
   ]
  },
  {
   "cell_type": "code",
   "execution_count": 294,
   "metadata": {},
   "outputs": [
    {
     "name": "stdout",
     "output_type": "stream",
     "text": [
      "Shape trainX\n"
     ]
    },
    {
     "data": {
      "text/plain": [
       "(1497, 1, 3)"
      ]
     },
     "execution_count": 294,
     "metadata": {},
     "output_type": "execute_result"
    },
    {
     "name": "stdout",
     "output_type": "stream",
     "text": [
      "Shape testX\n"
     ]
    },
    {
     "data": {
      "text/plain": [
       "(497, 1, 3)"
      ]
     },
     "execution_count": 294,
     "metadata": {},
     "output_type": "execute_result"
    },
    {
     "name": "stdout",
     "output_type": "stream",
     "text": [
      "Shape trainY\n"
     ]
    },
    {
     "data": {
      "text/plain": [
       "(1497, 1)"
      ]
     },
     "execution_count": 294,
     "metadata": {},
     "output_type": "execute_result"
    },
    {
     "name": "stdout",
     "output_type": "stream",
     "text": [
      "Shape testY\n"
     ]
    },
    {
     "data": {
      "text/plain": [
       "(497, 1)"
      ]
     },
     "execution_count": 294,
     "metadata": {},
     "output_type": "execute_result"
    }
   ],
   "source": [
    "trainX_orig = np.copy(trainX) ## se obtienen copias para fututos usos\n",
    "testX_orig = np.copy(testX)\n",
    "trainY_orig = np.copy(trainY)\n",
    "testY_orig = np.copy(testY)\n",
    "\n",
    "trainX = np.reshape(trainX, (trainX.shape[0], 1, trainX.shape[1]))  ## reshape de trainX\n",
    "testX  = np.reshape(testX,  (testX.shape[0] , 1, testX.shape[1]))   ## reshape de testX\n",
    "\n",
    "print(\"Shape trainX\")\n",
    "trainX.shape\n",
    "print(\"Shape testX\")\n",
    "testX.shape\n",
    "\n",
    "trainY = np.reshape(trainY, (trainY.shape[0], 1)) ## reshape de trainY\n",
    "testY = np.reshape(testY, (testY.shape[0], 1)) ##reshape de testY\n",
    "\n",
    "print(\"Shape trainY\")\n",
    "trainY.shape\n",
    "print(\"Shape testY\")\n",
    "testY.shape"
   ]
  },
  {
   "cell_type": "markdown",
   "metadata": {},
   "source": [
    "### e) Entrenando la red con lag = 3."
   ]
  },
  {
   "cell_type": "code",
   "execution_count": 295,
   "metadata": {},
   "outputs": [
    {
     "name": "stderr",
     "output_type": "stream",
     "text": [
      "/anaconda3/envs/redes-neuronales/lib/python3.6/site-packages/ipykernel_launcher.py:5: UserWarning: The `input_dim` and `input_length` arguments in recurrent layers are deprecated. Use `input_shape` instead.\n",
      "  \"\"\"\n",
      "/anaconda3/envs/redes-neuronales/lib/python3.6/site-packages/ipykernel_launcher.py:5: UserWarning: Update your `LSTM` call to the Keras 2 API: `LSTM(4, activation=\"tanh\", input_shape=(None, 3), recurrent_activation=\"sigmoid\")`\n",
      "  \"\"\"\n"
     ]
    },
    {
     "name": "stdout",
     "output_type": "stream",
     "text": [
      "Epoch 1/25\n",
      "1497/1497 [==============================] - 22s 15ms/step - loss: 0.0285\n",
      "Epoch 2/25\n",
      "1497/1497 [==============================] - 12s 8ms/step - loss: 0.0119\n",
      "Epoch 3/25\n",
      "1497/1497 [==============================] - 12s 8ms/step - loss: 0.0110\n",
      "Epoch 4/25\n",
      "1497/1497 [==============================] - 12s 8ms/step - loss: 0.0107\n",
      "Epoch 5/25\n",
      "1497/1497 [==============================] - 12s 8ms/step - loss: 0.0104\n",
      "Epoch 6/25\n",
      "1497/1497 [==============================] - 12s 8ms/step - loss: 0.0103\n",
      "Epoch 7/25\n",
      "1497/1497 [==============================] - 12s 8ms/step - loss: 0.0102\n",
      "Epoch 8/25\n",
      "1497/1497 [==============================] - 12s 8ms/step - loss: 0.0102\n",
      "Epoch 9/25\n",
      "1497/1497 [==============================] - 16s 10ms/step - loss: 0.0102\n",
      "Epoch 10/25\n",
      "1497/1497 [==============================] - 13s 9ms/step - loss: 0.0101\n",
      "Epoch 11/25\n",
      "1497/1497 [==============================] - 12s 8ms/step - loss: 0.0102\n",
      "Epoch 12/25\n",
      "1497/1497 [==============================] - 12s 8ms/step - loss: 0.0102\n",
      "Epoch 13/25\n",
      "1497/1497 [==============================] - 12s 8ms/step - loss: 0.0102\n",
      "Epoch 14/25\n",
      "1497/1497 [==============================] - 13s 8ms/step - loss: 0.0101\n",
      "Epoch 15/25\n",
      "1497/1497 [==============================] - 12s 8ms/step - loss: 0.0101\n",
      "Epoch 16/25\n",
      "1497/1497 [==============================] - 12s 8ms/step - loss: 0.0100\n",
      "Epoch 17/25\n",
      "1497/1497 [==============================] - 12s 8ms/step - loss: 0.0101\n",
      "Epoch 18/25\n",
      "1497/1497 [==============================] - 12s 8ms/step - loss: 0.0101\n",
      "Epoch 19/25\n",
      "1497/1497 [==============================] - 12s 8ms/step - loss: 0.0101\n",
      "Epoch 20/25\n",
      "1497/1497 [==============================] - 12s 8ms/step - loss: 0.0101\n",
      "Epoch 21/25\n",
      "1497/1497 [==============================] - 13s 9ms/step - loss: 0.0101\n",
      "Epoch 22/25\n",
      "1497/1497 [==============================] - 12s 8ms/step - loss: 0.0101\n",
      "Epoch 23/25\n",
      "1497/1497 [==============================] - 12s 8ms/step - loss: 0.0100\n",
      "Epoch 24/25\n",
      "1497/1497 [==============================] - 13s 9ms/step - loss: 0.0101\n",
      "Epoch 25/25\n",
      "1497/1497 [==============================] - 13s 9ms/step - loss: 0.0100\n",
      "Tiempo de entrenamiento: 318.255566\n"
     ]
    },
    {
     "data": {
      "image/png": "[encoded data removed]",
      "text/plain": [
       "<Figure size 432x288 with 1 Axes>"
      ]
     },
     "metadata": {},
     "output_type": "display_data"
    }
   ],
   "source": [
    "lag = 3\n",
    "history = []\n",
    "\n",
    "model = Sequential()\n",
    "model.add(LSTM(4, input_dim=lag, activation='tanh', inner_activation='sigmoid'))\n",
    "model.add(Dense(1,activation='linear'))\n",
    "model.compile(loss='mean_squared_error', optimizer='adam')\n",
    "start_time = time.time()\n",
    "history.append(model.fit(trainX, trainY, epochs=25, batch_size=1, verbose=1))\n",
    "end_time = time.time()\n",
    "print(\"Tiempo de entrenamiento: %f\" % (end_time-start_time))\n",
    "\n",
    "## Graficar el error, con el objetivo de visualiar de forma gráfica sus valores.\n",
    "_ = plt.close('all')\n",
    "_ = plt.title('MSE vs Epoch ')\n",
    "_ = plt.plot(history[0].history['loss'])\n",
    "_ = plt.xlabel('epoch')\n",
    "_ = plt.ylabel('mse')\n",
    "_ = plt.legend(['entrenamiento'], loc='upper right')\n",
    "plt.show()"
   ]
  },
  {
   "cell_type": "markdown",
   "metadata": {},
   "source": [
    "### f) Predicciones del modelo para los conjuntos de entrenamiento y prueba.  Datos desnormalizados para que el error pueda ser computado en la escala real."
   ]
  },
  {
   "cell_type": "code",
   "execution_count": 296,
   "metadata": {},
   "outputs": [],
   "source": [
    "\n",
    "batch_size = 1\n",
    "\n",
    "##Para los datos de entrenamiento\n",
    "trainPredict = model.predict(trainX,batch_size=batch_size)\n",
    "trainPredict = scaler.inverse_transform(trainPredict)\n",
    "trainY = scaler.inverse_transform(trainY)\n",
    "\n",
    "##Para los datos de prueba\n",
    "testPredict = model.predict(testX,batch_size=batch_size)\n",
    "testPredict = scaler.inverse_transform(testPredict)\n",
    "testY = scaler.inverse_transform(testY)"
   ]
  },
  {
   "cell_type": "markdown",
   "metadata": {},
   "source": [
    "### g)  Cálculo de error RMSE (Root Mean Square Error) sobre el cojunto de entrenamiento y prueba "
   ]
  },
  {
   "cell_type": "code",
   "execution_count": 297,
   "metadata": {},
   "outputs": [
    {
     "name": "stdout",
     "output_type": "stream",
     "text": [
      "Train Score: 2.63 RMSE\n",
      "Test Score: 2.43 RMSE\n"
     ]
    }
   ],
   "source": [
    "##Cálculo de root mean square error\n",
    "trainScore = math.sqrt(mean_squared_error(trainY, trainPredict[:,0]))\n",
    "print('Train Score: %.2f RMSE' % (trainScore))\n",
    "testScore = math.sqrt(mean_squared_error(testY, testPredict[:,0]))\n",
    "print('Test Score: %.2f RMSE' % (testScore))"
   ]
  },
  {
   "cell_type": "markdown",
   "metadata": {},
   "source": [
    "### h) Gráfico de las predicciones de train y test, contrastada con la serie de tiempo original. Muestra de un extracti de la predicción para ver en mas detalle como es la predicción. Comentarios\n",
    "(FALTA EXTRACTO Y COMENTARIOS)\n"
   ]
  },
  {
   "cell_type": "code",
   "execution_count": 298,
   "metadata": {},
   "outputs": [
    {
     "data": {
      "image/png": "[encoded data removed]",
      "text/plain": [
       "<Figure size 1080x504 with 1 Axes>"
      ]
     },
     "metadata": {},
     "output_type": "display_data"
    }
   ],
   "source": [
    "# shift train predictions for plotting\n",
    "trainPredictPlot = np.empty_like(dataframe.values)\n",
    "trainPredictPlot[:, :] = np.nan\n",
    "trainPredictPlot[lag:len(trainPredict)+lag, :] = trainPredict\n",
    "\n",
    "# shift test predictions for plotting\n",
    "testPredictPlot = np.empty_like(dataframe.values)\n",
    "testPredictPlot[:, :] = np.nan\n",
    "testPredictPlot[(len(trainPredict)+2*lag):, :] = testPredict\n",
    "\n",
    "_ = plt.figure(figsize=(15,7))\n",
    "_ = plt.plot(trainPredictPlot,'b')\n",
    "_ = plt.plot(testPredictPlot,'r')\n",
    "_ = plt.plot(dataframe.values,'y',alpha=0.3)\n",
    "_ = plt.xlabel('Tiempo')\n",
    "_ = plt.ylabel('Grados')\n",
    "_ = plt.legend(['Entrenamiento predecido' , 'Pruebas predecidas','Original'], loc='upper right')\n",
    "plt.show()\n"
   ]
  },
  {
   "cell_type": "markdown",
   "metadata": {},
   "source": [
    "### i) En lugar de aumentar el número de dimensiones como el paso e),  se entrena  la red con un *timestep* de 3 (con dimensión de entrada 1). \n",
    "\n",
    "** ¿Se produce una mejora del error de entrenamiento y pruebas? **\n",
    "** ¿Los tiempos de computación son comparables? **\n",
    "** Comentar brevemente sobre cual es la forma correcta para aprovechar la información a través del tiempo, si con esta forma o la realizada en el paso e). **"
   ]
  },
  {
   "cell_type": "code",
   "execution_count": 304,
   "metadata": {},
   "outputs": [],
   "source": [
    "lag = 3\n",
    "## generando los datos de entrenamiento\n",
    "trainX_i, trainY_i = create_dataset(stream_train_scaled, lag)\n",
    "testX_i, testY_i   = create_dataset(stream_test_scaled , lag)"
   ]
  },
  {
   "cell_type": "code",
   "execution_count": 307,
   "metadata": {},
   "outputs": [
    {
     "name": "stdout",
     "output_type": "stream",
     "text": [
      "Shape trainX\n"
     ]
    },
    {
     "data": {
      "text/plain": [
       "(1497, 3, 1)"
      ]
     },
     "execution_count": 307,
     "metadata": {},
     "output_type": "execute_result"
    },
    {
     "name": "stdout",
     "output_type": "stream",
     "text": [
      "Shape testX\n"
     ]
    },
    {
     "data": {
      "text/plain": [
       "(497, 3, 1)"
      ]
     },
     "execution_count": 307,
     "metadata": {},
     "output_type": "execute_result"
    },
    {
     "name": "stdout",
     "output_type": "stream",
     "text": [
      "Shape trainY\n"
     ]
    },
    {
     "data": {
      "text/plain": [
       "(1497, 1)"
      ]
     },
     "execution_count": 307,
     "metadata": {},
     "output_type": "execute_result"
    },
    {
     "name": "stdout",
     "output_type": "stream",
     "text": [
      "Shape testY\n"
     ]
    },
    {
     "data": {
      "text/plain": [
       "(497, 1)"
      ]
     },
     "execution_count": 307,
     "metadata": {},
     "output_type": "execute_result"
    }
   ],
   "source": [
    "##dando la forma deseada [samples,time step,features]\n",
    "trainX_i = np.reshape(trainX_i, (trainX_i.shape[0], trainX_i.shape[1],1))  ## reshape de trainX\n",
    "testX_i  = np.reshape(testX_i,  (testX_i.shape[0] , testX_i.shape[1],1))   ## reshape de testX\n",
    "\n",
    "print(\"Shape trainX\")\n",
    "trainX_i.shape\n",
    "print(\"Shape testX\")\n",
    "testX_i.shape\n",
    "\n",
    "trainY_i = np.reshape(trainY_i, (trainY_i.shape[0], 1)) ## reshape de trainY\n",
    "testY_i = np.reshape(testY_i, (testY_i.shape[0], 1)) ##reshape de testY\n",
    "\n",
    "print(\"Shape trainY\")\n",
    "trainY_i.shape\n",
    "print(\"Shape testY\")\n",
    "testY_i.shape\n"
   ]
  },
  {
   "cell_type": "code",
   "execution_count": 309,
   "metadata": {},
   "outputs": [
    {
     "name": "stderr",
     "output_type": "stream",
     "text": [
      "/anaconda3/envs/redes-neuronales/lib/python3.6/site-packages/ipykernel_launcher.py:5: UserWarning: The `input_dim` and `input_length` arguments in recurrent layers are deprecated. Use `input_shape` instead.\n",
      "  \"\"\"\n",
      "/anaconda3/envs/redes-neuronales/lib/python3.6/site-packages/ipykernel_launcher.py:5: UserWarning: Update your `LSTM` call to the Keras 2 API: `LSTM(4, activation=\"tanh\", input_shape=(None, 1), recurrent_activation=\"sigmoid\")`\n",
      "  \"\"\"\n"
     ]
    },
    {
     "name": "stdout",
     "output_type": "stream",
     "text": [
      "Epoch 1/25\n",
      "1497/1497 [==============================] - 27s 18ms/step - loss: 0.0296\n",
      "Epoch 2/25\n",
      "1497/1497 [==============================] - 20s 13ms/step - loss: 0.0121\n",
      "Epoch 3/25\n",
      "1497/1497 [==============================] - 20s 13ms/step - loss: 0.0115\n",
      "Epoch 4/25\n",
      "1497/1497 [==============================] - 20s 14ms/step - loss: 0.0113\n",
      "Epoch 5/25\n",
      "1497/1497 [==============================] - 21s 14ms/step - loss: 0.0110\n",
      "Epoch 6/25\n",
      "1497/1497 [==============================] - 21s 14ms/step - loss: 0.0109\n",
      "Epoch 7/25\n",
      "1497/1497 [==============================] - 20s 14ms/step - loss: 0.0107\n",
      "Epoch 8/25\n",
      "1497/1497 [==============================] - 20s 13ms/step - loss: 0.0106\n",
      "Epoch 9/25\n",
      "1497/1497 [==============================] - 20s 13ms/step - loss: 0.0106\n",
      "Epoch 10/25\n",
      "1497/1497 [==============================] - 20s 13ms/step - loss: 0.0105\n",
      "Epoch 11/25\n",
      "1497/1497 [==============================] - 20s 13ms/step - loss: 0.0105\n",
      "Epoch 12/25\n",
      "1497/1497 [==============================] - 20s 13ms/step - loss: 0.0105\n",
      "Epoch 13/25\n",
      "1497/1497 [==============================] - 20s 14ms/step - loss: 0.0103\n",
      "Epoch 14/25\n",
      "1497/1497 [==============================] - 21s 14ms/step - loss: 0.0103\n",
      "Epoch 15/25\n",
      "1497/1497 [==============================] - 20s 13ms/step - loss: 0.0103\n",
      "Epoch 16/25\n",
      "1497/1497 [==============================] - 20s 14ms/step - loss: 0.0103\n",
      "Epoch 17/25\n",
      "1497/1497 [==============================] - 20s 14ms/step - loss: 0.0102\n",
      "Epoch 18/25\n",
      "1497/1497 [==============================] - 21s 14ms/step - loss: 0.0102\n",
      "Epoch 19/25\n",
      "1497/1497 [==============================] - 20s 13ms/step - loss: 0.0102\n",
      "Epoch 20/25\n",
      "1497/1497 [==============================] - 20s 13ms/step - loss: 0.0101\n",
      "Epoch 21/25\n",
      "1497/1497 [==============================] - 20s 13ms/step - loss: 0.0101\n",
      "Epoch 22/25\n",
      "1497/1497 [==============================] - 20s 13ms/step - loss: 0.0101\n",
      "Epoch 23/25\n",
      "1497/1497 [==============================] - 20s 13ms/step - loss: 0.0101\n",
      "Epoch 24/25\n",
      "1497/1497 [==============================] - 20s 13ms/step - loss: 0.0101\n",
      "Epoch 25/25\n",
      "1497/1497 [==============================] - 20s 13ms/step - loss: 0.0101\n",
      "Tiempo de entrenamiento: 512.387799\n"
     ]
    },
    {
     "data": {
      "image/png": "[encoded data removed]",
      "text/plain": [
       "<Figure size 432x288 with 1 Axes>"
      ]
     },
     "metadata": {},
     "output_type": "display_data"
    }
   ],
   "source": [
    "lag = 3\n",
    "history_i = []\n",
    "\n",
    "model_i = Sequential()\n",
    "model_i.add(LSTM(4, input_dim=1, activation='tanh', inner_activation='sigmoid'))\n",
    "model_i.add(Dense(1,activation='linear'))\n",
    "model_i.compile(loss='mean_squared_error', optimizer='adam')\n",
    "start_time_i = time.time()\n",
    "history_i.append(model_i.fit(trainX_i, trainY_i, epochs=25, batch_size=1, verbose=1))\n",
    "end_time_i = time.time()\n",
    "print(\"Tiempo de entrenamiento: %f\" % (end_time_i-start_time_i))\n",
    "\n",
    "## Graficar el error, con el objetivo de visualiar de forma gráfica sus valores.\n",
    "_ = plt.close('all')\n",
    "_ = plt.title('MSE vs Epoch ')\n",
    "_ = plt.plot(history_i[0].history['loss'])\n",
    "_ = plt.xlabel('epoch')\n",
    "_ = plt.ylabel('mse')\n",
    "_ = plt.legend(['entrenamiento'], loc='upper right')\n",
    "plt.show()"
   ]
  },
  {
   "cell_type": "markdown",
   "metadata": {},
   "source": [
    "** Predicciones del modelo **"
   ]
  },
  {
   "cell_type": "code",
   "execution_count": 310,
   "metadata": {},
   "outputs": [],
   "source": [
    "batch_size = 1\n",
    "\n",
    "##Para los datos de entrenamiento\n",
    "trainPredict_i = model_i.predict(trainX_i,batch_size=batch_size)\n",
    "trainPredict_i = scaler.inverse_transform(trainPredict_i)\n",
    "trainY_i = scaler.inverse_transform(trainY_i)\n",
    "\n",
    "##Para los datos de prueba\n",
    "testPredict_i = model_i.predict(testX_i,batch_size=batch_size)\n",
    "testPredict_i = scaler.inverse_transform(testPredict_i)\n",
    "testY_i = scaler.inverse_transform(testY_i)"
   ]
  },
  {
   "cell_type": "markdown",
   "metadata": {},
   "source": [
    "** Cálculo del error RMSE **"
   ]
  },
  {
   "cell_type": "code",
   "execution_count": 311,
   "metadata": {},
   "outputs": [
    {
     "name": "stdout",
     "output_type": "stream",
     "text": [
      "Train Score: 2.62 RMSE\n",
      "Test Score: 2.42 RMSE\n"
     ]
    }
   ],
   "source": [
    "##Cálculo de root mean square error\n",
    "trainScore_i = math.sqrt(mean_squared_error(trainY_i, trainPredict_i[:,0]))\n",
    "print('Train Score: %.2f RMSE' % (trainScore_i))\n",
    "testScore_i = math.sqrt(mean_squared_error(testY_i, testPredict_i[:,0]))\n",
    "print('Test Score: %.2f RMSE' % (testScore_i))"
   ]
  },
  {
   "cell_type": "markdown",
   "metadata": {},
   "source": [
    "** Grafico de predicción **"
   ]
  },
  {
   "cell_type": "code",
   "execution_count": 312,
   "metadata": {},
   "outputs": [
    {
     "data": {
      "image/png": "[encoded data removed]",
      "text/plain": [
       "<Figure size 1080x504 with 1 Axes>"
      ]
     },
     "metadata": {},
     "output_type": "display_data"
    }
   ],
   "source": [
    "# shift train predictions for plotting\n",
    "trainPredictPlot_i = np.empty_like(dataframe.values)\n",
    "trainPredictPlot_i[:, :] = np.nan\n",
    "trainPredictPlot_i[lag:len(trainPredict_i)+lag, :] = trainPredict_i\n",
    "\n",
    "# shift test predictions for plotting\n",
    "testPredictPlot_i = np.empty_like(dataframe.values)\n",
    "testPredictPlot_i[:, :] = np.nan\n",
    "testPredictPlot_i[(len(trainPredict_i)+2*lag):, :] = testPredict_i\n",
    "\n",
    "_ = plt.figure(figsize=(15,7))\n",
    "_ = plt.plot(trainPredictPlot_i,'b')\n",
    "_ = plt.plot(testPredictPlot_i,'r')\n",
    "_ = plt.plot(dataframe.values,'y',alpha=0.3)\n",
    "_ = plt.xlabel('Tiempo')\n",
    "_ = plt.ylabel('Grados')\n",
    "_ = plt.legend(['Entrenamiento predecido' , 'Pruebas predecidas','Original'], loc='upper right')\n",
    "plt.show()"
   ]
  },
  {
   "cell_type": "markdown",
   "metadata": {},
   "source": [
    "** Forma correcta para aprvovechar la información a través del tiempo **\n",
    "\n",
    "De acuerdo a los resultados, la forma correcta corresponde a la realizada en este paso, por .... FALTA"
   ]
  },
  {
   "cell_type": "markdown",
   "metadata": {},
   "source": [
    "### j) Determine el parámetro del número de bloques para la LSTM de la pregunta e) o i), lo que le parezca mas sensato en base a lo analizado en la pregunta anterior. \n",
    "### Utilice 5-fold *cross validation*, o bien, en su defecto, los datos restante no utilizados ni como entrenamiento ni como pruebas (los de índice 2000 hacia adelante) como conjunto fijo de validación. Comente.\n",
    "\n",
    "** Se utiliza el modelo de la pregunta i) y 5-fold cross validation **"
   ]
  },
  {
   "cell_type": "code",
   "execution_count": 233,
   "metadata": {},
   "outputs": [
    {
     "data": {
      "text/plain": [
       "(1497, 3, 1)"
      ]
     },
     "execution_count": 233,
     "metadata": {},
     "output_type": "execute_result"
    },
    {
     "data": {
      "text/plain": [
       "(1497, 1)"
      ]
     },
     "execution_count": 233,
     "metadata": {},
     "output_type": "execute_result"
    }
   ],
   "source": [
    "trainX.shape\n",
    "trainY.shape"
   ]
  },
  {
   "cell_type": "code",
   "execution_count": 235,
   "metadata": {},
   "outputs": [
    {
     "name": "stdout",
     "output_type": "stream",
     "text": [
      "n: 4\n",
      "train index: 1196\n",
      "evaluate index: 300\n"
     ]
    },
    {
     "name": "stderr",
     "output_type": "stream",
     "text": [
      "/anaconda3/envs/redes-neuronales/lib/python3.6/site-packages/ipykernel_launcher.py:14: UserWarning: The `input_dim` and `input_length` arguments in recurrent layers are deprecated. Use `input_shape` instead.\n",
      "  \n",
      "/anaconda3/envs/redes-neuronales/lib/python3.6/site-packages/ipykernel_launcher.py:14: UserWarning: Update your `LSTM` call to the Keras 2 API: `LSTM(4, activation=\"tanh\", input_shape=(None, 1), recurrent_activation=\"sigmoid\")`\n",
      "  \n"
     ]
    },
    {
     "name": "stdout",
     "output_type": "stream",
     "text": [
      "Epoch 1/2\n",
      "1196/1196 [==============================] - 25s 21ms/step - loss: 0.0138 - acc: 0.0025\n",
      "Epoch 2/2\n",
      "1196/1196 [==============================] - 19s 16ms/step - loss: 0.0117 - acc: 0.0025\n"
     ]
    },
    {
     "data": {
      "text/plain": [
       "<keras.callbacks.History at 0x1a4e11bd68>"
      ]
     },
     "execution_count": 235,
     "metadata": {},
     "output_type": "execute_result"
    },
    {
     "name": "stdout",
     "output_type": "stream",
     "text": [
      "loss: 1.04%\n",
      "train index: 1197\n",
      "evaluate index: 299\n",
      "Epoch 1/2\n",
      "1197/1197 [==============================] - 24s 20ms/step - loss: 0.0352 - acc: 8.3542e-04\n",
      "Epoch 2/2\n",
      "1197/1197 [==============================] - 20s 17ms/step - loss: 0.0121 - acc: 8.3542e-04\n"
     ]
    },
    {
     "data": {
      "text/plain": [
       "<keras.callbacks.History at 0x1a43b8acf8>"
      ]
     },
     "execution_count": 235,
     "metadata": {},
     "output_type": "execute_result"
    },
    {
     "name": "stdout",
     "output_type": "stream",
     "text": [
      "loss: 1.52%\n",
      "train index: 1197\n",
      "evaluate index: 299\n",
      "Epoch 1/2\n",
      "1197/1197 [==============================] - 27s 23ms/step - loss: 0.0231 - acc: 0.0017\n",
      "Epoch 2/2\n",
      "1197/1197 [==============================] - 19s 16ms/step - loss: 0.0121 - acc: 0.0025\n"
     ]
    },
    {
     "data": {
      "text/plain": [
       "<keras.callbacks.History at 0x1a42048fd0>"
      ]
     },
     "execution_count": 235,
     "metadata": {},
     "output_type": "execute_result"
    },
    {
     "name": "stdout",
     "output_type": "stream",
     "text": [
      "loss: 1.16%\n",
      "train index: 1197\n",
      "evaluate index: 299\n",
      "Epoch 1/2\n",
      "1197/1197 [==============================] - 25s 21ms/step - loss: 0.0234 - acc: 0.0017\n",
      "Epoch 2/2\n",
      "1197/1197 [==============================] - 19s 16ms/step - loss: 0.0122 - acc: 0.0017\n"
     ]
    },
    {
     "data": {
      "text/plain": [
       "<keras.callbacks.History at 0x1a43680668>"
      ]
     },
     "execution_count": 235,
     "metadata": {},
     "output_type": "execute_result"
    },
    {
     "name": "stdout",
     "output_type": "stream",
     "text": [
      "loss: 1.02%\n",
      "train index: 1197\n",
      "evaluate index: 299\n",
      "Epoch 1/2\n",
      "1197/1197 [==============================] - 24s 20ms/step - loss: 0.0398 - acc: 0.0025\n",
      "Epoch 2/2\n",
      "1197/1197 [==============================] - 20s 17ms/step - loss: 0.0136 - acc: 0.0025\n"
     ]
    },
    {
     "data": {
      "text/plain": [
       "<keras.callbacks.History at 0x1a44410048>"
      ]
     },
     "execution_count": 235,
     "metadata": {},
     "output_type": "execute_result"
    },
    {
     "name": "stdout",
     "output_type": "stream",
     "text": [
      "loss: 1.20%\n",
      "0.20% (+/- 0.27%)\n"
     ]
    }
   ],
   "source": [
    "from sklearn import cross_validation\n",
    "\n",
    "kfold = cross_validation.KFold(len(trainX_i), 5)\n",
    "\n",
    "nb = [4] #range(4, 13, 2)\n",
    "chosen_dim = 1  ## de acuerdo a respuesta i)\n",
    "for n in nb:\n",
    "    print(\"n: %d\" % n)\n",
    "    cvscores = []\n",
    "    for train_idx, evaluate_idx in kfold:\n",
    "        print(\"train index: %s\" % len(train_idx))       \n",
    "        print(\"evaluate index: %s\" % len(evaluate_idx))\n",
    "        model = Sequential()\n",
    "        model.add(LSTM(n, input_dim=chosen_dim, activation='tanh',inner_activation='sigmoid'))\n",
    "        model.add(Dense(1))\n",
    "        model.compile(loss='mean_squared_error', optimizer='adam', metrics=[\"accuracy\"])\n",
    "        model.fit(trainX_i[train_idx], trainY_i[train_idx], epochs=2, batch_size=1, verbose=1) #epochs = 25\n",
    "        scores = model.evaluate(trainX_i[evaluate_idx], trainY_i[evaluate_idx], verbose=0)        \n",
    "        print(\"%s: %.2f%%\" % (model.metrics_names[0], scores[0]*100))\n",
    "        cvscores.append(scores[1] * 100)\n",
    "    print(\"%.2f%% (+/- %.2f%%)\" % (np.mean(cvscores), np.std(cvscores)))\n",
    "        \n",
    "    "
   ]
  },
  {
   "cell_type": "markdown",
   "metadata": {},
   "source": [
    "## Falta comentar y ver como mostrar los resultados "
   ]
  },
  {
   "cell_type": "markdown",
   "metadata": {},
   "source": [
    "### K) Comparando el desempeño de la red LSTM variando el lag de 1  a  4. Comentar que resulta mejor, tener más información para predecir o esto satura la predicción por el efecto del gradiente descendiente."
   ]
  },
  {
   "cell_type": "code",
   "execution_count": 236,
   "metadata": {},
   "outputs": [
    {
     "name": "stdout",
     "output_type": "stream",
     "text": [
      "Lag 1 \n"
     ]
    },
    {
     "name": "stderr",
     "output_type": "stream",
     "text": [
      "/anaconda3/envs/redes-neuronales/lib/python3.6/site-packages/ipykernel_launcher.py:9: UserWarning: The `input_dim` and `input_length` arguments in recurrent layers are deprecated. Use `input_shape` instead.\n",
      "  if __name__ == '__main__':\n",
      "/anaconda3/envs/redes-neuronales/lib/python3.6/site-packages/ipykernel_launcher.py:9: UserWarning: Update your `LSTM` call to the Keras 2 API: `LSTM(4, activation=\"tanh\", input_shape=(None, 1), recurrent_activation=\"sigmoid\")`\n",
      "  if __name__ == '__main__':\n"
     ]
    },
    {
     "name": "stdout",
     "output_type": "stream",
     "text": [
      "Epoch 1/1\n",
      "1499/1499 [==============================] - 18s 12ms/step - loss: 0.0279\n"
     ]
    },
    {
     "data": {
      "text/plain": [
       "<keras.callbacks.History at 0x1a487e8da0>"
      ]
     },
     "execution_count": 236,
     "metadata": {},
     "output_type": "execute_result"
    },
    {
     "name": "stdout",
     "output_type": "stream",
     "text": [
      "Lag 2 \n",
      "Epoch 1/1\n",
      "1498/1498 [==============================] - 21s 14ms/step - loss: 0.0412\n"
     ]
    },
    {
     "data": {
      "text/plain": [
       "<keras.callbacks.History at 0x1a49242cf8>"
      ]
     },
     "execution_count": 236,
     "metadata": {},
     "output_type": "execute_result"
    },
    {
     "name": "stdout",
     "output_type": "stream",
     "text": [
      "Lag 3 \n",
      "Epoch 1/1\n",
      "1497/1497 [==============================] - 25s 17ms/step - loss: 0.0126\n"
     ]
    },
    {
     "data": {
      "text/plain": [
       "<keras.callbacks.History at 0x1a49563da0>"
      ]
     },
     "execution_count": 236,
     "metadata": {},
     "output_type": "execute_result"
    },
    {
     "name": "stdout",
     "output_type": "stream",
     "text": [
      "Lag 4 \n",
      "Epoch 1/1\n",
      "1496/1496 [==============================] - 30s 20ms/step - loss: 0.0185\n"
     ]
    },
    {
     "data": {
      "text/plain": [
       "<keras.callbacks.History at 0x1a49f50d68>"
      ]
     },
     "execution_count": 236,
     "metadata": {},
     "output_type": "execute_result"
    }
   ],
   "source": [
    "lag_value = [1,2,3,4]\n",
    "for lag_v in lag_value:   \n",
    "    print(\"Lag %s \"  % (lag_v))\n",
    "    trainX, trainY = create_dataset(stream_train_scaled_Orig, lag_v)\n",
    "    trainX = np.reshape(trainX, (trainX.shape[0], trainX.shape[1],1)) ## reshape de considerando la eleeción opción i)\n",
    "    trainY = np.reshape(trainY, (trainY.shape[0],1))\n",
    "\n",
    "    model = Sequential()\n",
    "    model.add(LSTM(4, input_dim=1, activation='tanh', inner_activation='sigmoid')) ## input_dim al elegir opción i)\n",
    "    model.add(Dense(1,activation='linear'))\n",
    "    model.compile(loss='mean_squared_error', optimizer='adam')\n",
    "    model.fit(trainX, trainY, epochs=1, batch_size=1, verbose=1) ##epochs 25"
   ]
  },
  {
   "cell_type": "markdown",
   "metadata": {},
   "source": [
    "## Falta comentar y ver como mostrar los resultados "
   ]
  },
  {
   "cell_type": "markdown",
   "metadata": {},
   "source": [
    "### l) Usando un lag de 3, compare el desempeño de la LSTM con una red recurrente simple y una GRU, comente sobre convergencia y tiempo de ejecución"
   ]
  },
  {
   "cell_type": "code",
   "execution_count": 247,
   "metadata": {},
   "outputs": [
    {
     "data": {
      "text/plain": [
       "(1497, 3, 1)"
      ]
     },
     "execution_count": 247,
     "metadata": {},
     "output_type": "execute_result"
    },
    {
     "data": {
      "text/plain": [
       "(1497, 1)"
      ]
     },
     "execution_count": 247,
     "metadata": {},
     "output_type": "execute_result"
    },
    {
     "name": "stderr",
     "output_type": "stream",
     "text": [
      "/anaconda3/envs/redes-neuronales/lib/python3.6/site-packages/ipykernel_launcher.py:20: UserWarning: The `input_dim` and `input_length` arguments in recurrent layers are deprecated. Use `input_shape` instead.\n",
      "/anaconda3/envs/redes-neuronales/lib/python3.6/site-packages/ipykernel_launcher.py:20: UserWarning: Update your `GRU` call to the Keras 2 API: `GRU(4, activation=\"tanh\", input_shape=(None, 1), recurrent_initializer=\"orthogonal\")`\n"
     ]
    },
    {
     "name": "stdout",
     "output_type": "stream",
     "text": [
      "Epoch 1/2\n",
      "1497/1497 [==============================] - 29s 19ms/step - loss: 0.0158\n",
      "Epoch 2/2\n",
      "1497/1497 [==============================] - 22s 15ms/step - loss: 0.0109\n"
     ]
    },
    {
     "name": "stderr",
     "output_type": "stream",
     "text": [
      "/anaconda3/envs/redes-neuronales/lib/python3.6/site-packages/ipykernel_launcher.py:29: UserWarning: The `input_dim` and `input_length` arguments in recurrent layers are deprecated. Use `input_shape` instead.\n",
      "/anaconda3/envs/redes-neuronales/lib/python3.6/site-packages/ipykernel_launcher.py:29: UserWarning: Update your `SimpleRNN` call to the Keras 2 API: `SimpleRNN(4, activation=\"tanh\", input_shape=(None, 1), recurrent_initializer=\"orthogonal\")`\n"
     ]
    },
    {
     "name": "stdout",
     "output_type": "stream",
     "text": [
      "Epoch 1/2\n",
      "1497/1497 [==============================] - 16s 11ms/step - loss: 0.0128\n",
      "Epoch 2/2\n",
      "1497/1497 [==============================] - 9s 6ms/step - loss: 0.0113\n"
     ]
    }
   ],
   "source": [
    "# from keras.layers import GRU\n",
    "from keras.layers import SimpleRNN\n",
    "\n",
    "#f, axarr_train = plt.subplots(2, sharex=True,sharey =True,figsize=(12,12))\n",
    "\n",
    "historyGRU = []\n",
    "historySimpleRNN = []\n",
    "\n",
    "lag = 3\n",
    "trainX, trainY = create_dataset(stream_train_scaled_Orig, lag)\n",
    "trainX = np.reshape(trainX, (trainX.shape[0], trainX.shape[1],1)) ## reshape de considerando la eleeción opción i)\n",
    "trainY = np.reshape(trainY, (trainY.shape[0], 1))\n",
    "\n",
    "## Verificando los datos, para utilizar modelo i)\n",
    "trainX.shape\n",
    "trainY.shape\n",
    "\n",
    "## Red GRU\n",
    "model = Sequential()\n",
    "model.add(GRU(4, input_dim=1, inner_init='orthogonal', activation='tanh')) ## input_dim al elegir opción i)\n",
    "model.add(Dense(1,activation='linear'))\n",
    "model.compile(loss='mean_squared_error', optimizer='adam')\n",
    "start_time_GRU = time.time()\n",
    "historyGRU.append(model.fit(trainX, trainY, epochs=2, batch_size=1, verbose=1))\n",
    "end_time_GRU = time.time()\n",
    "\n",
    "## Red recurrente simple\n",
    "model = Sequential()\n",
    "model.add(SimpleRNN(4, input_dim=1, inner_init='orthogonal',activation='tanh')) ## input_dim al elegir opción i)\n",
    "model.add(Dense(1,activation='linear'))\n",
    "model.compile(loss='mean_squared_error', optimizer='adam')\n",
    "start_time_SimpleRNN = time.time()\n",
    "historySimpleRNN.append(model.fit(trainX, trainY, epochs=2, batch_size=1, verbose=1))\n",
    "end_time_SimpleRNN = time.time()\n",
    "\n",
    "timeGRU = end_time_GRU - start_time_GRU\n",
    "timeSimpleRNN = end_time_SimpleRNN - start_time_SimpleRNN"
   ]
  },
  {
   "cell_type": "code",
   "execution_count": 248,
   "metadata": {},
   "outputs": [
    {
     "name": "stdout",
     "output_type": "stream",
     "text": [
      "Tiempo de ejecución\n",
      "Tiempo GRU 51.116825\n",
      "Tiempo SimpleRNN 25.477100\n"
     ]
    }
   ],
   "source": [
    "print(\"Tiempo de ejecución\")\n",
    "print(\"Tiempo GRU %f\" % (timeGRU))\n",
    "print(\"Tiempo SimpleRNN %f\" % (timeSimpleRNN))"
   ]
  },
  {
   "cell_type": "code",
   "execution_count": 249,
   "metadata": {},
   "outputs": [
    {
     "data": {
      "image/png": "[encoded data removed]",
      "text/plain": [
       "<Figure size 432x288 with 1 Axes>"
      ]
     },
     "metadata": {},
     "output_type": "display_data"
    }
   ],
   "source": [
    "## Graficar el error, con el objetivo de visualiar de forma gráfica sus valores.\n",
    "_ = plt.close('all')\n",
    "_ = plt.title('MSE vs Epoch ')\n",
    "_ = plt.plot(historyGRU[0].history['loss'])\n",
    "_ = plt.plot(historySimpleRNN[0].history['loss'])\n",
    "_ = plt.xlabel('epoch')\n",
    "_ = plt.ylabel('mse')\n",
    "_ = plt.legend(['entrenamiento'], loc='upper right')\n",
    "plt.show()"
   ]
  },
  {
   "cell_type": "markdown",
   "metadata": {},
   "source": [
    "Con respecto al tiempo de convergencia se observa que ..."
   ]
  },
  {
   "cell_type": "markdown",
   "metadata": {},
   "source": [
    "# m) Entrenando la red con memoria entre batches. Gráfico de predicción, comentarios con respecto a si mejora la predicción"
   ]
  },
  {
   "cell_type": "code",
   "execution_count": 259,
   "metadata": {},
   "outputs": [
    {
     "data": {
      "text/plain": [
       "(1497, 3, 1)"
      ]
     },
     "execution_count": 259,
     "metadata": {},
     "output_type": "execute_result"
    },
    {
     "data": {
      "text/plain": [
       "(1497, 1)"
      ]
     },
     "execution_count": 259,
     "metadata": {},
     "output_type": "execute_result"
    },
    {
     "name": "stdout",
     "output_type": "stream",
     "text": [
      "batch_size 0\n"
     ]
    },
    {
     "data": {
      "text/plain": [
       "<keras.callbacks.History at 0x1a525a0f98>"
      ]
     },
     "execution_count": 259,
     "metadata": {},
     "output_type": "execute_result"
    },
    {
     "name": "stdout",
     "output_type": "stream",
     "text": [
      "batch_size 1\n"
     ]
    },
    {
     "data": {
      "text/plain": [
       "<keras.callbacks.History at 0x1a4f870b70>"
      ]
     },
     "execution_count": 259,
     "metadata": {},
     "output_type": "execute_result"
    },
    {
     "name": "stdout",
     "output_type": "stream",
     "text": [
      "batch_size 2\n"
     ]
    },
    {
     "data": {
      "text/plain": [
       "<keras.callbacks.History at 0x1a474f3c88>"
      ]
     },
     "execution_count": 259,
     "metadata": {},
     "output_type": "execute_result"
    },
    {
     "name": "stdout",
     "output_type": "stream",
     "text": [
      "batch_size 3\n"
     ]
    },
    {
     "data": {
      "text/plain": [
       "<keras.callbacks.History at 0x1a3dc44860>"
      ]
     },
     "execution_count": 259,
     "metadata": {},
     "output_type": "execute_result"
    },
    {
     "name": "stdout",
     "output_type": "stream",
     "text": [
      "batch_size 4\n"
     ]
    },
    {
     "data": {
      "text/plain": [
       "<keras.callbacks.History at 0x1a525a0f98>"
      ]
     },
     "execution_count": 259,
     "metadata": {},
     "output_type": "execute_result"
    },
    {
     "name": "stdout",
     "output_type": "stream",
     "text": [
      "batch_size 5\n"
     ]
    },
    {
     "data": {
      "text/plain": [
       "<keras.callbacks.History at 0x1a4f870b70>"
      ]
     },
     "execution_count": 259,
     "metadata": {},
     "output_type": "execute_result"
    },
    {
     "name": "stdout",
     "output_type": "stream",
     "text": [
      "batch_size 6\n"
     ]
    },
    {
     "data": {
      "text/plain": [
       "<keras.callbacks.History at 0x1a474f3c88>"
      ]
     },
     "execution_count": 259,
     "metadata": {},
     "output_type": "execute_result"
    },
    {
     "name": "stdout",
     "output_type": "stream",
     "text": [
      "batch_size 7\n"
     ]
    },
    {
     "data": {
      "text/plain": [
       "<keras.callbacks.History at 0x1a3dc44860>"
      ]
     },
     "execution_count": 259,
     "metadata": {},
     "output_type": "execute_result"
    },
    {
     "name": "stdout",
     "output_type": "stream",
     "text": [
      "batch_size 8\n"
     ]
    },
    {
     "data": {
      "text/plain": [
       "<keras.callbacks.History at 0x1a525a0f98>"
      ]
     },
     "execution_count": 259,
     "metadata": {},
     "output_type": "execute_result"
    },
    {
     "name": "stdout",
     "output_type": "stream",
     "text": [
      "batch_size 9\n"
     ]
    },
    {
     "data": {
      "text/plain": [
       "<keras.callbacks.History at 0x1a5194def0>"
      ]
     },
     "execution_count": 259,
     "metadata": {},
     "output_type": "execute_result"
    },
    {
     "name": "stdout",
     "output_type": "stream",
     "text": [
      "batch_size 10\n"
     ]
    },
    {
     "data": {
      "text/plain": [
       "<keras.callbacks.History at 0x1a474f3c88>"
      ]
     },
     "execution_count": 259,
     "metadata": {},
     "output_type": "execute_result"
    },
    {
     "name": "stdout",
     "output_type": "stream",
     "text": [
      "batch_size 11\n"
     ]
    },
    {
     "data": {
      "text/plain": [
       "<keras.callbacks.History at 0x1a4f870b70>"
      ]
     },
     "execution_count": 259,
     "metadata": {},
     "output_type": "execute_result"
    },
    {
     "name": "stdout",
     "output_type": "stream",
     "text": [
      "batch_size 12\n"
     ]
    },
    {
     "data": {
      "text/plain": [
       "<keras.callbacks.History at 0x1a525a0f98>"
      ]
     },
     "execution_count": 259,
     "metadata": {},
     "output_type": "execute_result"
    },
    {
     "name": "stdout",
     "output_type": "stream",
     "text": [
      "batch_size 13\n"
     ]
    },
    {
     "data": {
      "text/plain": [
       "<keras.callbacks.History at 0x1a51a20cc0>"
      ]
     },
     "execution_count": 259,
     "metadata": {},
     "output_type": "execute_result"
    },
    {
     "name": "stdout",
     "output_type": "stream",
     "text": [
      "batch_size 14\n"
     ]
    },
    {
     "data": {
      "text/plain": [
       "<keras.callbacks.History at 0x1a474f3c88>"
      ]
     },
     "execution_count": 259,
     "metadata": {},
     "output_type": "execute_result"
    },
    {
     "name": "stdout",
     "output_type": "stream",
     "text": [
      "batch_size 15\n"
     ]
    },
    {
     "data": {
      "text/plain": [
       "<keras.callbacks.History at 0x1a4f870b70>"
      ]
     },
     "execution_count": 259,
     "metadata": {},
     "output_type": "execute_result"
    },
    {
     "name": "stdout",
     "output_type": "stream",
     "text": [
      "batch_size 16\n"
     ]
    },
    {
     "data": {
      "text/plain": [
       "<keras.callbacks.History at 0x1a5194def0>"
      ]
     },
     "execution_count": 259,
     "metadata": {},
     "output_type": "execute_result"
    },
    {
     "name": "stdout",
     "output_type": "stream",
     "text": [
      "batch_size 17\n"
     ]
    },
    {
     "data": {
      "text/plain": [
       "<keras.callbacks.History at 0x1a3dc44860>"
      ]
     },
     "execution_count": 259,
     "metadata": {},
     "output_type": "execute_result"
    },
    {
     "name": "stdout",
     "output_type": "stream",
     "text": [
      "batch_size 18\n"
     ]
    },
    {
     "data": {
      "text/plain": [
       "<keras.callbacks.History at 0x1a474f3c88>"
      ]
     },
     "execution_count": 259,
     "metadata": {},
     "output_type": "execute_result"
    },
    {
     "name": "stdout",
     "output_type": "stream",
     "text": [
      "batch_size 19\n"
     ]
    },
    {
     "data": {
      "text/plain": [
       "<keras.callbacks.History at 0x1a4f870b70>"
      ]
     },
     "execution_count": 259,
     "metadata": {},
     "output_type": "execute_result"
    },
    {
     "name": "stdout",
     "output_type": "stream",
     "text": [
      "batch_size 20\n"
     ]
    },
    {
     "data": {
      "text/plain": [
       "<keras.callbacks.History at 0x1a5194def0>"
      ]
     },
     "execution_count": 259,
     "metadata": {},
     "output_type": "execute_result"
    },
    {
     "name": "stdout",
     "output_type": "stream",
     "text": [
      "batch_size 21\n"
     ]
    },
    {
     "data": {
      "text/plain": [
       "<keras.callbacks.History at 0x1a3dc44860>"
      ]
     },
     "execution_count": 259,
     "metadata": {},
     "output_type": "execute_result"
    },
    {
     "name": "stdout",
     "output_type": "stream",
     "text": [
      "batch_size 22\n"
     ]
    },
    {
     "data": {
      "text/plain": [
       "<keras.callbacks.History at 0x1a474f3c88>"
      ]
     },
     "execution_count": 259,
     "metadata": {},
     "output_type": "execute_result"
    },
    {
     "name": "stdout",
     "output_type": "stream",
     "text": [
      "batch_size 23\n"
     ]
    },
    {
     "data": {
      "text/plain": [
       "<keras.callbacks.History at 0x1a4f870b70>"
      ]
     },
     "execution_count": 259,
     "metadata": {},
     "output_type": "execute_result"
    },
    {
     "name": "stdout",
     "output_type": "stream",
     "text": [
      "batch_size 24\n"
     ]
    },
    {
     "data": {
      "text/plain": [
       "<keras.callbacks.History at 0x1a5194def0>"
      ]
     },
     "execution_count": 259,
     "metadata": {},
     "output_type": "execute_result"
    }
   ],
   "source": [
    "## Se utiliza modelo de i)\n",
    "trainX.shape\n",
    "trainY.shape\n",
    "\n",
    "lag = 3\n",
    "batch_size = 1\n",
    "model = Sequential()\n",
    "model.add(LSTM(4, batch_input_shape=(batch_size, lag, 1), stateful=True))\n",
    "model.add(Dense(1,activation='linear'))\n",
    "model.compile(loss='mean_squared_error', optimizer='adam')\n",
    "for i in range(25): ## 5 cambiar por 25\n",
    "    print(\"batch_size %s\" % (i))\n",
    "    model.fit(trainX, trainY, epochs=1, batch_size=batch_size, verbose=0, shuffle=False)\n",
    "    model.reset_states() #clears only the hidden states of the network"
   ]
  },
  {
   "cell_type": "markdown",
   "metadata": {},
   "source": [
    "** Predicción del modelo ** ... ¿Debiese ser para cada batch_size?"
   ]
  },
  {
   "cell_type": "code",
   "execution_count": 260,
   "metadata": {},
   "outputs": [],
   "source": [
    "batch_size = 1\n",
    "\n",
    "##Para los datos de entrenamiento\n",
    "trainPredict = model.predict(trainX,batch_size=batch_size)\n",
    "trainPredict = scaler.inverse_transform(trainPredict)\n",
    "trainY = scaler.inverse_transform(trainY)\n",
    "\n",
    "##Para los datos de prueba\n",
    "testPredict = model.predict(testX,batch_size=batch_size)\n",
    "testPredict = scaler.inverse_transform(testPredict)\n",
    "testY = scaler.inverse_transform(testY)"
   ]
  },
  {
   "cell_type": "markdown",
   "metadata": {},
   "source": [
    "** Cálculo de error MSE ** ... ¿ídem a anterior?"
   ]
  },
  {
   "cell_type": "code",
   "execution_count": 261,
   "metadata": {},
   "outputs": [
    {
     "name": "stdout",
     "output_type": "stream",
     "text": [
      "Train Score: 2.73 RMSE\n",
      "Test Score: 2.54 RMSE\n"
     ]
    }
   ],
   "source": [
    "##Cálculo de root mean square error\n",
    "trainScore_i = math.sqrt(mean_squared_error(trainY, trainPredict[:,0]))\n",
    "print('Train Score: %.2f RMSE' % (trainScore))\n",
    "testScore_i = math.sqrt(mean_squared_error(testY, testPredict[:,0]))\n",
    "print('Test Score: %.2f RMSE' % (testScore))"
   ]
  },
  {
   "cell_type": "markdown",
   "metadata": {},
   "source": [
    "** Gráfico de predicciones, vs entrenamiento **"
   ]
  },
  {
   "cell_type": "code",
   "execution_count": 262,
   "metadata": {
    "scrolled": true
   },
   "outputs": [
    {
     "data": {
      "image/png": "[encoded data removed]",
      "text/plain": [
       "<Figure size 1080x504 with 1 Axes>"
      ]
     },
     "metadata": {},
     "output_type": "display_data"
    }
   ],
   "source": [
    "# shift train predictions for plotting\n",
    "trainPredictPlot = np.empty_like(dataframe.values)\n",
    "trainPredictPlot[:, :] = np.nan\n",
    "trainPredictPlot[lag:len(trainPredict)+lag, :] = trainPredict\n",
    "\n",
    "# shift test predictions for plotting\n",
    "testPredictPlot = np.empty_like(dataframe.values)\n",
    "testPredictPlot[:, :] = np.nan\n",
    "testPredictPlot[(len(trainPredict)+2*lag):, :] = testPredict\n",
    "\n",
    "_ = plt.figure(figsize=(15,7))\n",
    "_ = plt.plot(trainPredictPlot,'b')\n",
    "_ = plt.plot(testPredictPlot,'r')\n",
    "_ = plt.plot(dataframe.values,'y',alpha=0.3)\n",
    "_ = plt.xlabel('Tiempo')\n",
    "_ = plt.ylabel('Grados')\n",
    "_ = plt.legend(['Entrenamiento predecido' , 'Pruebas predecidas','Original'], loc='upper right')\n",
    "plt.show()"
   ]
  },
  {
   "cell_type": "markdown",
   "metadata": {},
   "source": [
    "** Comentarios ¿Mejora la predicción? **"
   ]
  },
  {
   "cell_type": "markdown",
   "metadata": {},
   "source": [
    "### n) Comprar resultados anterior usando un tamaño de batch a elección, mayor o igual a 3"
   ]
  },
  {
   "cell_type": "code",
   "execution_count": null,
   "metadata": {},
   "outputs": [],
   "source": [
    "batch_size = 1\n",
    "model = Sequential()\n",
    "model.add(LSTM(4, input_dim=1, activation='tanh', inner_activation='sigmoid')) ## input_dim al elegir opción i)\n",
    "model.add(Dense(1,activation='linear'))\n",
    "model.compile(loss='mean_squared_error', optimizer='adam')\n",
    "model.fit(trainX, trainY, epochs=1, batch_size=1, verbose=1) ##epochs 25"
   ]
  },
  {
   "cell_type": "markdown",
   "metadata": {},
   "source": [
    "### o) LSTM apilada, y comparacion con modelo de i). Comentarios"
   ]
  },
  {
   "cell_type": "code",
   "execution_count": 270,
   "metadata": {},
   "outputs": [
    {
     "data": {
      "text/plain": [
       "(1497, 3, 1)"
      ]
     },
     "execution_count": 270,
     "metadata": {},
     "output_type": "execute_result"
    },
    {
     "data": {
      "text/plain": [
       "(1497, 1)"
      ]
     },
     "execution_count": 270,
     "metadata": {},
     "output_type": "execute_result"
    },
    {
     "name": "stderr",
     "output_type": "stream",
     "text": [
      "/anaconda3/envs/redes-neuronales/lib/python3.6/site-packages/ipykernel_launcher.py:5: UserWarning: The `input_dim` and `input_length` arguments in recurrent layers are deprecated. Use `input_shape` instead.\n",
      "  \"\"\"\n",
      "/anaconda3/envs/redes-neuronales/lib/python3.6/site-packages/ipykernel_launcher.py:5: UserWarning: Update your `LSTM` call to the Keras 2 API: `LSTM(4, return_sequences=True, input_shape=(None, 1))`\n",
      "  \"\"\"\n"
     ]
    },
    {
     "ename": "ValueError",
     "evalue": "Error when checking target: expected lstm_99 to have shape (4,) but got array with shape (1,)",
     "output_type": "error",
     "traceback": [
      "\u001b[0;31m---------------------------------------------------------------------------\u001b[0m",
      "\u001b[0;31mValueError\u001b[0m                                Traceback (most recent call last)",
      "\u001b[0;32m<ipython-input-270-55d6ce24f004>\u001b[0m in \u001b[0;36m<module>\u001b[0;34m()\u001b[0m\n\u001b[1;32m      7\u001b[0m \u001b[0mmodel\u001b[0m\u001b[0;34m.\u001b[0m\u001b[0mcompile\u001b[0m\u001b[0;34m(\u001b[0m\u001b[0mloss\u001b[0m\u001b[0;34m=\u001b[0m\u001b[0;34m'mean_squared_error'\u001b[0m\u001b[0;34m,\u001b[0m \u001b[0moptimizer\u001b[0m\u001b[0;34m=\u001b[0m\u001b[0;34m'adam'\u001b[0m\u001b[0;34m)\u001b[0m\u001b[0;34m\u001b[0m\u001b[0m\n\u001b[1;32m      8\u001b[0m \u001b[0mstart_time\u001b[0m \u001b[0;34m=\u001b[0m \u001b[0mtime\u001b[0m\u001b[0;34m.\u001b[0m\u001b[0mtime\u001b[0m\u001b[0;34m(\u001b[0m\u001b[0;34m)\u001b[0m\u001b[0;34m\u001b[0m\u001b[0m\n\u001b[0;32m----> 9\u001b[0;31m \u001b[0mmodel\u001b[0m\u001b[0;34m.\u001b[0m\u001b[0mfit\u001b[0m\u001b[0;34m(\u001b[0m\u001b[0mtrainX\u001b[0m\u001b[0;34m,\u001b[0m \u001b[0mtrainY\u001b[0m\u001b[0;34m,\u001b[0m \u001b[0mepochs\u001b[0m\u001b[0;34m=\u001b[0m\u001b[0;36m2\u001b[0m\u001b[0;34m,\u001b[0m \u001b[0mbatch_size\u001b[0m\u001b[0;34m=\u001b[0m\u001b[0;36m1\u001b[0m\u001b[0;34m,\u001b[0m \u001b[0mverbose\u001b[0m\u001b[0;34m=\u001b[0m\u001b[0;36m1\u001b[0m\u001b[0;34m)\u001b[0m \u001b[0;31m## cambiar epochs a 25\u001b[0m\u001b[0;34m\u001b[0m\u001b[0m\n\u001b[0m\u001b[1;32m     10\u001b[0m \u001b[0mend_time\u001b[0m \u001b[0;34m=\u001b[0m \u001b[0mtime\u001b[0m\u001b[0;34m.\u001b[0m\u001b[0mtime\u001b[0m\u001b[0;34m(\u001b[0m\u001b[0;34m)\u001b[0m\u001b[0;34m\u001b[0m\u001b[0m\n",
      "\u001b[0;32m/anaconda3/envs/redes-neuronales/lib/python3.6/site-packages/keras/models.py\u001b[0m in \u001b[0;36mfit\u001b[0;34m(self, x, y, batch_size, epochs, verbose, callbacks, validation_split, validation_data, shuffle, class_weight, sample_weight, initial_epoch, steps_per_epoch, validation_steps, **kwargs)\u001b[0m\n\u001b[1;32m    961\u001b[0m                               \u001b[0minitial_epoch\u001b[0m\u001b[0;34m=\u001b[0m\u001b[0minitial_epoch\u001b[0m\u001b[0;34m,\u001b[0m\u001b[0;34m\u001b[0m\u001b[0m\n\u001b[1;32m    962\u001b[0m                               \u001b[0msteps_per_epoch\u001b[0m\u001b[0;34m=\u001b[0m\u001b[0msteps_per_epoch\u001b[0m\u001b[0;34m,\u001b[0m\u001b[0;34m\u001b[0m\u001b[0m\n\u001b[0;32m--> 963\u001b[0;31m                               validation_steps=validation_steps)\n\u001b[0m\u001b[1;32m    964\u001b[0m \u001b[0;34m\u001b[0m\u001b[0m\n\u001b[1;32m    965\u001b[0m     def evaluate(self, x=None, y=None,\n",
      "\u001b[0;32m/anaconda3/envs/redes-neuronales/lib/python3.6/site-packages/keras/engine/training.py\u001b[0m in \u001b[0;36mfit\u001b[0;34m(self, x, y, batch_size, epochs, verbose, callbacks, validation_split, validation_data, shuffle, class_weight, sample_weight, initial_epoch, steps_per_epoch, validation_steps, **kwargs)\u001b[0m\n\u001b[1;32m   1628\u001b[0m             \u001b[0msample_weight\u001b[0m\u001b[0;34m=\u001b[0m\u001b[0msample_weight\u001b[0m\u001b[0;34m,\u001b[0m\u001b[0;34m\u001b[0m\u001b[0m\n\u001b[1;32m   1629\u001b[0m             \u001b[0mclass_weight\u001b[0m\u001b[0;34m=\u001b[0m\u001b[0mclass_weight\u001b[0m\u001b[0;34m,\u001b[0m\u001b[0;34m\u001b[0m\u001b[0m\n\u001b[0;32m-> 1630\u001b[0;31m             batch_size=batch_size)\n\u001b[0m\u001b[1;32m   1631\u001b[0m         \u001b[0;31m# Prepare validation data.\u001b[0m\u001b[0;34m\u001b[0m\u001b[0;34m\u001b[0m\u001b[0m\n\u001b[1;32m   1632\u001b[0m         \u001b[0mdo_validation\u001b[0m \u001b[0;34m=\u001b[0m \u001b[0;32mFalse\u001b[0m\u001b[0;34m\u001b[0m\u001b[0m\n",
      "\u001b[0;32m/anaconda3/envs/redes-neuronales/lib/python3.6/site-packages/keras/engine/training.py\u001b[0m in \u001b[0;36m_standardize_user_data\u001b[0;34m(self, x, y, sample_weight, class_weight, check_array_lengths, batch_size)\u001b[0m\n\u001b[1;32m   1478\u001b[0m                                     \u001b[0moutput_shapes\u001b[0m\u001b[0;34m,\u001b[0m\u001b[0;34m\u001b[0m\u001b[0m\n\u001b[1;32m   1479\u001b[0m                                     \u001b[0mcheck_batch_axis\u001b[0m\u001b[0;34m=\u001b[0m\u001b[0;32mFalse\u001b[0m\u001b[0;34m,\u001b[0m\u001b[0;34m\u001b[0m\u001b[0m\n\u001b[0;32m-> 1480\u001b[0;31m                                     exception_prefix='target')\n\u001b[0m\u001b[1;32m   1481\u001b[0m         sample_weights = _standardize_sample_weights(sample_weight,\n\u001b[1;32m   1482\u001b[0m                                                      self._feed_output_names)\n",
      "\u001b[0;32m/anaconda3/envs/redes-neuronales/lib/python3.6/site-packages/keras/engine/training.py\u001b[0m in \u001b[0;36m_standardize_input_data\u001b[0;34m(data, names, shapes, check_batch_axis, exception_prefix)\u001b[0m\n\u001b[1;32m    121\u001b[0m                             \u001b[0;34m': expected '\u001b[0m \u001b[0;34m+\u001b[0m \u001b[0mnames\u001b[0m\u001b[0;34m[\u001b[0m\u001b[0mi\u001b[0m\u001b[0;34m]\u001b[0m \u001b[0;34m+\u001b[0m \u001b[0;34m' to have shape '\u001b[0m \u001b[0;34m+\u001b[0m\u001b[0;34m\u001b[0m\u001b[0m\n\u001b[1;32m    122\u001b[0m                             \u001b[0mstr\u001b[0m\u001b[0;34m(\u001b[0m\u001b[0mshape\u001b[0m\u001b[0;34m)\u001b[0m \u001b[0;34m+\u001b[0m \u001b[0;34m' but got array with shape '\u001b[0m \u001b[0;34m+\u001b[0m\u001b[0;34m\u001b[0m\u001b[0m\n\u001b[0;32m--> 123\u001b[0;31m                             str(data_shape))\n\u001b[0m\u001b[1;32m    124\u001b[0m     \u001b[0;32mreturn\u001b[0m \u001b[0mdata\u001b[0m\u001b[0;34m\u001b[0m\u001b[0m\n\u001b[1;32m    125\u001b[0m \u001b[0;34m\u001b[0m\u001b[0m\n",
      "\u001b[0;31mValueError\u001b[0m: Error when checking target: expected lstm_99 to have shape (4,) but got array with shape (1,)"
     ]
    }
   ],
   "source": [
    "trainX.shape\n",
    "trainY.shape\n",
    "\n",
    "model = Sequential()\n",
    "model.add(LSTM(4, input_dim=1, return_sequences=True))\n",
    "model.add(LSTM(4))\n",
    "model.compile(loss='mean_squared_error', optimizer='adam')\n",
    "start_time = time.time()\n",
    "model.fit(trainX, trainY, epochs=2, batch_size=1, verbose=1) ## cambiar epochs a 25\n",
    "end_time = time.time()"
   ]
  }
 ],
 "metadata": {
  "kernelspec": {
   "display_name": "Python 3",
   "language": "python",
   "name": "python3"
  },
  "language_info": {
   "codemirror_mode": {
    "name": "ipython",
    "version": 3
   },
   "file_extension": ".py",
   "mimetype": "text/x-python",
   "name": "python",
   "nbconvert_exporter": "python",
   "pygments_lexer": "ipython3",
   "version": "3.6.4"
  }
 },
 "nbformat": 4,
 "nbformat_minor": 2
}
