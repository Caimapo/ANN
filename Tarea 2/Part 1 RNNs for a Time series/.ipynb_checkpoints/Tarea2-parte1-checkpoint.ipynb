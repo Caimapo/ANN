{
 "cells": [
  {
   "cell_type": "markdown",
   "metadata": {
    "toc": true
   },
   "source": [
    "<h1>Table of Contents<span class=\"tocSkip\"></span></h1>\n",
    "<div class=\"toc\"><ul class=\"toc-item\"><li><span><a href=\"#Tarea-2---Parte-1\" data-toc-modified-id=\"Tarea-2---Parte-1-1\"><span class=\"toc-item-num\">1&nbsp;&nbsp;</span>Tarea 2 - Parte 1</a></span></li><li><span><a href=\"#INF477-Redes-Neuronales-Artificiales-I-2018\" data-toc-modified-id=\"INF477-Redes-Neuronales-Artificiales-I-2018-2\"><span class=\"toc-item-num\">2&nbsp;&nbsp;</span>INF477 Redes Neuronales Artificiales I-2018</a></span><ul class=\"toc-item\"><li><ul class=\"toc-item\"><li><span><a href=\"#a)-Función-que-carga-los-datos,-los-divide-en-1500-de-entrenamiento-y-el-500-de-pruebas,-y-escalado-de-datos-para-trabajar-con-redes-recurrentes.\" data-toc-modified-id=\"a)-Función-que-carga-los-datos,-los-divide-en-1500-de-entrenamiento-y-el-500-de-pruebas,-y-escalado-de-datos-para-trabajar-con-redes-recurrentes.-2.0.1\"><span class=\"toc-item-num\">2.0.1&nbsp;&nbsp;</span>a) Función que carga los datos, los divide en 1500 de entrenamiento y el 500 de pruebas, y escalado de datos para trabajar con redes recurrentes.</a></span></li><li><span><a href=\"#b)--Función-que-recibe-una-secuencia-de-valores-y-la-transforma-en-dos-arreglos-dataX-(input)-y-dataY-(targets)-donde-el-número-de-características-de-la-matriz-de-entrada-(columnas)-es-el-número-de-tiempos-que-se-considera-como-información-(lag).\" data-toc-modified-id=\"b)--Función-que-recibe-una-secuencia-de-valores-y-la-transforma-en-dos-arreglos-dataX-(input)-y-dataY-(targets)-donde-el-número-de-características-de-la-matriz-de-entrada-(columnas)-es-el-número-de-tiempos-que-se-considera-como-información-(lag).-2.0.2\"><span class=\"toc-item-num\">2.0.2&nbsp;&nbsp;</span>b)  Función que recibe una secuencia de valores y la transforma en dos arreglos dataX (input) y dataY (targets) donde el número de características de la matriz de entrada (columnas) es el número de tiempos que se considera como información (lag).</a></span></li><li><span><a href=\"#lag-es-el-número-de-períodos-los-que-serán-usados-para-la-predicción.\" data-toc-modified-id=\"lag-es-el-número-de-períodos-los-que-serán-usados-para-la-predicción.-2.0.3\"><span class=\"toc-item-num\">2.0.3&nbsp;&nbsp;</span>lag es el número de períodos los que serán usados para la predicción.</a></span></li><li><span><a href=\"#c)-Utilizando-la-función-anterior-se-generan-los--conjuntos-de-prueba-y-entrenamiento\" data-toc-modified-id=\"c)-Utilizando-la-función-anterior-se-generan-los--conjuntos-de-prueba-y-entrenamiento-2.0.4\"><span class=\"toc-item-num\">2.0.4&nbsp;&nbsp;</span>c) Utilizando la función anterior se generan los  conjuntos de prueba y entrenamiento</a></span></li><li><span><a href=\"#d)-Se-transfoman-los-datos-para-que-tengan-la-estructura-[samples,-time-step,-features],-dado-que---hasta-ahora-tienen-la-estructura-[samples,-features]-que-no-es-lo-requerido-para-la-red-LSTM.\" data-toc-modified-id=\"d)-Se-transfoman-los-datos-para-que-tengan-la-estructura-[samples,-time-step,-features],-dado-que---hasta-ahora-tienen-la-estructura-[samples,-features]-que-no-es-lo-requerido-para-la-red-LSTM.-2.0.5\"><span class=\"toc-item-num\">2.0.5&nbsp;&nbsp;</span>d) Se transfoman los datos para que tengan la estructura [samples, time step, features], dado que   hasta ahora tienen la estructura [samples, features] que no es lo requerido para la red LSTM.</a></span></li><li><span><a href=\"#e)-Entrenando-la-red-con-lag-=-3.\" data-toc-modified-id=\"e)-Entrenando-la-red-con-lag-=-3.-2.0.6\"><span class=\"toc-item-num\">2.0.6&nbsp;&nbsp;</span>e) Entrenando la red con lag = 3.</a></span></li><li><span><a href=\"#f)-Predicciones-del-modelo-para-los-conjuntos-de-entrenamiento-y-prueba.--Datos-desnormalizados-para-que-el-error-pueda-ser-computado-en-la-escala-real.\" data-toc-modified-id=\"f)-Predicciones-del-modelo-para-los-conjuntos-de-entrenamiento-y-prueba.--Datos-desnormalizados-para-que-el-error-pueda-ser-computado-en-la-escala-real.-2.0.7\"><span class=\"toc-item-num\">2.0.7&nbsp;&nbsp;</span>f) Predicciones del modelo para los conjuntos de entrenamiento y prueba.  Datos desnormalizados para que el error pueda ser computado en la escala real.</a></span></li><li><span><a href=\"#g)--Cálculo-de-error-RMSE-(Root-Mean-Square-Error)-sobre-el-cojunto-de-entrenamiento-y-prueba\" data-toc-modified-id=\"g)--Cálculo-de-error-RMSE-(Root-Mean-Square-Error)-sobre-el-cojunto-de-entrenamiento-y-prueba-2.0.8\"><span class=\"toc-item-num\">2.0.8&nbsp;&nbsp;</span>g)  Cálculo de error RMSE (Root Mean Square Error) sobre el cojunto de entrenamiento y prueba</a></span></li><li><span><a href=\"#h)-Gráfico-de-las-predicciones-de-train-y-test,-contrastada-con-la-serie-de-tiempo-original.-Muestra-de-un-extracti-de-la-predicción-para-ver-en-mas-detalle-como-es-la-predicción.-Comentarios\" data-toc-modified-id=\"h)-Gráfico-de-las-predicciones-de-train-y-test,-contrastada-con-la-serie-de-tiempo-original.-Muestra-de-un-extracti-de-la-predicción-para-ver-en-mas-detalle-como-es-la-predicción.-Comentarios-2.0.9\"><span class=\"toc-item-num\">2.0.9&nbsp;&nbsp;</span>h) Gráfico de las predicciones de train y test, contrastada con la serie de tiempo original. Muestra de un extracti de la predicción para ver en mas detalle como es la predicción. Comentarios</a></span></li><li><span><a href=\"#i)-En-lugar-de-aumentar-el-número-de-dimensiones-como-el-paso-e),--se-entrena--la-red-con-un-timestep-de-3-(con-dimensión-de-entrada-1).\" data-toc-modified-id=\"i)-En-lugar-de-aumentar-el-número-de-dimensiones-como-el-paso-e),--se-entrena--la-red-con-un-timestep-de-3-(con-dimensión-de-entrada-1).-2.0.10\"><span class=\"toc-item-num\">2.0.10&nbsp;&nbsp;</span>i) En lugar de aumentar el número de dimensiones como el paso e),  se entrena  la red con un <em>timestep</em> de 3 (con dimensión de entrada 1).</a></span></li><li><span><a href=\"#j)-Determine-el-parámetro-del-número-de-bloques-para-la-LSTM-de-la-pregunta-e)-o-i),-lo-que-le-parezca-mas-sensato-en-base-a-lo-analizado-en-la-pregunta-anterior.\" data-toc-modified-id=\"j)-Determine-el-parámetro-del-número-de-bloques-para-la-LSTM-de-la-pregunta-e)-o-i),-lo-que-le-parezca-mas-sensato-en-base-a-lo-analizado-en-la-pregunta-anterior.-2.0.11\"><span class=\"toc-item-num\">2.0.11&nbsp;&nbsp;</span>j) Determine el parámetro del número de bloques para la LSTM de la pregunta e) o i), lo que le parezca mas sensato en base a lo analizado en la pregunta anterior.</a></span></li><li><span><a href=\"#Utilice-5-fold-cross-validation,-o-bien,-en-su-defecto,-los-datos-restante-no-utilizados-ni-como-entrenamiento-ni-como-pruebas-(los-de-índice-2000-hacia-adelante)-como-conjunto-fijo-de-validación.-Comente.\" data-toc-modified-id=\"Utilice-5-fold-cross-validation,-o-bien,-en-su-defecto,-los-datos-restante-no-utilizados-ni-como-entrenamiento-ni-como-pruebas-(los-de-índice-2000-hacia-adelante)-como-conjunto-fijo-de-validación.-Comente.-2.0.12\"><span class=\"toc-item-num\">2.0.12&nbsp;&nbsp;</span>Utilice 5-fold <em>cross validation</em>, o bien, en su defecto, los datos restante no utilizados ni como entrenamiento ni como pruebas (los de índice 2000 hacia adelante) como conjunto fijo de validación. Comente.</a></span></li></ul></li><li><span><a href=\"#Falta-comentar-y-ver-como-mostrar-los-resultados\" data-toc-modified-id=\"Falta-comentar-y-ver-como-mostrar-los-resultados-2.1\"><span class=\"toc-item-num\">2.1&nbsp;&nbsp;</span>Falta comentar y ver como mostrar los resultados</a></span><ul class=\"toc-item\"><li><span><a href=\"#K)-Comparando-el-desempeño-de-la-red-LSTM-variando-el-lag-de-1--a--4.-Comentar-que-resulta-mejor,-tener-más-información-para-predecir-o-esto-satura-la-predicción-por-el-efecto-del-gradiente-descendiente.\" data-toc-modified-id=\"K)-Comparando-el-desempeño-de-la-red-LSTM-variando-el-lag-de-1--a--4.-Comentar-que-resulta-mejor,-tener-más-información-para-predecir-o-esto-satura-la-predicción-por-el-efecto-del-gradiente-descendiente.-2.1.1\"><span class=\"toc-item-num\">2.1.1&nbsp;&nbsp;</span>K) Comparando el desempeño de la red LSTM variando el lag de 1  a  4. Comentar que resulta mejor, tener más información para predecir o esto satura la predicción por el efecto del gradiente descendiente.</a></span></li></ul></li><li><span><a href=\"#Falta-comentar-y-ver-como-mostrar-los-resultados\" data-toc-modified-id=\"Falta-comentar-y-ver-como-mostrar-los-resultados-2.2\"><span class=\"toc-item-num\">2.2&nbsp;&nbsp;</span>Falta comentar y ver como mostrar los resultados</a></span><ul class=\"toc-item\"><li><span><a href=\"#l)-Usando-un-lag-de-3,-compare-el-desempeño-de-la-LSTM-con-una-red-recurrente-simple-y-una-GRU,-comente-sobre-convergencia-y-tiempo-de-ejecución\" data-toc-modified-id=\"l)-Usando-un-lag-de-3,-compare-el-desempeño-de-la-LSTM-con-una-red-recurrente-simple-y-una-GRU,-comente-sobre-convergencia-y-tiempo-de-ejecución-2.2.1\"><span class=\"toc-item-num\">2.2.1&nbsp;&nbsp;</span>l) Usando un lag de 3, compare el desempeño de la LSTM con una red recurrente simple y una GRU, comente sobre convergencia y tiempo de ejecución</a></span></li></ul></li></ul></li><li><span><a href=\"#m)-Entrenando-la-red-con-memoria-entre-batches.-Gráfico-de-predicción,-comentarios-con-respecto-a-si-mejora-la-predicción\" data-toc-modified-id=\"m)-Entrenando-la-red-con-memoria-entre-batches.-Gráfico-de-predicción,-comentarios-con-respecto-a-si-mejora-la-predicción-3\"><span class=\"toc-item-num\">3&nbsp;&nbsp;</span>m) Entrenando la red con memoria entre batches. Gráfico de predicción, comentarios con respecto a si mejora la predicción</a></span><ul class=\"toc-item\"><li><ul class=\"toc-item\"><li><span><a href=\"#n)-Comprar-resultados-anterior-usando-un-tamaño-de-batch-a-elección,-mayor-o-igual-a-3\" data-toc-modified-id=\"n)-Comprar-resultados-anterior-usando-un-tamaño-de-batch-a-elección,-mayor-o-igual-a-3-3.0.1\"><span class=\"toc-item-num\">3.0.1&nbsp;&nbsp;</span>n) Comprar resultados anterior usando un tamaño de batch a elección, mayor o igual a 3</a></span></li><li><span><a href=\"#o)-LSTM-apilada,-y-comparacion-con-modelo-de-i).-Comentarios\" data-toc-modified-id=\"o)-LSTM-apilada,-y-comparacion-con-modelo-de-i).-Comentarios-3.0.2\"><span class=\"toc-item-num\">3.0.2&nbsp;&nbsp;</span>o) LSTM apilada, y comparacion con modelo de i). Comentarios</a></span></li></ul></li></ul></li></ul></div>"
   ]
  },
  {
   "cell_type": "markdown",
   "metadata": {},
   "source": [
    "# Tarea 2 - Parte 1\n",
    "# INF477 Redes Neuronales Artificiales I-2018\n",
    "\n",
    "Profesor: Dr. Ricardo Ñanculef -- \n",
    "Ayudante: Francisco Mena\n",
    "\n",
    "Alumnos:\n",
    "- Jose Caimapo, jose.caimapo.12@sansano.usm.cl\n",
    "\n",
    "- Eliana Providel Godoy, eprovide@inf.utfsm.cl"
   ]
  },
  {
   "cell_type": "code",
   "execution_count": 1,
   "metadata": {},
   "outputs": [
    {
     "name": "stderr",
     "output_type": "stream",
     "text": [
      "Using TensorFlow backend.\n"
     ]
    }
   ],
   "source": [
    "import numpy as np\n",
    "import pandas as pd\n",
    "from IPython.core.interactiveshell import InteractiveShell\n",
    "InteractiveShell.ast_node_interactivity = \"all\"\n",
    "import matplotlib.pyplot as plt\n",
    "\n",
    "from keras.models import Sequential\n",
    "from keras.layers import Dense\n",
    "from keras.layers import LSTM\n",
    "\n",
    "from sklearn.metrics import mean_squared_error\n",
    "import math\n",
    "\n",
    "import time\n",
    "\n",
    "np.random.seed(7) ## semilla"
   ]
  },
  {
   "cell_type": "markdown",
   "metadata": {},
   "source": [
    "### a) Función que carga los datos, los divide en 1500 de entrenamiento y el 500 de pruebas, y escalado de datos para trabajar con redes recurrentes."
   ]
  },
  {
   "cell_type": "code",
   "execution_count": 2,
   "metadata": {},
   "outputs": [],
   "source": [
    "## Función que carga los datos y escala\n",
    "def data(name_f, num):    \n",
    "    # Leer archivo CSV extrayendo la columna 1, y luego guardando solo los primeros num datos\n",
    "    dataframe = pd.read_csv(name_f,sep=',',usecols=[1],engine='python',skipfooter = 3)[:num]\n",
    "    \n",
    "    # Transforma todos los datos a tipo float32\n",
    "    dataframe[:] = dataframe[:].astype('float32')\n",
    "    \n",
    "    # en df_train guarda los primeros 1500 valores --- posicion 0 hasta 1500 y\n",
    "    # en df_test guarda los restantes  500 valores --- posicion 1500 hasta el final\n",
    "    df_train, df_test = dataframe[:1500].values, dataframe[1500:].values\n",
    "    \n",
    "    from sklearn.preprocessing import MinMaxScaler\n",
    "    scaler = MinMaxScaler(feature_range=(0,1)).fit(df_train)\n",
    "    stream_train_scaled = scaler.transform(df_train)\n",
    "    stream_test_scaled  = scaler.transform(df_test)\n",
    "    return scaler, dataframe, stream_train_scaled, stream_test_scaled"
   ]
  },
  {
   "cell_type": "markdown",
   "metadata": {},
   "source": [
    "** Utilizando la función data (definida anteriormente) y verificando la distribución de los datos **"
   ]
  },
  {
   "cell_type": "code",
   "execution_count": 3,
   "metadata": {},
   "outputs": [],
   "source": [
    "name_f = \"time_series_data.csv\"\n",
    "num = 2000\n",
    "\n",
    "scaler, dataframe,stream_train_scaled,stream_test_scaled = data(name_f,num)\n",
    "stream_train_scaled_Orig = np.copy(stream_train_scaled) ##para tener una copia de los datos originales.\n",
    "stream_test_scaled_Orig = np.copy(stream_test_scaled)   ##para tener una copia de los datos originales."
   ]
  },
  {
   "cell_type": "code",
   "execution_count": 4,
   "metadata": {},
   "outputs": [
    {
     "data": {
      "text/html": [
       "<div>\n",
       "<style scoped>\n",
       "    .dataframe tbody tr th:only-of-type {\n",
       "        vertical-align: middle;\n",
       "    }\n",
       "\n",
       "    .dataframe tbody tr th {\n",
       "        vertical-align: top;\n",
       "    }\n",
       "\n",
       "    .dataframe thead th {\n",
       "        text-align: right;\n",
       "    }\n",
       "</style>\n",
       "<table border=\"1\" class=\"dataframe\">\n",
       "  <thead>\n",
       "    <tr style=\"text-align: right;\">\n",
       "      <th></th>\n",
       "      <th>Daily minimum temperatures in Melbourne, Australia, 1981-1990</th>\n",
       "    </tr>\n",
       "  </thead>\n",
       "  <tbody>\n",
       "    <tr>\n",
       "      <th>count</th>\n",
       "      <td>2000.000000</td>\n",
       "    </tr>\n",
       "    <tr>\n",
       "      <th>mean</th>\n",
       "      <td>11.148250</td>\n",
       "    </tr>\n",
       "    <tr>\n",
       "      <th>std</th>\n",
       "      <td>4.194983</td>\n",
       "    </tr>\n",
       "    <tr>\n",
       "      <th>min</th>\n",
       "      <td>0.000000</td>\n",
       "    </tr>\n",
       "    <tr>\n",
       "      <th>25%</th>\n",
       "      <td>8.100000</td>\n",
       "    </tr>\n",
       "    <tr>\n",
       "      <th>50%</th>\n",
       "      <td>11.000000</td>\n",
       "    </tr>\n",
       "    <tr>\n",
       "      <th>75%</th>\n",
       "      <td>14.000000</td>\n",
       "    </tr>\n",
       "    <tr>\n",
       "      <th>max</th>\n",
       "      <td>26.299999</td>\n",
       "    </tr>\n",
       "  </tbody>\n",
       "</table>\n",
       "</div>"
      ],
      "text/plain": [
       "       Daily minimum temperatures in Melbourne, Australia, 1981-1990\n",
       "count                                        2000.000000            \n",
       "mean                                           11.148250            \n",
       "std                                             4.194983            \n",
       "min                                             0.000000            \n",
       "25%                                             8.100000            \n",
       "50%                                            11.000000            \n",
       "75%                                            14.000000            \n",
       "max                                            26.299999            "
      ]
     },
     "execution_count": 4,
     "metadata": {},
     "output_type": "execute_result"
    },
    {
     "data": {
      "text/html": [
       "<div>\n",
       "<style scoped>\n",
       "    .dataframe tbody tr th:only-of-type {\n",
       "        vertical-align: middle;\n",
       "    }\n",
       "\n",
       "    .dataframe tbody tr th {\n",
       "        vertical-align: top;\n",
       "    }\n",
       "\n",
       "    .dataframe thead th {\n",
       "        text-align: right;\n",
       "    }\n",
       "</style>\n",
       "<table border=\"1\" class=\"dataframe\">\n",
       "  <thead>\n",
       "    <tr style=\"text-align: right;\">\n",
       "      <th></th>\n",
       "      <th>Daily minimum temperatures in Melbourne, Australia, 1981-1990</th>\n",
       "    </tr>\n",
       "  </thead>\n",
       "  <tbody>\n",
       "    <tr>\n",
       "      <th>0</th>\n",
       "      <td>10.0</td>\n",
       "    </tr>\n",
       "  </tbody>\n",
       "</table>\n",
       "</div>"
      ],
      "text/plain": [
       "   Daily minimum temperatures in Melbourne, Australia, 1981-1990\n",
       "0                                               10.0            "
      ]
     },
     "execution_count": 4,
     "metadata": {},
     "output_type": "execute_result"
    },
    {
     "data": {
      "text/plain": [
       "<matplotlib.axes._subplots.AxesSubplot at 0x29666c372b0>"
      ]
     },
     "execution_count": 4,
     "metadata": {},
     "output_type": "execute_result"
    }
   ],
   "source": [
    "##  Describiendo el dataframe\n",
    "dataframe.describe()\n",
    "dataframe.mode()\n",
    "dataframe.boxplot()"
   ]
  },
  {
   "cell_type": "code",
   "execution_count": 5,
   "metadata": {},
   "outputs": [
    {
     "name": "stdout",
     "output_type": "stream",
     "text": [
      "Datos de entrenamiento escalados\n",
      "Max: 1.0\n",
      "Min: 0.0\n",
      "Len: 1500\n",
      "Datos de prueba escalados\n",
      "Max: 0.851711\n",
      "Min: 0.0114068\n",
      "Len: 500\n"
     ]
    }
   ],
   "source": [
    "## Para los datos de entrenamiento y prueba escalados\n",
    "\n",
    "print(\"Datos de entrenamiento escalados\")\n",
    "print(\"Max: %s\" % (stream_train_scaled.max()))\n",
    "print(\"Min: %s\" % (stream_train_scaled.min()))\n",
    "print(\"Len: %s\" % (len(stream_train_scaled)))\n",
    "\n",
    "print(\"Datos de prueba escalados\")\n",
    "print(\"Max: %s\" % (stream_test_scaled.max()))\n",
    "print(\"Min: %s\" % (stream_test_scaled.min()))\n",
    "print(\"Len: %s\" % (len(stream_test_scaled)))\n",
    "\n",
    "scaled_data = [stream_train_scaled,stream_test_scaled]\n",
    "_ = plt.title(\"Datos de entrenamiento\")\n",
    "_ = plt.boxplot(scaled_data)\n"
   ]
  },
  {
   "cell_type": "code",
   "execution_count": 6,
   "metadata": {
    "scrolled": true
   },
   "outputs": [
    {
     "data": {
      "image/png": "[encoded data removed]",
      "text/plain": [
       "<matplotlib.figure.Figure at 0x296658ca630>"
      ]
     },
     "metadata": {},
     "output_type": "display_data"
    },
    {
     "data": {
      "image/png": "[encoded data removed]",
      "text/plain": [
       "<matplotlib.figure.Figure at 0x29666c72198>"
      ]
     },
     "metadata": {},
     "output_type": "display_data"
    }
   ],
   "source": [
    "hist, bin_edges = np.histogram(stream_test_scaled,bins='auto')\n",
    "_ = plt.hist(stream_test_scaled, bins=bin_edges)\n",
    "_ = plt.title(\"Histograma de datos de prueba\")\n",
    "plt.show()\n",
    "\n",
    "hist, bin_edges = np.histogram(stream_train_scaled,bins='auto')\n",
    "_ = plt.hist(stream_train_scaled, bins=bin_edges)\n",
    "_ = plt.title(\"Histograma de datos de entrenamiento\")\n",
    "plt.show()"
   ]
  },
  {
   "cell_type": "markdown",
   "metadata": {},
   "source": [
    "### b)  Función que recibe una secuencia de valores y la transforma en dos arreglos dataX (input) y dataY (targets) donde el número de características de la matriz de entrada (columnas) es el número de tiempos que se considera como información (lag).\n",
    "\n",
    "### lag es el número de períodos los que serán usados para la predicción."
   ]
  },
  {
   "cell_type": "code",
   "execution_count": 7,
   "metadata": {},
   "outputs": [],
   "source": [
    "def create_dataset(dataset,lag=1):\n",
    "    # filas\n",
    "    m = len(dataset) - lag    \n",
    "    # columnas\n",
    "    n = lag + 1    \n",
    "    data = np.array( [ dataset[x:x+lag+1].flatten() for x in range(0, m) ] )\n",
    "    dataY=data[:,lag]\n",
    "    dataX=np.delete(data,lag,1)\n",
    "    return dataX, dataY\n"
   ]
  },
  {
   "cell_type": "code",
   "execution_count": 8,
   "metadata": {},
   "outputs": [
    {
     "name": "stdout",
     "output_type": "stream",
     "text": [
      "dataX [[ 20.7  17.9  18.8]\n",
      " [ 17.9  18.8  14.6]\n",
      " [ 18.8  14.6  15.8]\n",
      " [ 14.6  15.8  15.8]]\n",
      "\n",
      "dataY [ 14.6  15.8  15.8  10.1]\n"
     ]
    }
   ],
   "source": [
    "## Ejemplo según enunciado\n",
    "dset_prueba = np.array([[20.7], [17.9], [18.8], [14.6], [15.8], [15.8], [10.1]])\n",
    "dataX, dataY = create_dataset(dset_prueba, 3)\n",
    "\n",
    "print(\"dataX %s\\n\"  % (dataX))\n",
    "print(\"dataY %s\"  % (dataY))"
   ]
  },
  {
   "cell_type": "markdown",
   "metadata": {},
   "source": [
    "### c) Utilizando la función anterior se generan los  conjuntos de prueba y entrenamiento"
   ]
  },
  {
   "cell_type": "code",
   "execution_count": 9,
   "metadata": {
    "scrolled": true
   },
   "outputs": [
    {
     "name": "stdout",
     "output_type": "stream",
     "text": [
      "TrainX\n"
     ]
    },
    {
     "data": {
      "text/plain": [
       "(1497, 3)"
      ]
     },
     "execution_count": 9,
     "metadata": {},
     "output_type": "execute_result"
    },
    {
     "data": {
      "text/plain": [
       "(1497,)"
      ]
     },
     "execution_count": 9,
     "metadata": {},
     "output_type": "execute_result"
    },
    {
     "data": {
      "text/plain": [
       "array([[ 0.7870723 ,  0.68060839,  0.71482891],\n",
       "       [ 0.68060839,  0.71482891,  0.5551331 ],\n",
       "       [ 0.71482891,  0.5551331 ,  0.60076052],\n",
       "       ..., \n",
       "       [ 0.72243351,  0.59695822,  0.68441069],\n",
       "       [ 0.59695822,  0.68441069,  0.5627377 ],\n",
       "       [ 0.68441069,  0.5627377 ,  0.52851713]], dtype=float32)"
      ]
     },
     "execution_count": 9,
     "metadata": {},
     "output_type": "execute_result"
    },
    {
     "name": "stdout",
     "output_type": "stream",
     "text": [
      "TestY\n"
     ]
    },
    {
     "data": {
      "text/plain": [
       "(497, 3)"
      ]
     },
     "execution_count": 9,
     "metadata": {},
     "output_type": "execute_result"
    },
    {
     "data": {
      "text/plain": [
       "(497,)"
      ]
     },
     "execution_count": 9,
     "metadata": {},
     "output_type": "execute_result"
    },
    {
     "data": {
      "text/plain": [
       "array([[ 0.58174908,  0.54372627,  0.59315592],\n",
       "       [ 0.54372627,  0.59315592,  0.60836506],\n",
       "       [ 0.59315592,  0.60836506,  0.56653994],\n",
       "       ..., \n",
       "       [ 0.32699624,  0.21673004,  0.20912549],\n",
       "       [ 0.21673004,  0.20912549,  0.21673004],\n",
       "       [ 0.20912549,  0.21673004,  0.21673004]], dtype=float32)"
      ]
     },
     "execution_count": 9,
     "metadata": {},
     "output_type": "execute_result"
    }
   ],
   "source": [
    "lag = 3\n",
    "trainX, trainY = create_dataset(stream_train_scaled, lag)\n",
    "testX, testY   = create_dataset(stream_test_scaled , lag)\n",
    "\n",
    "## Verificando las dimensiones y datos\n",
    "## *X Tiene la forma [ejemplos, atributos]\n",
    "\n",
    "print(\"TrainX\")\n",
    "trainX.shape\n",
    "trainY.shape\n",
    "trainX\n",
    "\n",
    "print(\"TestY\")\n",
    "testX.shape\n",
    "testY.shape\n",
    "testX\n"
   ]
  },
  {
   "cell_type": "markdown",
   "metadata": {},
   "source": [
    "### d) Se transfoman los datos para que tengan la estructura [samples, time step, features], dado que   hasta ahora tienen la estructura [samples, features] que no es lo requerido para la red LSTM."
   ]
  },
  {
   "cell_type": "code",
   "execution_count": 10,
   "metadata": {},
   "outputs": [
    {
     "name": "stdout",
     "output_type": "stream",
     "text": [
      "Shape trainX\n"
     ]
    },
    {
     "data": {
      "text/plain": [
       "(1497, 1, 3)"
      ]
     },
     "execution_count": 10,
     "metadata": {},
     "output_type": "execute_result"
    },
    {
     "name": "stdout",
     "output_type": "stream",
     "text": [
      "Shape testX\n"
     ]
    },
    {
     "data": {
      "text/plain": [
       "(497, 1, 3)"
      ]
     },
     "execution_count": 10,
     "metadata": {},
     "output_type": "execute_result"
    },
    {
     "name": "stdout",
     "output_type": "stream",
     "text": [
      "Shape trainY\n"
     ]
    },
    {
     "data": {
      "text/plain": [
       "(1497, 1)"
      ]
     },
     "execution_count": 10,
     "metadata": {},
     "output_type": "execute_result"
    },
    {
     "name": "stdout",
     "output_type": "stream",
     "text": [
      "Shape testY\n"
     ]
    },
    {
     "data": {
      "text/plain": [
       "(497, 1)"
      ]
     },
     "execution_count": 10,
     "metadata": {},
     "output_type": "execute_result"
    }
   ],
   "source": [
    "trainX_orig = np.copy(trainX) ## se obtienen copias para fututos usos\n",
    "testX_orig = np.copy(testX)\n",
    "trainY_orig = np.copy(trainY)\n",
    "testY_orig = np.copy(testY)\n",
    "\n",
    "trainX = np.reshape(trainX, (trainX.shape[0], 1, trainX.shape[1]))  ## reshape de trainX\n",
    "testX  = np.reshape(testX,  (testX.shape[0] , 1, testX.shape[1]))   ## reshape de testX\n",
    "\n",
    "print(\"Shape trainX\")\n",
    "trainX.shape\n",
    "print(\"Shape testX\")\n",
    "testX.shape\n",
    "\n",
    "trainY = np.reshape(trainY, (trainY.shape[0], 1)) ## reshape de trainY\n",
    "testY = np.reshape(testY, (testY.shape[0], 1)) ##reshape de testY\n",
    "\n",
    "print(\"Shape trainY\")\n",
    "trainY.shape\n",
    "print(\"Shape testY\")\n",
    "testY.shape"
   ]
  },
  {
   "cell_type": "markdown",
   "metadata": {},
   "source": [
    "### e) Entrenando la red con lag = 3."
   ]
  },
  {
   "cell_type": "code",
   "execution_count": 11,
   "metadata": {},
   "outputs": [
    {
     "name": "stderr",
     "output_type": "stream",
     "text": [
      "c:\\users\\caimapo\\appdata\\local\\programs\\python\\python36\\lib\\site-packages\\ipykernel_launcher.py:5: UserWarning: The `input_dim` and `input_length` arguments in recurrent layers are deprecated. Use `input_shape` instead.\n",
      "  \"\"\"\n",
      "c:\\users\\caimapo\\appdata\\local\\programs\\python\\python36\\lib\\site-packages\\ipykernel_launcher.py:5: UserWarning: Update your `LSTM` call to the Keras 2 API: `LSTM(4, activation=\"tanh\", input_shape=(None, 3), recurrent_activation=\"sigmoid\")`\n",
      "  \"\"\"\n"
     ]
    },
    {
     "name": "stdout",
     "output_type": "stream",
     "text": [
      "WARNING:tensorflow:From c:\\users\\caimapo\\appdata\\local\\programs\\python\\python36\\lib\\site-packages\\keras\\backend\\tensorflow_backend.py:1247: calling reduce_sum (from tensorflow.python.ops.math_ops) with keep_dims is deprecated and will be removed in a future version.\n",
      "Instructions for updating:\n",
      "keep_dims is deprecated, use keepdims instead\n",
      "WARNING:tensorflow:From c:\\users\\caimapo\\appdata\\local\\programs\\python\\python36\\lib\\site-packages\\keras\\backend\\tensorflow_backend.py:1349: calling reduce_mean (from tensorflow.python.ops.math_ops) with keep_dims is deprecated and will be removed in a future version.\n",
      "Instructions for updating:\n",
      "keep_dims is deprecated, use keepdims instead\n",
      "Epoch 1/25\n",
      "1497/1497 [==============================] - 19s 13ms/step - loss: 0.0315\n",
      "Epoch 2/25\n",
      "1497/1497 [==============================] - 6s 4ms/step - loss: 0.0123\n",
      "Epoch 3/25\n",
      "1497/1497 [==============================] - 6s 4ms/step - loss: 0.0111\n",
      "Epoch 4/25\n",
      "1497/1497 [==============================] - 6s 4ms/step - loss: 0.0106\n",
      "Epoch 5/25\n",
      "1497/1497 [==============================] - 6s 4ms/step - loss: 0.0105\n",
      "Epoch 6/25\n",
      "1497/1497 [==============================] - 6s 4ms/step - loss: 0.0103\n",
      "Epoch 7/25\n",
      "1497/1497 [==============================] - 6s 4ms/step - loss: 0.0102\n",
      "Epoch 8/25\n",
      "1497/1497 [==============================] - 6s 4ms/step - loss: 0.0102\n",
      "Epoch 9/25\n",
      "1497/1497 [==============================] - 6s 4ms/step - loss: 0.0102\n",
      "Epoch 10/25\n",
      "1497/1497 [==============================] - 6s 4ms/step - loss: 0.0102\n",
      "Epoch 11/25\n",
      "1497/1497 [==============================] - 6s 4ms/step - loss: 0.0102\n",
      "Epoch 12/25\n",
      "1497/1497 [==============================] - 6s 4ms/step - loss: 0.0101\n",
      "Epoch 13/25\n",
      "1497/1497 [==============================] - 6s 4ms/step - loss: 0.0101\n",
      "Epoch 14/25\n",
      "1497/1497 [==============================] - 6s 4ms/step - loss: 0.0101\n",
      "Epoch 15/25\n",
      "1497/1497 [==============================] - 6s 4ms/step - loss: 0.0102\n",
      "Epoch 16/25\n",
      "1497/1497 [==============================] - 6s 4ms/step - loss: 0.0101\n",
      "Epoch 17/25\n",
      "1497/1497 [==============================] - 6s 4ms/step - loss: 0.0101\n",
      "Epoch 18/25\n",
      "1497/1497 [==============================] - 6s 4ms/step - loss: 0.0101\n",
      "Epoch 19/25\n",
      "1497/1497 [==============================] - 6s 4ms/step - loss: 0.0101\n",
      "Epoch 20/25\n",
      "1497/1497 [==============================] - 6s 4ms/step - loss: 0.0101\n",
      "Epoch 21/25\n",
      "1497/1497 [==============================] - 6s 4ms/step - loss: 0.0100\n",
      "Epoch 22/25\n",
      "1497/1497 [==============================] - 6s 4ms/step - loss: 0.0100\n",
      "Epoch 23/25\n",
      "1497/1497 [==============================] - 6s 4ms/step - loss: 0.0101\n",
      "Epoch 24/25\n",
      "1497/1497 [==============================] - 6s 4ms/step - loss: 0.0100\n",
      "Epoch 25/25\n",
      "1497/1497 [==============================] - 6s 4ms/step - loss: 0.0100\n",
      "Tiempo de entrenamiento: 160.083467\n"
     ]
    },
    {
     "data": {
      "image/png": "[encoded data removed]",
      "text/plain": [
       "<matplotlib.figure.Figure at 0x29669238208>"
      ]
     },
     "metadata": {},
     "output_type": "display_data"
    }
   ],
   "source": [
    "lag = 3\n",
    "history = []\n",
    "\n",
    "model = Sequential()\n",
    "model.add(LSTM(4, input_dim=lag, activation='tanh', inner_activation='sigmoid'))\n",
    "model.add(Dense(1,activation='linear'))\n",
    "model.compile(loss='mean_squared_error', optimizer='adam')\n",
    "start_time = time.time()\n",
    "history.append(model.fit(trainX, trainY, epochs=25, batch_size=1, verbose=1))\n",
    "end_time = time.time()\n",
    "print(\"Tiempo de entrenamiento: %f\" % (end_time-start_time))\n",
    "\n",
    "## Graficar el error, con el objetivo de visualiar de forma gráfica sus valores.\n",
    "_ = plt.close('all')\n",
    "_ = plt.title('MSE vs Epoch ')\n",
    "_ = plt.plot(history[0].history['loss'])\n",
    "_ = plt.xlabel('epoch')\n",
    "_ = plt.ylabel('mse')\n",
    "_ = plt.legend(['entrenamiento'], loc='upper right')\n",
    "plt.show()"
   ]
  },
  {
   "cell_type": "markdown",
   "metadata": {},
   "source": [
    "### f) Predicciones del modelo para los conjuntos de entrenamiento y prueba.  Datos desnormalizados para que el error pueda ser computado en la escala real."
   ]
  },
  {
   "cell_type": "code",
   "execution_count": 12,
   "metadata": {},
   "outputs": [],
   "source": [
    "\n",
    "batch_size = 1\n",
    "\n",
    "##Para los datos de entrenamiento\n",
    "trainPredict = model.predict(trainX,batch_size=batch_size)\n",
    "trainPredict = scaler.inverse_transform(trainPredict)\n",
    "trainY = scaler.inverse_transform(trainY)\n",
    "\n",
    "##Para los datos de prueba\n",
    "testPredict = model.predict(testX,batch_size=batch_size)\n",
    "testPredict = scaler.inverse_transform(testPredict)\n",
    "testY = scaler.inverse_transform(testY)"
   ]
  },
  {
   "cell_type": "markdown",
   "metadata": {},
   "source": [
    "### g)  Cálculo de error RMSE (Root Mean Square Error) sobre el cojunto de entrenamiento y prueba "
   ]
  },
  {
   "cell_type": "code",
   "execution_count": 13,
   "metadata": {},
   "outputs": [
    {
     "name": "stdout",
     "output_type": "stream",
     "text": [
      "Train Score: 2.73 RMSE\n",
      "Test Score: 2.54 RMSE\n"
     ]
    }
   ],
   "source": [
    "##Cálculo de root mean square error\n",
    "trainScore = math.sqrt(mean_squared_error(trainY, trainPredict[:,0]))\n",
    "print('Train Score: %.2f RMSE' % (trainScore))\n",
    "testScore = math.sqrt(mean_squared_error(testY, testPredict[:,0]))\n",
    "print('Test Score: %.2f RMSE' % (testScore))"
   ]
  },
  {
   "cell_type": "markdown",
   "metadata": {},
   "source": [
    "### h) Gráfico de las predicciones de train y test, contrastada con la serie de tiempo original. Muestra de un extracti de la predicción para ver en mas detalle como es la predicción. Comentarios\n",
    "(FALTA EXTRACTO Y COMENTARIOS)\n"
   ]
  },
  {
   "cell_type": "code",
   "execution_count": 14,
   "metadata": {},
   "outputs": [
    {
     "data": {
      "image/png": "[encoded data removed]",
      "text/plain": [
       "<matplotlib.figure.Figure at 0x296002251d0>"
      ]
     },
     "metadata": {},
     "output_type": "display_data"
    }
   ],
   "source": [
    "# shift train predictions for plotting\n",
    "trainPredictPlot = np.empty_like(dataframe.values)\n",
    "trainPredictPlot[:, :] = np.nan\n",
    "trainPredictPlot[lag:len(trainPredict)+lag, :] = trainPredict\n",
    "\n",
    "# shift test predictions for plotting\n",
    "testPredictPlot = np.empty_like(dataframe.values)\n",
    "testPredictPlot[:, :] = np.nan\n",
    "testPredictPlot[(len(trainPredict)+2*lag):, :] = testPredict\n",
    "\n",
    "_ = plt.figure(figsize=(15,7))\n",
    "_ = plt.plot(trainPredictPlot,'b')\n",
    "_ = plt.plot(testPredictPlot,'r')\n",
    "_ = plt.plot(dataframe.values,'y',alpha=0.3)\n",
    "_ = plt.xlabel('Tiempo')\n",
    "_ = plt.ylabel('Grados')\n",
    "_ = plt.legend(['Entrenamiento predecido' , 'Pruebas predecidas','Original'], loc='upper right')\n",
    "plt.show()\n"
   ]
  },
  {
   "cell_type": "markdown",
   "metadata": {},
   "source": [
    "### i) En lugar de aumentar el número de dimensiones como el paso e),  se entrena  la red con un *timestep* de 3 (con dimensión de entrada 1). \n",
    "\n",
    "** ¿Se produce una mejora del error de entrenamiento y pruebas? **\n",
    "** ¿Los tiempos de computación son comparables? **\n",
    "** Comentar brevemente sobre cual es la forma correcta para aprovechar la información a través del tiempo, si con esta forma o la realizada en el paso e). **"
   ]
  },
  {
   "cell_type": "code",
   "execution_count": 15,
   "metadata": {},
   "outputs": [],
   "source": [
    "lag = 3\n",
    "## generando los datos de entrenamiento\n",
    "trainX_i, trainY_i = create_dataset(stream_train_scaled, lag)\n",
    "testX_i, testY_i   = create_dataset(stream_test_scaled , lag)"
   ]
  },
  {
   "cell_type": "code",
   "execution_count": 16,
   "metadata": {},
   "outputs": [
    {
     "name": "stdout",
     "output_type": "stream",
     "text": [
      "Shape trainX\n"
     ]
    },
    {
     "data": {
      "text/plain": [
       "(1497, 3, 1)"
      ]
     },
     "execution_count": 16,
     "metadata": {},
     "output_type": "execute_result"
    },
    {
     "name": "stdout",
     "output_type": "stream",
     "text": [
      "Shape testX\n"
     ]
    },
    {
     "data": {
      "text/plain": [
       "(497, 3, 1)"
      ]
     },
     "execution_count": 16,
     "metadata": {},
     "output_type": "execute_result"
    },
    {
     "name": "stdout",
     "output_type": "stream",
     "text": [
      "Shape trainY\n"
     ]
    },
    {
     "data": {
      "text/plain": [
       "(1497, 1)"
      ]
     },
     "execution_count": 16,
     "metadata": {},
     "output_type": "execute_result"
    },
    {
     "name": "stdout",
     "output_type": "stream",
     "text": [
      "Shape testY\n"
     ]
    },
    {
     "data": {
      "text/plain": [
       "(497, 1)"
      ]
     },
     "execution_count": 16,
     "metadata": {},
     "output_type": "execute_result"
    }
   ],
   "source": [
    "##dando la forma deseada [samples,time step,features]\n",
    "trainX_i = np.reshape(trainX_i, (trainX_i.shape[0], trainX_i.shape[1],1))  ## reshape de trainX\n",
    "testX_i  = np.reshape(testX_i,  (testX_i.shape[0] , testX_i.shape[1],1))   ## reshape de testX\n",
    "\n",
    "print(\"Shape trainX\")\n",
    "trainX_i.shape\n",
    "print(\"Shape testX\")\n",
    "testX_i.shape\n",
    "\n",
    "trainY_i = np.reshape(trainY_i, (trainY_i.shape[0], 1)) ## reshape de trainY\n",
    "testY_i = np.reshape(testY_i, (testY_i.shape[0], 1)) ##reshape de testY\n",
    "\n",
    "print(\"Shape trainY\")\n",
    "trainY_i.shape\n",
    "print(\"Shape testY\")\n",
    "testY_i.shape\n"
   ]
  },
  {
   "cell_type": "code",
   "execution_count": 17,
   "metadata": {},
   "outputs": [
    {
     "name": "stderr",
     "output_type": "stream",
     "text": [
      "c:\\users\\caimapo\\appdata\\local\\programs\\python\\python36\\lib\\site-packages\\ipykernel_launcher.py:5: UserWarning: The `input_dim` and `input_length` arguments in recurrent layers are deprecated. Use `input_shape` instead.\n",
      "  \"\"\"\n",
      "c:\\users\\caimapo\\appdata\\local\\programs\\python\\python36\\lib\\site-packages\\ipykernel_launcher.py:5: UserWarning: Update your `LSTM` call to the Keras 2 API: `LSTM(4, activation=\"tanh\", input_shape=(None, 1), recurrent_activation=\"sigmoid\")`\n",
      "  \"\"\"\n"
     ]
    },
    {
     "name": "stdout",
     "output_type": "stream",
     "text": [
      "Epoch 1/25\n",
      "1497/1497 [==============================] - 9s 6ms/step - loss: 0.0218\n",
      "Epoch 2/25\n",
      "1497/1497 [==============================] - 9s 6ms/step - loss: 0.0120\n",
      "Epoch 3/25\n",
      "1497/1497 [==============================] - 9s 6ms/step - loss: 0.0118\n",
      "Epoch 4/25\n",
      "1497/1497 [==============================] - 9s 6ms/step - loss: 0.0116\n",
      "Epoch 5/25\n",
      "1497/1497 [==============================] - 9s 6ms/step - loss: 0.0113\n",
      "Epoch 6/25\n",
      "1497/1497 [==============================] - 8s 6ms/step - loss: 0.0110\n",
      "Epoch 7/25\n",
      "1497/1497 [==============================] - 9s 6ms/step - loss: 0.0109\n",
      "Epoch 8/25\n",
      "1497/1497 [==============================] - 8s 6ms/step - loss: 0.0107\n",
      "Epoch 9/25\n",
      "1497/1497 [==============================] - 8s 6ms/step - loss: 0.0108\n",
      "Epoch 10/25\n",
      "1497/1497 [==============================] - 8s 6ms/step - loss: 0.0106\n",
      "Epoch 11/25\n",
      "1497/1497 [==============================] - 8s 6ms/step - loss: 0.0106\n",
      "Epoch 12/25\n",
      "1497/1497 [==============================] - 9s 6ms/step - loss: 0.0106\n",
      "Epoch 13/25\n",
      "1497/1497 [==============================] - 8s 6ms/step - loss: 0.0105\n",
      "Epoch 14/25\n",
      "1497/1497 [==============================] - 9s 6ms/step - loss: 0.0105\n",
      "Epoch 15/25\n",
      "1497/1497 [==============================] - 8s 6ms/step - loss: 0.0104\n",
      "Epoch 16/25\n",
      "1497/1497 [==============================] - 8s 6ms/step - loss: 0.0102\n",
      "Epoch 17/25\n",
      "1497/1497 [==============================] - 8s 6ms/step - loss: 0.0102\n",
      "Epoch 18/25\n",
      "1497/1497 [==============================] - 9s 6ms/step - loss: 0.0102\n",
      "Epoch 19/25\n",
      "1497/1497 [==============================] - 8s 6ms/step - loss: 0.0102\n",
      "Epoch 20/25\n",
      "1497/1497 [==============================] - 9s 6ms/step - loss: 0.0102\n",
      "Epoch 21/25\n",
      "1497/1497 [==============================] - 8s 6ms/step - loss: 0.0101\n",
      "Epoch 22/25\n",
      "1497/1497 [==============================] - 8s 6ms/step - loss: 0.0102\n",
      "Epoch 23/25\n",
      "1497/1497 [==============================] - 8s 6ms/step - loss: 0.0101\n",
      "Epoch 24/25\n",
      "1497/1497 [==============================] - 8s 6ms/step - loss: 0.0101\n",
      "Epoch 25/25\n",
      "1497/1497 [==============================] - 8s 6ms/step - loss: 0.0101\n",
      "Tiempo de entrenamiento: 213.875700\n"
     ]
    },
    {
     "data": {
      "image/png": "[encoded data removed]",
      "text/plain": [
       "<matplotlib.figure.Figure at 0x2967c905828>"
      ]
     },
     "metadata": {},
     "output_type": "display_data"
    }
   ],
   "source": [
    "lag = 3\n",
    "history_i = []\n",
    "\n",
    "model_i = Sequential()\n",
    "model_i.add(LSTM(4, input_dim=1, activation='tanh', inner_activation='sigmoid'))\n",
    "model_i.add(Dense(1,activation='linear'))\n",
    "model_i.compile(loss='mean_squared_error', optimizer='adam')\n",
    "start_time_i = time.time()\n",
    "history_i.append(model_i.fit(trainX_i, trainY_i, epochs=25, batch_size=1, verbose=1))\n",
    "end_time_i = time.time()\n",
    "print(\"Tiempo de entrenamiento: %f\" % (end_time_i-start_time_i))\n",
    "\n",
    "## Graficar el error, con el objetivo de visualiar de forma gráfica sus valores.\n",
    "_ = plt.close('all')\n",
    "_ = plt.title('MSE vs Epoch ')\n",
    "_ = plt.plot(history_i[0].history['loss'])\n",
    "_ = plt.xlabel('epoch')\n",
    "_ = plt.ylabel('mse')\n",
    "_ = plt.legend(['entrenamiento'], loc='upper right')\n",
    "plt.show()"
   ]
  },
  {
   "cell_type": "markdown",
   "metadata": {},
   "source": [
    "** Predicciones del modelo **"
   ]
  },
  {
   "cell_type": "code",
   "execution_count": 18,
   "metadata": {},
   "outputs": [],
   "source": [
    "batch_size = 1\n",
    "\n",
    "##Para los datos de entrenamiento}\n",
    "trainPredict_i = model_i.predict(trainX_i,batch_size=batch_size)\n",
    "trainPredict_i = scaler.inverse_transform(trainPredict_i)\n",
    "trainY_i = scaler.inverse_transform(trainY_i)\n",
    "\n",
    "##Para los datos de prueba\n",
    "testPredict_i = model_i.predict(testX_i,batch_size=batch_size)\n",
    "testPredict_i = scaler.inverse_transform(testPredict_i)\n",
    "testY_i = scaler.inverse_transform(testY_i)"
   ]
  },
  {
   "cell_type": "markdown",
   "metadata": {},
   "source": [
    "** Cálculo del error RMSE **"
   ]
  },
  {
   "cell_type": "code",
   "execution_count": 19,
   "metadata": {},
   "outputs": [
    {
     "name": "stdout",
     "output_type": "stream",
     "text": [
      "Train Score: 2.63 RMSE\n",
      "Test Score: 2.43 RMSE\n"
     ]
    }
   ],
   "source": [
    "##Cálculo de root mean square error\n",
    "trainScore_i = math.sqrt(mean_squared_error(trainY_i, trainPredict_i[:,0]))\n",
    "print('Train Score: %.2f RMSE' % (trainScore_i))\n",
    "testScore_i = math.sqrt(mean_squared_error(testY_i, testPredict_i[:,0]))\n",
    "print('Test Score: %.2f RMSE' % (testScore_i))"
   ]
  },
  {
   "cell_type": "markdown",
   "metadata": {},
   "source": [
    "** Grafico de predicción **"
   ]
  },
  {
   "cell_type": "code",
   "execution_count": 20,
   "metadata": {},
   "outputs": [
    {
     "data": {
      "image/png": "[encoded data removed]",
      "text/plain": [
       "<matplotlib.figure.Figure at 0x29669e3b2e8>"
      ]
     },
     "metadata": {},
     "output_type": "display_data"
    }
   ],
   "source": [
    "# shift train predictions for plotting\n",
    "trainPredictPlot_i = np.empty_like(dataframe.values)\n",
    "trainPredictPlot_i[:, :] = np.nan\n",
    "trainPredictPlot_i[lag:len(trainPredict_i)+lag, :] = trainPredict_i\n",
    "\n",
    "# shift test predictions for plotting\n",
    "testPredictPlot_i = np.empty_like(dataframe.values)\n",
    "testPredictPlot_i[:, :] = np.nan\n",
    "testPredictPlot_i[(len(trainPredict_i)+2*lag):, :] = testPredict_i\n",
    "\n",
    "_ = plt.figure(figsize=(15,7))\n",
    "_ = plt.plot(trainPredictPlot_i,'b')\n",
    "_ = plt.plot(testPredictPlot_i,'r')\n",
    "_ = plt.plot(dataframe.values,'y',alpha=0.3)\n",
    "_ = plt.xlabel('Tiempo')\n",
    "_ = plt.ylabel('Grados')\n",
    "_ = plt.legend(['Entrenamiento predecido' , 'Pruebas predecidas','Original'], loc='upper right')\n",
    "plt.show()"
   ]
  },
  {
   "cell_type": "markdown",
   "metadata": {},
   "source": [
    "** Forma correcta para aprvovechar la información a través del tiempo **\n",
    "\n",
    "De acuerdo a los resultados, la forma correcta corresponde a la realizada en este paso, por .... FALTA"
   ]
  },
  {
   "cell_type": "markdown",
   "metadata": {},
   "source": [
    "### j) Determine el parámetro del número de bloques para la LSTM de la pregunta e) o i), lo que le parezca mas sensato en base a lo analizado en la pregunta anterior. \n",
    "### Utilice 5-fold *cross validation*, o bien, en su defecto, los datos restante no utilizados ni como entrenamiento ni como pruebas (los de índice 2000 hacia adelante) como conjunto fijo de validación. Comente.\n",
    "\n",
    "** Se utiliza el modelo de la pregunta i) y 5-fold cross validation **"
   ]
  },
  {
   "cell_type": "code",
   "execution_count": 21,
   "metadata": {},
   "outputs": [
    {
     "data": {
      "text/plain": [
       "(1497, 1, 3)"
      ]
     },
     "execution_count": 21,
     "metadata": {},
     "output_type": "execute_result"
    },
    {
     "data": {
      "text/plain": [
       "(1497, 1)"
      ]
     },
     "execution_count": 21,
     "metadata": {},
     "output_type": "execute_result"
    }
   ],
   "source": [
    "trainX.shape\n",
    "trainY.shape"
   ]
  },
  {
   "cell_type": "code",
   "execution_count": 22,
   "metadata": {},
   "outputs": [
    {
     "name": "stderr",
     "output_type": "stream",
     "text": [
      "c:\\users\\caimapo\\appdata\\local\\programs\\python\\python36\\lib\\site-packages\\sklearn\\cross_validation.py:41: DeprecationWarning: This module was deprecated in version 0.18 in favor of the model_selection module into which all the refactored classes and functions are moved. Also note that the interface of the new CV iterators are different from that of this module. This module will be removed in 0.20.\n",
      "  \"This module will be removed in 0.20.\", DeprecationWarning)\n",
      "c:\\users\\caimapo\\appdata\\local\\programs\\python\\python36\\lib\\site-packages\\ipykernel_launcher.py:14: UserWarning: The `input_dim` and `input_length` arguments in recurrent layers are deprecated. Use `input_shape` instead.\n",
      "  \n",
      "c:\\users\\caimapo\\appdata\\local\\programs\\python\\python36\\lib\\site-packages\\ipykernel_launcher.py:14: UserWarning: Update your `LSTM` call to the Keras 2 API: `LSTM(4, activation=\"tanh\", input_shape=(None, 1), recurrent_activation=\"sigmoid\")`\n",
      "  \n"
     ]
    },
    {
     "name": "stdout",
     "output_type": "stream",
     "text": [
      "n: 4\n",
      "train index: 1197\n",
      "evaluate index: 300\n",
      "Epoch 1/25\n",
      "1197/1197 [==============================] - 7s 6ms/step - loss: 70.5518 - acc: 0.0033\n",
      "Epoch 2/25\n",
      "1197/1197 [==============================] - 6s 5ms/step - loss: 23.6944 - acc: 0.0134\n",
      "Epoch 3/25\n",
      "1197/1197 [==============================] - 6s 5ms/step - loss: 17.9876 - acc: 0.0134\n",
      "Epoch 4/25\n",
      "1197/1197 [==============================] - 6s 5ms/step - loss: 16.4664 - acc: 0.0109\n",
      "Epoch 5/25\n",
      "1197/1197 [==============================] - 6s 5ms/step - loss: 12.7467 - acc: 0.0192\n",
      "Epoch 6/25\n",
      "1197/1197 [==============================] - 6s 5ms/step - loss: 10.8425 - acc: 0.0159\n",
      "Epoch 7/25\n",
      "1197/1197 [==============================] - 6s 5ms/step - loss: 9.8725 - acc: 0.0192\n",
      "Epoch 8/25\n",
      "1197/1197 [==============================] - 6s 5ms/step - loss: 9.3156 - acc: 0.0209\n",
      "Epoch 9/25\n",
      "1197/1197 [==============================] - 6s 5ms/step - loss: 8.9449 - acc: 0.0201\n",
      "Epoch 10/25\n",
      "1197/1197 [==============================] - 6s 5ms/step - loss: 8.6428 - acc: 0.0209\n",
      "Epoch 11/25\n",
      "1197/1197 [==============================] - 6s 5ms/step - loss: 8.3790 - acc: 0.0150\n",
      "Epoch 12/25\n",
      "1197/1197 [==============================] - 6s 5ms/step - loss: 8.2107 - acc: 0.0209\n",
      "Epoch 13/25\n",
      "1197/1197 [==============================] - 6s 5ms/step - loss: 7.9751 - acc: 0.0192\n",
      "Epoch 14/25\n",
      "1197/1197 [==============================] - 6s 5ms/step - loss: 7.8449 - acc: 0.0242\n",
      "Epoch 15/25\n",
      "1197/1197 [==============================] - 6s 5ms/step - loss: 7.7052 - acc: 0.0209\n",
      "Epoch 16/25\n",
      "1197/1197 [==============================] - 6s 5ms/step - loss: 7.5699 - acc: 0.0251\n",
      "Epoch 17/25\n",
      "1197/1197 [==============================] - 6s 5ms/step - loss: 7.5126 - acc: 0.0201\n",
      "Epoch 18/25\n",
      "1197/1197 [==============================] - 6s 5ms/step - loss: 7.4249 - acc: 0.0234\n",
      "Epoch 19/25\n",
      "1197/1197 [==============================] - 6s 5ms/step - loss: 7.3614 - acc: 0.0242\n",
      "Epoch 20/25\n",
      "1197/1197 [==============================] - 6s 5ms/step - loss: 7.3290 - acc: 0.0201\n",
      "Epoch 21/25\n",
      "1197/1197 [==============================] - 6s 5ms/step - loss: 7.2369 - acc: 0.0267\n",
      "Epoch 22/25\n",
      "1197/1197 [==============================] - 6s 5ms/step - loss: 7.2625 - acc: 0.0267\n",
      "Epoch 23/25\n",
      "1197/1197 [==============================] - 6s 5ms/step - loss: 7.2006 - acc: 0.0201\n",
      "Epoch 24/25\n",
      "1197/1197 [==============================] - 6s 5ms/step - loss: 7.1724 - acc: 0.0209\n",
      "Epoch 25/25\n",
      "1197/1197 [==============================] - 6s 5ms/step - loss: 7.1776 - acc: 0.0267\n"
     ]
    },
    {
     "data": {
      "text/plain": [
       "<keras.callbacks.History at 0x296d951fcc0>"
      ]
     },
     "execution_count": 22,
     "metadata": {},
     "output_type": "execute_result"
    },
    {
     "name": "stdout",
     "output_type": "stream",
     "text": [
      "loss: 688.34%\n",
      "train index: 1197\n",
      "evaluate index: 300\n",
      "Epoch 1/25\n",
      "1197/1197 [==============================] - 7s 6ms/step - loss: 57.5165 - acc: 0.0100\n",
      "Epoch 2/25\n",
      "1197/1197 [==============================] - 6s 5ms/step - loss: 19.3379 - acc: 0.0134\n",
      "Epoch 3/25\n",
      "1197/1197 [==============================] - 6s 5ms/step - loss: 16.4725 - acc: 0.0142\n",
      "Epoch 4/25\n",
      "1197/1197 [==============================] - 6s 5ms/step - loss: 14.2643 - acc: 0.0217\n",
      "Epoch 5/25\n",
      "1197/1197 [==============================] - 6s 5ms/step - loss: 11.7584 - acc: 0.0209\n",
      "Epoch 6/25\n",
      "1197/1197 [==============================] - 6s 5ms/step - loss: 10.2580 - acc: 0.0209\n",
      "Epoch 7/25\n",
      "1197/1197 [==============================] - 6s 5ms/step - loss: 9.3447 - acc: 0.0217\n",
      "Epoch 8/25\n",
      "1197/1197 [==============================] - 6s 5ms/step - loss: 8.8379 - acc: 0.0226\n",
      "Epoch 9/25\n",
      "1197/1197 [==============================] - 6s 5ms/step - loss: 8.4464 - acc: 0.0201\n",
      "Epoch 10/25\n",
      "1197/1197 [==============================] - 6s 5ms/step - loss: 8.1189 - acc: 0.0234\n",
      "Epoch 11/25\n",
      "1197/1197 [==============================] - 6s 5ms/step - loss: 7.9533 - acc: 0.0201\n",
      "Epoch 12/25\n",
      "1197/1197 [==============================] - 6s 5ms/step - loss: 7.7580 - acc: 0.0184\n",
      "Epoch 13/25\n",
      "1197/1197 [==============================] - 6s 5ms/step - loss: 7.5892 - acc: 0.0201\n",
      "Epoch 14/25\n",
      "1197/1197 [==============================] - 6s 5ms/step - loss: 7.4302 - acc: 0.0209\n",
      "Epoch 15/25\n",
      "1197/1197 [==============================] - 6s 5ms/step - loss: 7.3361 - acc: 0.0226\n",
      "Epoch 16/25\n",
      "1197/1197 [==============================] - 6s 5ms/step - loss: 7.2387 - acc: 0.0267\n",
      "Epoch 17/25\n",
      "1197/1197 [==============================] - 6s 5ms/step - loss: 7.1999 - acc: 0.0234\n",
      "Epoch 18/25\n",
      "1197/1197 [==============================] - 6s 5ms/step - loss: 7.1424 - acc: 0.0226\n",
      "Epoch 19/25\n",
      "1197/1197 [==============================] - 6s 5ms/step - loss: 7.0786 - acc: 0.0209\n",
      "Epoch 20/25\n",
      "1197/1197 [==============================] - 6s 5ms/step - loss: 7.0506 - acc: 0.0259\n",
      "Epoch 21/25\n",
      "1197/1197 [==============================] - 6s 5ms/step - loss: 7.0375 - acc: 0.0217\n",
      "Epoch 22/25\n",
      "1197/1197 [==============================] - 6s 5ms/step - loss: 6.9804 - acc: 0.0226\n",
      "Epoch 23/25\n",
      "1197/1197 [==============================] - 6s 5ms/step - loss: 6.9620 - acc: 0.0234\n",
      "Epoch 24/25\n",
      "1197/1197 [==============================] - 6s 5ms/step - loss: 6.9451 - acc: 0.0267\n",
      "Epoch 25/25\n",
      "1197/1197 [==============================] - 6s 5ms/step - loss: 6.9271 - acc: 0.0251\n"
     ]
    },
    {
     "data": {
      "text/plain": [
       "<keras.callbacks.History at 0x296d984f8d0>"
      ]
     },
     "execution_count": 22,
     "metadata": {},
     "output_type": "execute_result"
    },
    {
     "name": "stdout",
     "output_type": "stream",
     "text": [
      "loss: 783.01%\n",
      "train index: 1198\n",
      "evaluate index: 299\n",
      "Epoch 1/25\n",
      "1198/1198 [==============================] - 7s 6ms/step - loss: 65.6509 - acc: 0.0100\n",
      "Epoch 2/25\n",
      "1198/1198 [==============================] - 6s 5ms/step - loss: 21.5939 - acc: 0.0125\n",
      "Epoch 3/25\n",
      "1198/1198 [==============================] - 6s 5ms/step - loss: 18.4110 - acc: 0.0142\n",
      "Epoch 4/25\n",
      "1198/1198 [==============================] - 6s 5ms/step - loss: 17.4557 - acc: 0.0134\n",
      "Epoch 5/25\n",
      "1198/1198 [==============================] - 6s 5ms/step - loss: 14.1558 - acc: 0.0192\n",
      "Epoch 6/25\n",
      "1198/1198 [==============================] - 6s 5ms/step - loss: 11.7588 - acc: 0.0184\n",
      "Epoch 7/25\n",
      "1198/1198 [==============================] - 6s 5ms/step - loss: 10.4733 - acc: 0.0159\n",
      "Epoch 8/25\n",
      "1198/1198 [==============================] - 6s 5ms/step - loss: 9.7843 - acc: 0.0142\n",
      "Epoch 9/25\n",
      "1198/1198 [==============================] - 6s 5ms/step - loss: 9.3385 - acc: 0.0167\n",
      "Epoch 10/25\n",
      "1198/1198 [==============================] - 6s 5ms/step - loss: 8.9940 - acc: 0.0159\n",
      "Epoch 11/25\n",
      "1198/1198 [==============================] - 6s 5ms/step - loss: 8.7136 - acc: 0.0200\n",
      "Epoch 12/25\n",
      "1198/1198 [==============================] - 6s 5ms/step - loss: 8.4470 - acc: 0.0217\n",
      "Epoch 13/25\n",
      "1198/1198 [==============================] - 6s 5ms/step - loss: 8.2514 - acc: 0.0217\n",
      "Epoch 14/25\n",
      "1198/1198 [==============================] - 6s 5ms/step - loss: 8.0705 - acc: 0.0225\n",
      "Epoch 15/25\n",
      "1198/1198 [==============================] - 6s 5ms/step - loss: 7.9286 - acc: 0.0234\n",
      "Epoch 16/25\n",
      "1198/1198 [==============================] - 6s 5ms/step - loss: 7.7714 - acc: 0.0200\n",
      "Epoch 17/25\n",
      "1198/1198 [==============================] - 6s 5ms/step - loss: 7.6392 - acc: 0.0234\n",
      "Epoch 18/25\n",
      "1198/1198 [==============================] - 6s 5ms/step - loss: 7.5512 - acc: 0.0200\n",
      "Epoch 19/25\n",
      "1198/1198 [==============================] - 6s 5ms/step - loss: 7.4227 - acc: 0.0200\n",
      "Epoch 20/25\n",
      "1198/1198 [==============================] - 6s 5ms/step - loss: 7.3160 - acc: 0.0217\n",
      "Epoch 21/25\n",
      "1198/1198 [==============================] - 6s 5ms/step - loss: 7.2623 - acc: 0.0250\n",
      "Epoch 22/25\n",
      "1198/1198 [==============================] - 6s 5ms/step - loss: 7.2247 - acc: 0.0225\n",
      "Epoch 23/25\n",
      "1198/1198 [==============================] - 6s 5ms/step - loss: 7.1781 - acc: 0.0267\n",
      "Epoch 24/25\n",
      "1198/1198 [==============================] - 6s 5ms/step - loss: 7.1316 - acc: 0.0250\n",
      "Epoch 25/25\n",
      "1198/1198 [==============================] - 6s 5ms/step - loss: 7.1192 - acc: 0.0242\n"
     ]
    },
    {
     "data": {
      "text/plain": [
       "<keras.callbacks.History at 0x296db3699e8>"
      ]
     },
     "execution_count": 22,
     "metadata": {},
     "output_type": "execute_result"
    },
    {
     "name": "stdout",
     "output_type": "stream",
     "text": [
      "loss: 741.81%\n",
      "train index: 1198\n",
      "evaluate index: 299\n",
      "Epoch 1/25\n",
      "1198/1198 [==============================] - 7s 6ms/step - loss: 71.8995 - acc: 0.0067\n",
      "Epoch 2/25\n",
      "1198/1198 [==============================] - 6s 5ms/step - loss: 25.0969 - acc: 0.0134\n",
      "Epoch 3/25\n",
      "1198/1198 [==============================] - 6s 5ms/step - loss: 19.5576 - acc: 0.0150\n",
      "Epoch 4/25\n",
      "1198/1198 [==============================] - 6s 5ms/step - loss: 17.9073 - acc: 0.0134\n",
      "Epoch 5/25\n",
      "1198/1198 [==============================] - 6s 5ms/step - loss: 13.6158 - acc: 0.0200\n",
      "Epoch 6/25\n",
      "1198/1198 [==============================] - 6s 5ms/step - loss: 11.2895 - acc: 0.0150\n",
      "Epoch 7/25\n",
      "1198/1198 [==============================] - 6s 5ms/step - loss: 10.1587 - acc: 0.0159\n",
      "Epoch 8/25\n",
      "1198/1198 [==============================] - 6s 5ms/step - loss: 9.5127 - acc: 0.0200\n",
      "Epoch 9/25\n",
      "1198/1198 [==============================] - 6s 5ms/step - loss: 9.0718 - acc: 0.0192\n",
      "Epoch 10/25\n",
      "1198/1198 [==============================] - 7s 5ms/step - loss: 8.7464 - acc: 0.0150\n",
      "Epoch 11/25\n",
      "1198/1198 [==============================] - 6s 5ms/step - loss: 8.4672 - acc: 0.0200\n",
      "Epoch 12/25\n",
      "1198/1198 [==============================] - 6s 5ms/step - loss: 8.2673 - acc: 0.0184\n",
      "Epoch 13/25\n",
      "1198/1198 [==============================] - 6s 5ms/step - loss: 8.1115 - acc: 0.0184\n",
      "Epoch 14/25\n",
      "1198/1198 [==============================] - 6s 5ms/step - loss: 7.9820 - acc: 0.0200\n",
      "Epoch 15/25\n",
      "1198/1198 [==============================] - 6s 5ms/step - loss: 7.8612 - acc: 0.0192\n",
      "Epoch 16/25\n",
      "1198/1198 [==============================] - 6s 5ms/step - loss: 7.8017 - acc: 0.0192\n",
      "Epoch 17/25\n",
      "1198/1198 [==============================] - 6s 5ms/step - loss: 7.6865 - acc: 0.0209\n",
      "Epoch 18/25\n",
      "1198/1198 [==============================] - 6s 5ms/step - loss: 7.6364 - acc: 0.0234\n",
      "Epoch 19/25\n",
      "1198/1198 [==============================] - 6s 5ms/step - loss: 7.5895 - acc: 0.0259\n",
      "Epoch 20/25\n",
      "1198/1198 [==============================] - 6s 5ms/step - loss: 7.5033 - acc: 0.0209\n",
      "Epoch 21/25\n",
      "1198/1198 [==============================] - 6s 5ms/step - loss: 7.4383 - acc: 0.0234\n",
      "Epoch 22/25\n",
      "1198/1198 [==============================] - 6s 5ms/step - loss: 7.4367 - acc: 0.0284\n",
      "Epoch 23/25\n",
      "1198/1198 [==============================] - 6s 5ms/step - loss: 7.4154 - acc: 0.0242\n",
      "Epoch 24/25\n",
      "1198/1198 [==============================] - 6s 5ms/step - loss: 7.3452 - acc: 0.0234\n",
      "Epoch 25/25\n",
      "1198/1198 [==============================] - 6s 5ms/step - loss: 7.3310 - acc: 0.0259\n"
     ]
    },
    {
     "data": {
      "text/plain": [
       "<keras.callbacks.History at 0x296deda0e48>"
      ]
     },
     "execution_count": 22,
     "metadata": {},
     "output_type": "execute_result"
    },
    {
     "name": "stdout",
     "output_type": "stream",
     "text": [
      "loss: 653.84%\n",
      "train index: 1198\n",
      "evaluate index: 299\n",
      "Epoch 1/25\n",
      "1198/1198 [==============================] - 8s 6ms/step - loss: 78.3081 - acc: 0.0025\n",
      "Epoch 2/25\n",
      "1198/1198 [==============================] - 6s 5ms/step - loss: 27.1370 - acc: 0.0092\n",
      "Epoch 3/25\n",
      "1198/1198 [==============================] - 6s 5ms/step - loss: 19.8461 - acc: 0.0117\n",
      "Epoch 4/25\n",
      "1198/1198 [==============================] - 6s 5ms/step - loss: 17.1235 - acc: 0.0142\n",
      "Epoch 5/25\n",
      "1198/1198 [==============================] - 6s 5ms/step - loss: 12.9788 - acc: 0.0142\n",
      "Epoch 6/25\n",
      "1198/1198 [==============================] - 6s 5ms/step - loss: 10.7949 - acc: 0.0117\n",
      "Epoch 7/25\n",
      "1198/1198 [==============================] - 6s 5ms/step - loss: 9.6244 - acc: 0.0192\n",
      "Epoch 8/25\n",
      "1198/1198 [==============================] - 6s 5ms/step - loss: 8.9947 - acc: 0.0184\n",
      "Epoch 9/25\n",
      "1198/1198 [==============================] - 6s 5ms/step - loss: 8.6386 - acc: 0.0192\n",
      "Epoch 10/25\n",
      "1198/1198 [==============================] - 6s 5ms/step - loss: 8.3209 - acc: 0.0209\n",
      "Epoch 11/25\n",
      "1198/1198 [==============================] - 6s 5ms/step - loss: 8.0894 - acc: 0.0242\n",
      "Epoch 12/25\n",
      "1198/1198 [==============================] - 6s 5ms/step - loss: 7.8442 - acc: 0.0225\n",
      "Epoch 13/25\n",
      "1198/1198 [==============================] - 6s 5ms/step - loss: 7.6609 - acc: 0.0250\n",
      "Epoch 14/25\n",
      "1198/1198 [==============================] - 6s 5ms/step - loss: 7.5249 - acc: 0.0242\n",
      "Epoch 15/25\n",
      "1198/1198 [==============================] - 6s 5ms/step - loss: 7.4305 - acc: 0.0217\n",
      "Epoch 16/25\n",
      "1198/1198 [==============================] - 6s 5ms/step - loss: 7.3589 - acc: 0.0200\n",
      "Epoch 17/25\n",
      "1198/1198 [==============================] - 6s 5ms/step - loss: 7.3068 - acc: 0.0217\n",
      "Epoch 18/25\n",
      "1198/1198 [==============================] - 6s 5ms/step - loss: 7.2154 - acc: 0.0259\n",
      "Epoch 19/25\n",
      "1198/1198 [==============================] - 6s 5ms/step - loss: 7.1718 - acc: 0.0234\n",
      "Epoch 20/25\n",
      "1198/1198 [==============================] - 6s 5ms/step - loss: 7.1786 - acc: 0.0267\n",
      "Epoch 21/25\n",
      "1198/1198 [==============================] - 6s 5ms/step - loss: 7.1583 - acc: 0.0250\n",
      "Epoch 22/25\n",
      "1198/1198 [==============================] - 6s 5ms/step - loss: 7.1224 - acc: 0.0242\n",
      "Epoch 23/25\n",
      "1198/1198 [==============================] - 6s 5ms/step - loss: 7.0819 - acc: 0.0234\n",
      "Epoch 24/25\n",
      "1198/1198 [==============================] - 6s 5ms/step - loss: 7.0579 - acc: 0.0267\n",
      "Epoch 25/25\n",
      "1198/1198 [==============================] - 6s 5ms/step - loss: 7.0574 - acc: 0.0242\n"
     ]
    },
    {
     "data": {
      "text/plain": [
       "<keras.callbacks.History at 0x296e0885dd8>"
      ]
     },
     "execution_count": 22,
     "metadata": {},
     "output_type": "execute_result"
    },
    {
     "name": "stdout",
     "output_type": "stream",
     "text": [
      "loss: 693.99%\n",
      "2.40% (+/- 0.44%)\n"
     ]
    }
   ],
   "source": [
    "from sklearn import cross_validation\n",
    "\n",
    "kfold = cross_validation.KFold(len(trainX_i), 5)\n",
    "\n",
    "nb = [4] #range(4, 13, 2)\n",
    "chosen_dim = 1  ## de acuerdo a respuesta i)\n",
    "for n in nb:\n",
    "    print(\"n: %d\" % n)\n",
    "    cvscores = []\n",
    "    for train_idx, evaluate_idx in kfold:\n",
    "        print(\"train index: %s\" % len(train_idx))       \n",
    "        print(\"evaluate index: %s\" % len(evaluate_idx))\n",
    "        model = Sequential()\n",
    "        model.add(LSTM(n, input_dim=chosen_dim, activation='tanh',inner_activation='sigmoid'))\n",
    "        model.add(Dense(1))\n",
    "        model.compile(loss='mean_squared_error', optimizer='adam', metrics=[\"accuracy\"])\n",
    "        model.fit(trainX_i[train_idx], trainY_i[train_idx], epochs=25, batch_size=1, verbose=1) #epochs = 25\n",
    "        scores = model.evaluate(trainX_i[evaluate_idx], trainY_i[evaluate_idx], verbose=0)        \n",
    "        print(\"%s: %.2f%%\" % (model.metrics_names[0], scores[0]*100))\n",
    "        cvscores.append(scores[1] * 100)\n",
    "    print(\"%.2f%% (+/- %.2f%%)\" % (np.mean(cvscores), np.std(cvscores)))\n",
    "        \n",
    "    "
   ]
  },
  {
   "cell_type": "markdown",
   "metadata": {},
   "source": [
    "## Falta comentar y ver como mostrar los resultados "
   ]
  },
  {
   "cell_type": "markdown",
   "metadata": {},
   "source": [
    "### K) Comparando el desempeño de la red LSTM variando el lag de 1  a  4. Comentar que resulta mejor, tener más información para predecir o esto satura la predicción por el efecto del gradiente descendiente."
   ]
  },
  {
   "cell_type": "code",
   "execution_count": 23,
   "metadata": {},
   "outputs": [
    {
     "name": "stdout",
     "output_type": "stream",
     "text": [
      "Lag 1 \n"
     ]
    },
    {
     "name": "stderr",
     "output_type": "stream",
     "text": [
      "c:\\users\\caimapo\\appdata\\local\\programs\\python\\python36\\lib\\site-packages\\ipykernel_launcher.py:9: UserWarning: The `input_dim` and `input_length` arguments in recurrent layers are deprecated. Use `input_shape` instead.\n",
      "  if __name__ == '__main__':\n",
      "c:\\users\\caimapo\\appdata\\local\\programs\\python\\python36\\lib\\site-packages\\ipykernel_launcher.py:9: UserWarning: Update your `LSTM` call to the Keras 2 API: `LSTM(4, activation=\"tanh\", input_shape=(None, 1), recurrent_activation=\"sigmoid\")`\n",
      "  if __name__ == '__main__':\n"
     ]
    },
    {
     "name": "stdout",
     "output_type": "stream",
     "text": [
      "Epoch 1/25\n",
      "1499/1499 [==============================] - 7s 5ms/step - loss: 0.0188\n",
      "Epoch 2/25\n",
      "1499/1499 [==============================] - 6s 4ms/step - loss: 0.0109\n",
      "Epoch 3/25\n",
      "1499/1499 [==============================] - 6s 4ms/step - loss: 0.0106\n",
      "Epoch 4/25\n",
      "1499/1499 [==============================] - 6s 4ms/step - loss: 0.0106\n",
      "Epoch 5/25\n",
      "1499/1499 [==============================] - 6s 4ms/step - loss: 0.0106\n",
      "Epoch 6/25\n",
      "1499/1499 [==============================] - 6s 4ms/step - loss: 0.0106\n",
      "Epoch 7/25\n",
      "1499/1499 [==============================] - 6s 4ms/step - loss: 0.0107\n",
      "Epoch 8/25\n",
      "1499/1499 [==============================] - 6s 4ms/step - loss: 0.0106\n",
      "Epoch 9/25\n",
      "1499/1499 [==============================] - 6s 4ms/step - loss: 0.0106\n",
      "Epoch 10/25\n",
      "1499/1499 [==============================] - 6s 4ms/step - loss: 0.0106\n",
      "Epoch 11/25\n",
      "1499/1499 [==============================] - 6s 4ms/step - loss: 0.0106\n",
      "Epoch 12/25\n",
      "1499/1499 [==============================] - 6s 4ms/step - loss: 0.0105\n",
      "Epoch 13/25\n",
      "1499/1499 [==============================] - 6s 4ms/step - loss: 0.0106\n",
      "Epoch 14/25\n",
      "1499/1499 [==============================] - 6s 4ms/step - loss: 0.0105\n",
      "Epoch 15/25\n",
      "1499/1499 [==============================] - 6s 4ms/step - loss: 0.0105\n",
      "Epoch 16/25\n",
      "1499/1499 [==============================] - 6s 4ms/step - loss: 0.0105\n",
      "Epoch 17/25\n",
      "1499/1499 [==============================] - 6s 4ms/step - loss: 0.0106\n",
      "Epoch 18/25\n",
      "1499/1499 [==============================] - 6s 4ms/step - loss: 0.0106\n",
      "Epoch 19/25\n",
      "1499/1499 [==============================] - 6s 4ms/step - loss: 0.0105\n",
      "Epoch 20/25\n",
      "1499/1499 [==============================] - 6s 4ms/step - loss: 0.0105\n",
      "Epoch 21/25\n",
      "1499/1499 [==============================] - 6s 4ms/step - loss: 0.0106\n",
      "Epoch 22/25\n",
      "1499/1499 [==============================] - 6s 4ms/step - loss: 0.0105\n",
      "Epoch 23/25\n",
      "1499/1499 [==============================] - 6s 4ms/step - loss: 0.0105\n",
      "Epoch 24/25\n",
      "1499/1499 [==============================] - 6s 4ms/step - loss: 0.0106\n",
      "Epoch 25/25\n",
      "1499/1499 [==============================] - 6s 4ms/step - loss: 0.0106\n"
     ]
    },
    {
     "data": {
      "text/plain": [
       "<keras.callbacks.History at 0x296e24dc438>"
      ]
     },
     "execution_count": 23,
     "metadata": {},
     "output_type": "execute_result"
    },
    {
     "name": "stdout",
     "output_type": "stream",
     "text": [
      "Lag 2 \n",
      "Epoch 1/25\n",
      "1498/1498 [==============================] - 9s 6ms/step - loss: 0.0320\n",
      "Epoch 2/25\n",
      "1498/1498 [==============================] - 8s 5ms/step - loss: 0.0126\n",
      "Epoch 3/25\n",
      "1498/1498 [==============================] - 7s 5ms/step - loss: 0.0117\n",
      "Epoch 4/25\n",
      "1498/1498 [==============================] - 7s 5ms/step - loss: 0.0114\n",
      "Epoch 5/25\n",
      "1498/1498 [==============================] - 7s 5ms/step - loss: 0.0113\n",
      "Epoch 6/25\n",
      "1498/1498 [==============================] - 8s 5ms/step - loss: 0.0112\n",
      "Epoch 7/25\n",
      "1498/1498 [==============================] - 8s 5ms/step - loss: 0.0111\n",
      "Epoch 8/25\n",
      "1498/1498 [==============================] - 8s 5ms/step - loss: 0.0108\n",
      "Epoch 9/25\n",
      "1498/1498 [==============================] - 7s 5ms/step - loss: 0.0107\n",
      "Epoch 10/25\n",
      "1498/1498 [==============================] - 7s 5ms/step - loss: 0.0106\n",
      "Epoch 11/25\n",
      "1498/1498 [==============================] - 7s 5ms/step - loss: 0.0106\n",
      "Epoch 12/25\n",
      "1498/1498 [==============================] - 7s 5ms/step - loss: 0.0106\n",
      "Epoch 13/25\n",
      "1498/1498 [==============================] - 7s 5ms/step - loss: 0.0106\n",
      "Epoch 14/25\n",
      "1498/1498 [==============================] - 7s 5ms/step - loss: 0.0106\n",
      "Epoch 15/25\n",
      "1498/1498 [==============================] - 8s 5ms/step - loss: 0.0106\n",
      "Epoch 16/25\n",
      "1498/1498 [==============================] - 7s 5ms/step - loss: 0.0106\n",
      "Epoch 17/25\n",
      "1498/1498 [==============================] - 8s 5ms/step - loss: 0.0105\n",
      "Epoch 18/25\n",
      "1498/1498 [==============================] - 8s 5ms/step - loss: 0.0106\n",
      "Epoch 19/25\n",
      "1498/1498 [==============================] - 7s 5ms/step - loss: 0.0105\n",
      "Epoch 20/25\n",
      "1498/1498 [==============================] - 8s 5ms/step - loss: 0.0106\n",
      "Epoch 21/25\n",
      "1498/1498 [==============================] - 8s 5ms/step - loss: 0.0106\n",
      "Epoch 22/25\n",
      "1498/1498 [==============================] - 7s 5ms/step - loss: 0.0106\n",
      "Epoch 23/25\n",
      "1498/1498 [==============================] - 8s 5ms/step - loss: 0.0106\n",
      "Epoch 24/25\n",
      "1498/1498 [==============================] - 8s 5ms/step - loss: 0.0105\n",
      "Epoch 25/25\n",
      "1498/1498 [==============================] - 8s 5ms/step - loss: 0.0105\n"
     ]
    },
    {
     "data": {
      "text/plain": [
       "<keras.callbacks.History at 0x296e44494e0>"
      ]
     },
     "execution_count": 23,
     "metadata": {},
     "output_type": "execute_result"
    },
    {
     "name": "stdout",
     "output_type": "stream",
     "text": [
      "Lag 3 \n",
      "Epoch 1/25\n",
      "1497/1497 [==============================] - 10s 6ms/step - loss: 0.0208\n",
      "Epoch 2/25\n",
      "1497/1497 [==============================] - 9s 6ms/step - loss: 0.0119\n",
      "Epoch 3/25\n",
      "1497/1497 [==============================] - 9s 6ms/step - loss: 0.0116\n",
      "Epoch 4/25\n",
      "1497/1497 [==============================] - 10s 6ms/step - loss: 0.0113\n",
      "Epoch 5/25\n",
      "1497/1497 [==============================] - 8s 6ms/step - loss: 0.0110\n",
      "Epoch 6/25\n",
      "1497/1497 [==============================] - 8s 5ms/step - loss: 0.0108\n",
      "Epoch 7/25\n",
      "1497/1497 [==============================] - 9s 6ms/step - loss: 0.0105\n",
      "Epoch 8/25\n",
      "1497/1497 [==============================] - 9s 6ms/step - loss: 0.0104\n",
      "Epoch 9/25\n",
      "1497/1497 [==============================] - 9s 6ms/step - loss: 0.0103\n",
      "Epoch 10/25\n",
      "1497/1497 [==============================] - 9s 6ms/step - loss: 0.0102\n",
      "Epoch 11/25\n",
      "1497/1497 [==============================] - 9s 6ms/step - loss: 0.0102\n",
      "Epoch 12/25\n",
      "1497/1497 [==============================] - 8s 6ms/step - loss: 0.0102\n",
      "Epoch 13/25\n",
      "1497/1497 [==============================] - 8s 6ms/step - loss: 0.0102\n",
      "Epoch 14/25\n",
      "1497/1497 [==============================] - 8s 6ms/step - loss: 0.0101\n",
      "Epoch 15/25\n",
      "1497/1497 [==============================] - 8s 6ms/step - loss: 0.0102\n",
      "Epoch 16/25\n",
      "1497/1497 [==============================] - 8s 6ms/step - loss: 0.0102\n",
      "Epoch 17/25\n",
      "1497/1497 [==============================] - 8s 6ms/step - loss: 0.0103\n",
      "Epoch 18/25\n",
      "1497/1497 [==============================] - 8s 6ms/step - loss: 0.0102\n",
      "Epoch 19/25\n",
      "1497/1497 [==============================] - 8s 6ms/step - loss: 0.0102\n",
      "Epoch 20/25\n",
      "1497/1497 [==============================] - 8s 6ms/step - loss: 0.0101\n",
      "Epoch 21/25\n",
      "1497/1497 [==============================] - 8s 6ms/step - loss: 0.0102\n",
      "Epoch 22/25\n",
      "1497/1497 [==============================] - 8s 5ms/step - loss: 0.0102\n",
      "Epoch 23/25\n",
      "1497/1497 [==============================] - 8s 6ms/step - loss: 0.0102\n",
      "Epoch 24/25\n",
      "1497/1497 [==============================] - 8s 6ms/step - loss: 0.0101\n",
      "Epoch 25/25\n",
      "1497/1497 [==============================] - 8s 6ms/step - loss: 0.0102\n"
     ]
    },
    {
     "data": {
      "text/plain": [
       "<keras.callbacks.History at 0x296e4d70668>"
      ]
     },
     "execution_count": 23,
     "metadata": {},
     "output_type": "execute_result"
    },
    {
     "name": "stdout",
     "output_type": "stream",
     "text": [
      "Lag 4 \n",
      "Epoch 1/25\n",
      "1496/1496 [==============================] - 10s 7ms/step - loss: 0.0331\n",
      "Epoch 2/25\n",
      "1496/1496 [==============================] - 9s 6ms/step - loss: 0.0121\n",
      "Epoch 3/25\n",
      "1496/1496 [==============================] - 9s 6ms/step - loss: 0.0116\n",
      "Epoch 4/25\n",
      "1496/1496 [==============================] - 9s 6ms/step - loss: 0.0113\n",
      "Epoch 5/25\n",
      "1496/1496 [==============================] - 9s 6ms/step - loss: 0.0111\n",
      "Epoch 6/25\n",
      "1496/1496 [==============================] - 9s 6ms/step - loss: 0.0109\n",
      "Epoch 7/25\n",
      "1496/1496 [==============================] - 9s 6ms/step - loss: 0.0106\n",
      "Epoch 8/25\n",
      "1496/1496 [==============================] - 9s 6ms/step - loss: 0.0105\n",
      "Epoch 9/25\n",
      "1496/1496 [==============================] - 9s 6ms/step - loss: 0.0102\n",
      "Epoch 10/25\n",
      "1496/1496 [==============================] - 9s 6ms/step - loss: 0.0102\n",
      "Epoch 11/25\n",
      "1496/1496 [==============================] - 9s 6ms/step - loss: 0.0101\n",
      "Epoch 12/25\n",
      "1496/1496 [==============================] - 9s 6ms/step - loss: 0.0101\n",
      "Epoch 13/25\n",
      "1496/1496 [==============================] - 9s 6ms/step - loss: 0.0100\n",
      "Epoch 14/25\n",
      "1496/1496 [==============================] - 9s 6ms/step - loss: 0.0100\n",
      "Epoch 15/25\n",
      "1496/1496 [==============================] - 9s 6ms/step - loss: 0.0099\n",
      "Epoch 16/25\n",
      "1496/1496 [==============================] - 9s 6ms/step - loss: 0.0099\n",
      "Epoch 17/25\n",
      "1496/1496 [==============================] - 9s 6ms/step - loss: 0.0100\n",
      "Epoch 18/25\n",
      "1496/1496 [==============================] - 9s 6ms/step - loss: 0.0099\n",
      "Epoch 19/25\n",
      "1496/1496 [==============================] - 9s 6ms/step - loss: 0.0099\n",
      "Epoch 20/25\n",
      "1496/1496 [==============================] - 9s 6ms/step - loss: 0.0099\n",
      "Epoch 21/25\n",
      "1496/1496 [==============================] - 9s 6ms/step - loss: 0.0099\n",
      "Epoch 22/25\n",
      "1496/1496 [==============================] - 9s 6ms/step - loss: 0.0098\n",
      "Epoch 23/25\n",
      "1496/1496 [==============================] - 9s 6ms/step - loss: 0.0099\n",
      "Epoch 24/25\n",
      "1496/1496 [==============================] - 9s 6ms/step - loss: 0.0099\n",
      "Epoch 25/25\n",
      "1496/1496 [==============================] - 9s 6ms/step - loss: 0.0099\n"
     ]
    },
    {
     "data": {
      "text/plain": [
       "<keras.callbacks.History at 0x296e6d11c88>"
      ]
     },
     "execution_count": 23,
     "metadata": {},
     "output_type": "execute_result"
    }
   ],
   "source": [
    "lag_value = [1,2,3,4]\n",
    "for lag_v in lag_value:   \n",
    "    print(\"Lag %s \"  % (lag_v))\n",
    "    trainX, trainY = create_dataset(stream_train_scaled_Orig, lag_v)\n",
    "    trainX = np.reshape(trainX, (trainX.shape[0], trainX.shape[1],1)) ## reshape de considerando la eleeción opción i)\n",
    "    trainY = np.reshape(trainY, (trainY.shape[0],1))\n",
    "\n",
    "    model = Sequential()\n",
    "    model.add(LSTM(4, input_dim=1, activation='tanh', inner_activation='sigmoid')) ## input_dim al elegir opción i)\n",
    "    model.add(Dense(1,activation='linear'))\n",
    "    model.compile(loss='mean_squared_error', optimizer='adam')\n",
    "    model.fit(trainX, trainY, epochs=25, batch_size=1, verbose=1) ##epochs 25"
   ]
  },
  {
   "cell_type": "markdown",
   "metadata": {},
   "source": [
    "## Falta comentar y ver como mostrar los resultados "
   ]
  },
  {
   "cell_type": "markdown",
   "metadata": {},
   "source": [
    "### l) Usando un lag de 3, compare el desempeño de la LSTM con una red recurrente simple y una GRU, comente sobre convergencia y tiempo de ejecución"
   ]
  },
  {
   "cell_type": "code",
   "execution_count": 25,
   "metadata": {},
   "outputs": [
    {
     "data": {
      "text/plain": [
       "(1497, 3, 1)"
      ]
     },
     "execution_count": 25,
     "metadata": {},
     "output_type": "execute_result"
    },
    {
     "data": {
      "text/plain": [
       "(1497, 1)"
      ]
     },
     "execution_count": 25,
     "metadata": {},
     "output_type": "execute_result"
    },
    {
     "name": "stderr",
     "output_type": "stream",
     "text": [
      "c:\\users\\caimapo\\appdata\\local\\programs\\python\\python36\\lib\\site-packages\\ipykernel_launcher.py:20: UserWarning: The `input_dim` and `input_length` arguments in recurrent layers are deprecated. Use `input_shape` instead.\n",
      "c:\\users\\caimapo\\appdata\\local\\programs\\python\\python36\\lib\\site-packages\\ipykernel_launcher.py:20: UserWarning: Update your `GRU` call to the Keras 2 API: `GRU(4, activation=\"tanh\", input_shape=(None, 1), recurrent_initializer=\"orthogonal\")`\n"
     ]
    },
    {
     "name": "stdout",
     "output_type": "stream",
     "text": [
      "Epoch 1/25\n",
      "1497/1497 [==============================] - 10s 6ms/step - loss: 0.0189\n",
      "Epoch 2/25\n",
      "1497/1497 [==============================] - 9s 6ms/step - loss: 0.0113\n",
      "Epoch 3/25\n",
      "1497/1497 [==============================] - 8s 6ms/step - loss: 0.0110\n",
      "Epoch 4/25\n",
      "1497/1497 [==============================] - 8s 5ms/step - loss: 0.0109\n",
      "Epoch 5/25\n",
      "1497/1497 [==============================] - 8s 5ms/step - loss: 0.0107\n",
      "Epoch 6/25\n",
      "1497/1497 [==============================] - 8s 5ms/step - loss: 0.0106\n",
      "Epoch 7/25\n",
      "1497/1497 [==============================] - 8s 5ms/step - loss: 0.0106\n",
      "Epoch 8/25\n",
      "1497/1497 [==============================] - 8s 5ms/step - loss: 0.0106\n",
      "Epoch 9/25\n",
      "1497/1497 [==============================] - 8s 5ms/step - loss: 0.0106\n",
      "Epoch 10/25\n",
      "1497/1497 [==============================] - 8s 5ms/step - loss: 0.0104\n",
      "Epoch 11/25\n",
      "1497/1497 [==============================] - 8s 5ms/step - loss: 0.0105\n",
      "Epoch 12/25\n",
      "1497/1497 [==============================] - 8s 5ms/step - loss: 0.0105\n",
      "Epoch 13/25\n",
      "1497/1497 [==============================] - 8s 5ms/step - loss: 0.0104\n",
      "Epoch 14/25\n",
      "1497/1497 [==============================] - 8s 6ms/step - loss: 0.0104\n",
      "Epoch 15/25\n",
      "1497/1497 [==============================] - 8s 5ms/step - loss: 0.0104\n",
      "Epoch 16/25\n",
      "1497/1497 [==============================] - 8s 5ms/step - loss: 0.0104\n",
      "Epoch 17/25\n",
      "1497/1497 [==============================] - 8s 5ms/step - loss: 0.0103\n",
      "Epoch 18/25\n",
      "1497/1497 [==============================] - 8s 5ms/step - loss: 0.0103\n",
      "Epoch 19/25\n",
      "1497/1497 [==============================] - 8s 5ms/step - loss: 0.0102\n",
      "Epoch 20/25\n",
      "1497/1497 [==============================] - 8s 5ms/step - loss: 0.0102\n",
      "Epoch 21/25\n",
      "1497/1497 [==============================] - 8s 6ms/step - loss: 0.0101\n",
      "Epoch 22/25\n",
      "1497/1497 [==============================] - 8s 5ms/step - loss: 0.0101\n",
      "Epoch 23/25\n",
      "1497/1497 [==============================] - 8s 5ms/step - loss: 0.0102\n",
      "Epoch 24/25\n",
      "1497/1497 [==============================] - 8s 6ms/step - loss: 0.0102\n",
      "Epoch 25/25\n",
      "1497/1497 [==============================] - 8s 5ms/step - loss: 0.0101\n"
     ]
    },
    {
     "name": "stderr",
     "output_type": "stream",
     "text": [
      "c:\\users\\caimapo\\appdata\\local\\programs\\python\\python36\\lib\\site-packages\\ipykernel_launcher.py:29: UserWarning: The `input_dim` and `input_length` arguments in recurrent layers are deprecated. Use `input_shape` instead.\n",
      "c:\\users\\caimapo\\appdata\\local\\programs\\python\\python36\\lib\\site-packages\\ipykernel_launcher.py:29: UserWarning: Update your `SimpleRNN` call to the Keras 2 API: `SimpleRNN(4, activation=\"tanh\", input_shape=(None, 1), recurrent_initializer=\"orthogonal\")`\n"
     ]
    },
    {
     "name": "stdout",
     "output_type": "stream",
     "text": [
      "Epoch 1/25\n",
      "1497/1497 [==============================] - 6s 4ms/step - loss: 0.0492\n",
      "Epoch 2/25\n",
      "1497/1497 [==============================] - 5s 3ms/step - loss: 0.0140\n",
      "Epoch 3/25\n",
      "1497/1497 [==============================] - 5s 3ms/step - loss: 0.0107\n",
      "Epoch 4/25\n",
      "1497/1497 [==============================] - 5s 3ms/step - loss: 0.0105\n",
      "Epoch 5/25\n",
      "1497/1497 [==============================] - 5s 3ms/step - loss: 0.0103\n",
      "Epoch 6/25\n",
      "1497/1497 [==============================] - 5s 3ms/step - loss: 0.0104\n",
      "Epoch 7/25\n",
      "1497/1497 [==============================] - 5s 3ms/step - loss: 0.0103\n",
      "Epoch 8/25\n",
      "1497/1497 [==============================] - 5s 3ms/step - loss: 0.0103\n",
      "Epoch 9/25\n",
      "1497/1497 [==============================] - 5s 3ms/step - loss: 0.0102\n",
      "Epoch 10/25\n",
      "1497/1497 [==============================] - 5s 3ms/step - loss: 0.0102\n",
      "Epoch 11/25\n",
      "1497/1497 [==============================] - 5s 3ms/step - loss: 0.0102\n",
      "Epoch 12/25\n",
      "1497/1497 [==============================] - 5s 3ms/step - loss: 0.0102\n",
      "Epoch 13/25\n",
      "1497/1497 [==============================] - 5s 3ms/step - loss: 0.0102\n",
      "Epoch 14/25\n",
      "1497/1497 [==============================] - 5s 3ms/step - loss: 0.0102\n",
      "Epoch 15/25\n",
      "1497/1497 [==============================] - 5s 3ms/step - loss: 0.0102\n",
      "Epoch 16/25\n",
      "1497/1497 [==============================] - 5s 3ms/step - loss: 0.0102\n",
      "Epoch 17/25\n",
      "1497/1497 [==============================] - 5s 3ms/step - loss: 0.0102\n",
      "Epoch 18/25\n",
      "1497/1497 [==============================] - 5s 3ms/step - loss: 0.0102\n",
      "Epoch 19/25\n",
      "1497/1497 [==============================] - 5s 3ms/step - loss: 0.0102\n",
      "Epoch 20/25\n",
      "1497/1497 [==============================] - 5s 3ms/step - loss: 0.0102\n",
      "Epoch 21/25\n",
      "1497/1497 [==============================] - 5s 3ms/step - loss: 0.0101\n",
      "Epoch 22/25\n",
      "1497/1497 [==============================] - 5s 3ms/step - loss: 0.0102\n",
      "Epoch 23/25\n",
      "1497/1497 [==============================] - 5s 3ms/step - loss: 0.0101\n",
      "Epoch 24/25\n",
      "1497/1497 [==============================] - 5s 3ms/step - loss: 0.0102\n",
      "Epoch 25/25\n",
      "1497/1497 [==============================] - 5s 3ms/step - loss: 0.0101\n"
     ]
    }
   ],
   "source": [
    "from keras.layers import GRU\n",
    "from keras.layers import SimpleRNN\n",
    "\n",
    "#f, axarr_train = plt.subplots(2, sharex=True,sharey =True,figsize=(12,12))\n",
    "\n",
    "historyGRU = []\n",
    "historySimpleRNN = []\n",
    "\n",
    "lag = 3\n",
    "trainX, trainY = create_dataset(stream_train_scaled_Orig, lag)\n",
    "trainX = np.reshape(trainX, (trainX.shape[0], trainX.shape[1],1)) ## reshape de considerando la eleeción opción i)\n",
    "trainY = np.reshape(trainY, (trainY.shape[0], 1))\n",
    "\n",
    "## Verificando los datos, para utilizar modelo i)\n",
    "trainX.shape\n",
    "trainY.shape\n",
    "\n",
    "## Red GRU\n",
    "model = Sequential()\n",
    "model.add(GRU(4, input_dim=1, inner_init='orthogonal', activation='tanh')) ## input_dim al elegir opción i)\n",
    "model.add(Dense(1,activation='linear'))\n",
    "model.compile(loss='mean_squared_error', optimizer='adam')\n",
    "start_time_GRU = time.time()\n",
    "historyGRU.append(model.fit(trainX, trainY, epochs=25, batch_size=1, verbose=1))\n",
    "end_time_GRU = time.time()\n",
    "\n",
    "## Red recurrente simple\n",
    "model = Sequential()\n",
    "model.add(SimpleRNN(4, input_dim=1, inner_init='orthogonal',activation='tanh')) ## input_dim al elegir opción i)\n",
    "model.add(Dense(1,activation='linear'))\n",
    "model.compile(loss='mean_squared_error', optimizer='adam')\n",
    "start_time_SimpleRNN = time.time()\n",
    "historySimpleRNN.append(model.fit(trainX, trainY, epochs=25, batch_size=1, verbose=1))\n",
    "end_time_SimpleRNN = time.time()\n",
    "\n",
    "timeGRU = end_time_GRU - start_time_GRU\n",
    "timeSimpleRNN = end_time_SimpleRNN - start_time_SimpleRNN"
   ]
  },
  {
   "cell_type": "code",
   "execution_count": 26,
   "metadata": {},
   "outputs": [
    {
     "name": "stdout",
     "output_type": "stream",
     "text": [
      "Tiempo de ejecución\n",
      "Tiempo GRU 207.604350\n",
      "Tiempo SimpleRNN 127.119310\n"
     ]
    }
   ],
   "source": [
    "print(\"Tiempo de ejecución\")\n",
    "print(\"Tiempo GRU %f\" % (timeGRU))\n",
    "print(\"Tiempo SimpleRNN %f\" % (timeSimpleRNN))"
   ]
  },
  {
   "cell_type": "code",
   "execution_count": 27,
   "metadata": {},
   "outputs": [
    {
     "data": {
      "image/png": "[encoded data removed]",
      "text/plain": [
       "<matplotlib.figure.Figure at 0x296e88eb978>"
      ]
     },
     "metadata": {},
     "output_type": "display_data"
    }
   ],
   "source": [
    "## Graficar el error, con el objetivo de visualiar de forma gráfica sus valores.\n",
    "_ = plt.close('all')\n",
    "_ = plt.title('MSE vs Epoch ')\n",
    "_ = plt.plot(historyGRU[0].history['loss'])\n",
    "_ = plt.plot(historySimpleRNN[0].history['loss'])\n",
    "_ = plt.xlabel('epoch')\n",
    "_ = plt.ylabel('mse')\n",
    "_ = plt.legend(['entrenamiento'], loc='upper right')\n",
    "plt.show()"
   ]
  },
  {
   "cell_type": "markdown",
   "metadata": {},
   "source": [
    "Con respecto al tiempo de convergencia se observa que ..."
   ]
  },
  {
   "cell_type": "markdown",
   "metadata": {},
   "source": [
    "# m) Entrenando la red con memoria entre batches. Gráfico de predicción, comentarios con respecto a si mejora la predicción"
   ]
  },
  {
   "cell_type": "code",
   "execution_count": 29,
   "metadata": {},
   "outputs": [
    {
     "data": {
      "text/plain": [
       "(1497, 3, 1)"
      ]
     },
     "execution_count": 29,
     "metadata": {},
     "output_type": "execute_result"
    },
    {
     "data": {
      "text/plain": [
       "(1497, 1)"
      ]
     },
     "execution_count": 29,
     "metadata": {},
     "output_type": "execute_result"
    },
    {
     "name": "stdout",
     "output_type": "stream",
     "text": [
      "batch_size 0\n"
     ]
    },
    {
     "data": {
      "text/plain": [
       "<keras.callbacks.History at 0x296e232e9b0>"
      ]
     },
     "execution_count": 29,
     "metadata": {},
     "output_type": "execute_result"
    },
    {
     "name": "stdout",
     "output_type": "stream",
     "text": [
      "batch_size 1\n"
     ]
    },
    {
     "data": {
      "text/plain": [
       "<keras.callbacks.History at 0x296ec493748>"
      ]
     },
     "execution_count": 29,
     "metadata": {},
     "output_type": "execute_result"
    },
    {
     "name": "stdout",
     "output_type": "stream",
     "text": [
      "batch_size 2\n"
     ]
    },
    {
     "data": {
      "text/plain": [
       "<keras.callbacks.History at 0x296e83cbeb8>"
      ]
     },
     "execution_count": 29,
     "metadata": {},
     "output_type": "execute_result"
    },
    {
     "name": "stdout",
     "output_type": "stream",
     "text": [
      "batch_size 3\n"
     ]
    },
    {
     "data": {
      "text/plain": [
       "<keras.callbacks.History at 0x296ec4d9ef0>"
      ]
     },
     "execution_count": 29,
     "metadata": {},
     "output_type": "execute_result"
    },
    {
     "name": "stdout",
     "output_type": "stream",
     "text": [
      "batch_size 4\n"
     ]
    },
    {
     "data": {
      "text/plain": [
       "<keras.callbacks.History at 0x296ec37feb8>"
      ]
     },
     "execution_count": 29,
     "metadata": {},
     "output_type": "execute_result"
    },
    {
     "name": "stdout",
     "output_type": "stream",
     "text": [
      "batch_size 5\n"
     ]
    },
    {
     "data": {
      "text/plain": [
       "<keras.callbacks.History at 0x296ec493748>"
      ]
     },
     "execution_count": 29,
     "metadata": {},
     "output_type": "execute_result"
    },
    {
     "name": "stdout",
     "output_type": "stream",
     "text": [
      "batch_size 6\n"
     ]
    },
    {
     "data": {
      "text/plain": [
       "<keras.callbacks.History at 0x296ec4c7668>"
      ]
     },
     "execution_count": 29,
     "metadata": {},
     "output_type": "execute_result"
    },
    {
     "name": "stdout",
     "output_type": "stream",
     "text": [
      "batch_size 7\n"
     ]
    },
    {
     "data": {
      "text/plain": [
       "<keras.callbacks.History at 0x296ec4a8470>"
      ]
     },
     "execution_count": 29,
     "metadata": {},
     "output_type": "execute_result"
    },
    {
     "name": "stdout",
     "output_type": "stream",
     "text": [
      "batch_size 8\n"
     ]
    },
    {
     "data": {
      "text/plain": [
       "<keras.callbacks.History at 0x296ec4b11d0>"
      ]
     },
     "execution_count": 29,
     "metadata": {},
     "output_type": "execute_result"
    },
    {
     "name": "stdout",
     "output_type": "stream",
     "text": [
      "batch_size 9\n"
     ]
    },
    {
     "data": {
      "text/plain": [
       "<keras.callbacks.History at 0x296ec4992e8>"
      ]
     },
     "execution_count": 29,
     "metadata": {},
     "output_type": "execute_result"
    },
    {
     "name": "stdout",
     "output_type": "stream",
     "text": [
      "batch_size 10\n"
     ]
    },
    {
     "data": {
      "text/plain": [
       "<keras.callbacks.History at 0x296ec4d9240>"
      ]
     },
     "execution_count": 29,
     "metadata": {},
     "output_type": "execute_result"
    },
    {
     "name": "stdout",
     "output_type": "stream",
     "text": [
      "batch_size 11\n"
     ]
    },
    {
     "data": {
      "text/plain": [
       "<keras.callbacks.History at 0x296e264eb00>"
      ]
     },
     "execution_count": 29,
     "metadata": {},
     "output_type": "execute_result"
    },
    {
     "name": "stdout",
     "output_type": "stream",
     "text": [
      "batch_size 12\n"
     ]
    },
    {
     "data": {
      "text/plain": [
       "<keras.callbacks.History at 0x296ec37feb8>"
      ]
     },
     "execution_count": 29,
     "metadata": {},
     "output_type": "execute_result"
    },
    {
     "name": "stdout",
     "output_type": "stream",
     "text": [
      "batch_size 13\n"
     ]
    },
    {
     "data": {
      "text/plain": [
       "<keras.callbacks.History at 0x296ec493748>"
      ]
     },
     "execution_count": 29,
     "metadata": {},
     "output_type": "execute_result"
    },
    {
     "name": "stdout",
     "output_type": "stream",
     "text": [
      "batch_size 14\n"
     ]
    },
    {
     "data": {
      "text/plain": [
       "<keras.callbacks.History at 0x296ec4b11d0>"
      ]
     },
     "execution_count": 29,
     "metadata": {},
     "output_type": "execute_result"
    },
    {
     "name": "stdout",
     "output_type": "stream",
     "text": [
      "batch_size 15\n"
     ]
    },
    {
     "data": {
      "text/plain": [
       "<keras.callbacks.History at 0x296ec4d9240>"
      ]
     },
     "execution_count": 29,
     "metadata": {},
     "output_type": "execute_result"
    },
    {
     "name": "stdout",
     "output_type": "stream",
     "text": [
      "batch_size 16\n"
     ]
    },
    {
     "data": {
      "text/plain": [
       "<keras.callbacks.History at 0x296ec4e2e10>"
      ]
     },
     "execution_count": 29,
     "metadata": {},
     "output_type": "execute_result"
    },
    {
     "name": "stdout",
     "output_type": "stream",
     "text": [
      "batch_size 17\n"
     ]
    },
    {
     "data": {
      "text/plain": [
       "<keras.callbacks.History at 0x296ec4a8470>"
      ]
     },
     "execution_count": 29,
     "metadata": {},
     "output_type": "execute_result"
    },
    {
     "name": "stdout",
     "output_type": "stream",
     "text": [
      "batch_size 18\n"
     ]
    },
    {
     "data": {
      "text/plain": [
       "<keras.callbacks.History at 0x296ec4d9ef0>"
      ]
     },
     "execution_count": 29,
     "metadata": {},
     "output_type": "execute_result"
    },
    {
     "name": "stdout",
     "output_type": "stream",
     "text": [
      "batch_size 19\n"
     ]
    },
    {
     "data": {
      "text/plain": [
       "<keras.callbacks.History at 0x296ec4f90b8>"
      ]
     },
     "execution_count": 29,
     "metadata": {},
     "output_type": "execute_result"
    },
    {
     "name": "stdout",
     "output_type": "stream",
     "text": [
      "batch_size 20\n"
     ]
    },
    {
     "data": {
      "text/plain": [
       "<keras.callbacks.History at 0x296ec4c7668>"
      ]
     },
     "execution_count": 29,
     "metadata": {},
     "output_type": "execute_result"
    },
    {
     "name": "stdout",
     "output_type": "stream",
     "text": [
      "batch_size 21\n"
     ]
    },
    {
     "data": {
      "text/plain": [
       "<keras.callbacks.History at 0x296e232e9b0>"
      ]
     },
     "execution_count": 29,
     "metadata": {},
     "output_type": "execute_result"
    },
    {
     "name": "stdout",
     "output_type": "stream",
     "text": [
      "batch_size 22\n"
     ]
    },
    {
     "data": {
      "text/plain": [
       "<keras.callbacks.History at 0x296ec4d9240>"
      ]
     },
     "execution_count": 29,
     "metadata": {},
     "output_type": "execute_result"
    },
    {
     "name": "stdout",
     "output_type": "stream",
     "text": [
      "batch_size 23\n"
     ]
    },
    {
     "data": {
      "text/plain": [
       "<keras.callbacks.History at 0x296ec4e2e10>"
      ]
     },
     "execution_count": 29,
     "metadata": {},
     "output_type": "execute_result"
    },
    {
     "name": "stdout",
     "output_type": "stream",
     "text": [
      "batch_size 24\n"
     ]
    },
    {
     "data": {
      "text/plain": [
       "<keras.callbacks.History at 0x296ec37feb8>"
      ]
     },
     "execution_count": 29,
     "metadata": {},
     "output_type": "execute_result"
    }
   ],
   "source": [
    "## Se utiliza modelo de i)\n",
    "trainX.shape\n",
    "trainY.shape\n",
    "\n",
    "lag = 3\n",
    "batch_size = 1\n",
    "model = Sequential()\n",
    "model.add(LSTM(4, batch_input_shape=(batch_size, lag, 1), stateful=True))\n",
    "model.add(Dense(1,activation='linear'))\n",
    "model.compile(loss='mean_squared_error', optimizer='adam')\n",
    "for i in range(25): ## 5 cambiar por 25\n",
    "    print(\"batch_size %s\" % (i))\n",
    "    model.fit(trainX, trainY, epochs=25, batch_size=batch_size, verbose=0, shuffle=False)\n",
    "    model.reset_states() #clears only the hidden states of the network"
   ]
  },
  {
   "cell_type": "markdown",
   "metadata": {},
   "source": [
    "** Predicción del modelo ** ... ¿Debiese ser para cada batch_size?"
   ]
  },
  {
   "cell_type": "code",
   "execution_count": 30,
   "metadata": {
    "scrolled": true
   },
   "outputs": [
    {
     "ename": "ValueError",
     "evalue": "Error when checking : expected lstm_12_input to have shape (1, 3, 1) but got array with shape (497, 1, 3)",
     "output_type": "error",
     "traceback": [
      "\u001b[1;31m---------------------------------------------------------------------------\u001b[0m",
      "\u001b[1;31mValueError\u001b[0m                                Traceback (most recent call last)",
      "\u001b[1;32m<ipython-input-30-db8b96156793>\u001b[0m in \u001b[0;36m<module>\u001b[1;34m()\u001b[0m\n\u001b[0;32m      7\u001b[0m \u001b[1;33m\u001b[0m\u001b[0m\n\u001b[0;32m      8\u001b[0m \u001b[1;31m##Para los datos de prueba\u001b[0m\u001b[1;33m\u001b[0m\u001b[1;33m\u001b[0m\u001b[0m\n\u001b[1;32m----> 9\u001b[1;33m \u001b[0mtestPredict\u001b[0m \u001b[1;33m=\u001b[0m \u001b[0mmodel\u001b[0m\u001b[1;33m.\u001b[0m\u001b[0mpredict\u001b[0m\u001b[1;33m(\u001b[0m\u001b[0mtestX\u001b[0m\u001b[1;33m,\u001b[0m\u001b[0mbatch_size\u001b[0m\u001b[1;33m=\u001b[0m\u001b[0mbatch_size\u001b[0m\u001b[1;33m)\u001b[0m\u001b[1;33m\u001b[0m\u001b[0m\n\u001b[0m\u001b[0;32m     10\u001b[0m \u001b[0mtestPredict\u001b[0m \u001b[1;33m=\u001b[0m \u001b[0mscaler\u001b[0m\u001b[1;33m.\u001b[0m\u001b[0minverse_transform\u001b[0m\u001b[1;33m(\u001b[0m\u001b[0mtestPredict\u001b[0m\u001b[1;33m)\u001b[0m\u001b[1;33m\u001b[0m\u001b[0m\n\u001b[0;32m     11\u001b[0m \u001b[0mtestY\u001b[0m \u001b[1;33m=\u001b[0m \u001b[0mscaler\u001b[0m\u001b[1;33m.\u001b[0m\u001b[0minverse_transform\u001b[0m\u001b[1;33m(\u001b[0m\u001b[0mtestY\u001b[0m\u001b[1;33m)\u001b[0m\u001b[1;33m\u001b[0m\u001b[0m\n",
      "\u001b[1;32mc:\\users\\caimapo\\appdata\\local\\programs\\python\\python36\\lib\\site-packages\\keras\\models.py\u001b[0m in \u001b[0;36mpredict\u001b[1;34m(self, x, batch_size, verbose)\u001b[0m\n\u001b[0;32m   1004\u001b[0m         \u001b[1;32mif\u001b[0m \u001b[1;32mnot\u001b[0m \u001b[0mself\u001b[0m\u001b[1;33m.\u001b[0m\u001b[0mbuilt\u001b[0m\u001b[1;33m:\u001b[0m\u001b[1;33m\u001b[0m\u001b[0m\n\u001b[0;32m   1005\u001b[0m             \u001b[0mself\u001b[0m\u001b[1;33m.\u001b[0m\u001b[0mbuild\u001b[0m\u001b[1;33m(\u001b[0m\u001b[1;33m)\u001b[0m\u001b[1;33m\u001b[0m\u001b[0m\n\u001b[1;32m-> 1006\u001b[1;33m         \u001b[1;32mreturn\u001b[0m \u001b[0mself\u001b[0m\u001b[1;33m.\u001b[0m\u001b[0mmodel\u001b[0m\u001b[1;33m.\u001b[0m\u001b[0mpredict\u001b[0m\u001b[1;33m(\u001b[0m\u001b[0mx\u001b[0m\u001b[1;33m,\u001b[0m \u001b[0mbatch_size\u001b[0m\u001b[1;33m=\u001b[0m\u001b[0mbatch_size\u001b[0m\u001b[1;33m,\u001b[0m \u001b[0mverbose\u001b[0m\u001b[1;33m=\u001b[0m\u001b[0mverbose\u001b[0m\u001b[1;33m)\u001b[0m\u001b[1;33m\u001b[0m\u001b[0m\n\u001b[0m\u001b[0;32m   1007\u001b[0m \u001b[1;33m\u001b[0m\u001b[0m\n\u001b[0;32m   1008\u001b[0m     \u001b[1;32mdef\u001b[0m \u001b[0mpredict_on_batch\u001b[0m\u001b[1;33m(\u001b[0m\u001b[0mself\u001b[0m\u001b[1;33m,\u001b[0m \u001b[0mx\u001b[0m\u001b[1;33m)\u001b[0m\u001b[1;33m:\u001b[0m\u001b[1;33m\u001b[0m\u001b[0m\n",
      "\u001b[1;32mc:\\users\\caimapo\\appdata\\local\\programs\\python\\python36\\lib\\site-packages\\keras\\engine\\training.py\u001b[0m in \u001b[0;36mpredict\u001b[1;34m(self, x, batch_size, verbose, steps)\u001b[0m\n\u001b[0;32m   1770\u001b[0m         x = _standardize_input_data(x, self._feed_input_names,\n\u001b[0;32m   1771\u001b[0m                                     \u001b[0mself\u001b[0m\u001b[1;33m.\u001b[0m\u001b[0m_feed_input_shapes\u001b[0m\u001b[1;33m,\u001b[0m\u001b[1;33m\u001b[0m\u001b[0m\n\u001b[1;32m-> 1772\u001b[1;33m                                     check_batch_axis=False)\n\u001b[0m\u001b[0;32m   1773\u001b[0m         \u001b[1;32mif\u001b[0m \u001b[0mself\u001b[0m\u001b[1;33m.\u001b[0m\u001b[0mstateful\u001b[0m\u001b[1;33m:\u001b[0m\u001b[1;33m\u001b[0m\u001b[0m\n\u001b[0;32m   1774\u001b[0m             \u001b[1;32mif\u001b[0m \u001b[0mx\u001b[0m\u001b[1;33m[\u001b[0m\u001b[1;36m0\u001b[0m\u001b[1;33m]\u001b[0m\u001b[1;33m.\u001b[0m\u001b[0mshape\u001b[0m\u001b[1;33m[\u001b[0m\u001b[1;36m0\u001b[0m\u001b[1;33m]\u001b[0m \u001b[1;33m>\u001b[0m \u001b[0mbatch_size\u001b[0m \u001b[1;32mand\u001b[0m \u001b[0mx\u001b[0m\u001b[1;33m[\u001b[0m\u001b[1;36m0\u001b[0m\u001b[1;33m]\u001b[0m\u001b[1;33m.\u001b[0m\u001b[0mshape\u001b[0m\u001b[1;33m[\u001b[0m\u001b[1;36m0\u001b[0m\u001b[1;33m]\u001b[0m \u001b[1;33m%\u001b[0m \u001b[0mbatch_size\u001b[0m \u001b[1;33m!=\u001b[0m \u001b[1;36m0\u001b[0m\u001b[1;33m:\u001b[0m\u001b[1;33m\u001b[0m\u001b[0m\n",
      "\u001b[1;32mc:\\users\\caimapo\\appdata\\local\\programs\\python\\python36\\lib\\site-packages\\keras\\engine\\training.py\u001b[0m in \u001b[0;36m_standardize_input_data\u001b[1;34m(data, names, shapes, check_batch_axis, exception_prefix)\u001b[0m\n\u001b[0;32m    151\u001b[0m                             \u001b[1;34m' to have shape '\u001b[0m \u001b[1;33m+\u001b[0m \u001b[0mstr\u001b[0m\u001b[1;33m(\u001b[0m\u001b[0mshapes\u001b[0m\u001b[1;33m[\u001b[0m\u001b[0mi\u001b[0m\u001b[1;33m]\u001b[0m\u001b[1;33m)\u001b[0m \u001b[1;33m+\u001b[0m\u001b[1;33m\u001b[0m\u001b[0m\n\u001b[0;32m    152\u001b[0m                             \u001b[1;34m' but got array with shape '\u001b[0m \u001b[1;33m+\u001b[0m\u001b[1;33m\u001b[0m\u001b[0m\n\u001b[1;32m--> 153\u001b[1;33m                             str(array.shape))\n\u001b[0m\u001b[0;32m    154\u001b[0m     \u001b[1;32mreturn\u001b[0m \u001b[0marrays\u001b[0m\u001b[1;33m\u001b[0m\u001b[0m\n\u001b[0;32m    155\u001b[0m \u001b[1;33m\u001b[0m\u001b[0m\n",
      "\u001b[1;31mValueError\u001b[0m: Error when checking : expected lstm_12_input to have shape (1, 3, 1) but got array with shape (497, 1, 3)"
     ]
    }
   ],
   "source": [
    "batch_size = 1\n",
    "\n",
    "##Para los datos de entrenamiento\n",
    "trainPredict = model.predict(trainX,batch_size=batch_size)\n",
    "trainPredict = scaler.inverse_transform(trainPredict)\n",
    "trainY = scaler.inverse_transform(trainY)\n",
    "\n",
    "##Para los datos de prueba\n",
    "testPredict = model.predict(testX,batch_size=batch_size)\n",
    "testPredict = scaler.inverse_transform(testPredict)\n",
    "testY = scaler.inverse_transform(testY)"
   ]
  },
  {
   "cell_type": "markdown",
   "metadata": {},
   "source": [
    "** Cálculo de error MSE ** ... ¿ídem a anterior?"
   ]
  },
  {
   "cell_type": "code",
   "execution_count": null,
   "metadata": {},
   "outputs": [],
   "source": [
    "##Cálculo de root mean square error\n",
    "trainScore_i = math.sqrt(mean_squared_error(trainY, trainPredict[:,0]))\n",
    "print('Train Score: %.2f RMSE' % (trainScore))\n",
    "testScore_i = math.sqrt(mean_squared_error(testY, testPredict[:,0]))\n",
    "print('Test Score: %.2f RMSE' % (testScore))"
   ]
  },
  {
   "cell_type": "markdown",
   "metadata": {},
   "source": [
    "** Gráfico de predicciones, vs entrenamiento **"
   ]
  },
  {
   "cell_type": "code",
   "execution_count": null,
   "metadata": {
    "scrolled": true
   },
   "outputs": [],
   "source": [
    "# shift train predictions for plotting\n",
    "trainPredictPlot = np.empty_like(dataframe.values)\n",
    "trainPredictPlot[:, :] = np.nan\n",
    "trainPredictPlot[lag:len(trainPredict)+lag, :] = trainPredict\n",
    "\n",
    "# shift test predictions for plotting\n",
    "testPredictPlot = np.empty_like(dataframe.values)\n",
    "testPredictPlot[:, :] = np.nan\n",
    "testPredictPlot[(len(trainPredict)+2*lag):, :] = testPredict\n",
    "\n",
    "_ = plt.figure(figsize=(15,7))\n",
    "_ = plt.plot(trainPredictPlot,'b')\n",
    "_ = plt.plot(testPredictPlot,'r')\n",
    "_ = plt.plot(dataframe.values,'y',alpha=0.3)\n",
    "_ = plt.xlabel('Tiempo')\n",
    "_ = plt.ylabel('Grados')\n",
    "_ = plt.legend(['Entrenamiento predecido' , 'Pruebas predecidas','Original'], loc='upper right')\n",
    "plt.show()"
   ]
  },
  {
   "cell_type": "markdown",
   "metadata": {},
   "source": [
    "** Comentarios ¿Mejora la predicción? **"
   ]
  },
  {
   "cell_type": "markdown",
   "metadata": {},
   "source": [
    "### n) Comprar resultados anterior usando un tamaño de batch a elección, mayor o igual a 3"
   ]
  },
  {
   "cell_type": "code",
   "execution_count": null,
   "metadata": {},
   "outputs": [],
   "source": [
    "batch_size = 1\n",
    "model = Sequential()\n",
    "model.add(LSTM(4, input_dim=1, activation='tanh', inner_activation='sigmoid')) ## input_dim al elegir opción i)\n",
    "model.add(Dense(1,activation='linear'))\n",
    "model.compile(loss='mean_squared_error', optimizer='adam')\n",
    "model.fit(trainX, trainY, epochs=25, batch_size=1, verbose=1) ##epochs 25"
   ]
  },
  {
   "cell_type": "markdown",
   "metadata": {},
   "source": [
    "### o) LSTM apilada, y comparacion con modelo de i). Comentarios"
   ]
  },
  {
   "cell_type": "code",
   "execution_count": null,
   "metadata": {},
   "outputs": [],
   "source": [
    "trainX.shape\n",
    "trainY.shape\n",
    "\n",
    "model = Sequential()\n",
    "model.add(LSTM(4, input_dim=1, return_sequences=True))\n",
    "model.add(LSTM(4))\n",
    "model.compile(loss='mean_squared_error', optimizer='adam')\n",
    "start_time = time.time()\n",
    "model.fit(trainX, trainY, epochs=25, batch_size=1, verbose=1) ## cambiar epochs a 25\n",
    "end_time = time.time()"
   ]
  }
 ],
 "metadata": {
  "kernelspec": {
   "display_name": "Python 3",
   "language": "python",
   "name": "python3"
  },
  "language_info": {
   "codemirror_mode": {
    "name": "ipython",
    "version": 3
   },
   "file_extension": ".py",
   "mimetype": "text/x-python",
   "name": "python",
   "nbconvert_exporter": "python",
   "pygments_lexer": "ipython3",
   "version": "3.6.5"
  },
  "notify_time": "30",
  "toc": {
   "base_numbering": 1,
   "nav_menu": {
    "height": "426px",
    "width": "874px"
   },
   "number_sections": true,
   "sideBar": true,
   "skip_h1_title": false,
   "title_cell": "Table of Contents",
   "title_sidebar": "Contents",
   "toc_cell": true,
   "toc_position": {},
   "toc_section_display": true,
   "toc_window_display": true
  },
  "widgets": {
   "application/vnd.jupyter.widget-state+json": {
    "state": {},
    "version_major": 2,
    "version_minor": 0
   }
  }
 },
 "nbformat": 4,
 "nbformat_minor": 2
}
