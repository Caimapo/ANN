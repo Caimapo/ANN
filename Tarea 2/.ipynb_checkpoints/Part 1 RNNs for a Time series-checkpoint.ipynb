{
 "cells": [
  {
   "cell_type": "markdown",
   "metadata": {},
   "source": [
    "#### Sección a) En esta parte se procede a cargar los datos time_series_data.csv con cual se trabajara en esta parte. Primero se procede a procesar estos datos por un escalado y luego a partir del dataset escalado se particiona en 1500 para filas(datos) entrenamiento y 500 para pruebas."
   ]
  },
  {
   "cell_type": "code",
   "execution_count": null,
   "metadata": {},
   "outputs": [],
   "source": [
    "name_f = \"time_series_data.csv\"\n",
    "dataframe = pd.read_csv(name_f,sep=',',usecols=[1],engine='python',skipfooter = 3)[:2000]\n",
    "dataframe[:] = dataframe[:].astype('float32')\n",
    "df_train, df_test = dataframe[:1500].values, dataframe[1500:].values\n",
    "\n",
    "print dataframe.describe()\n",
    "print dataframe.shape\n",
    "total = 2000\n",
    "n_train = df_train.shape[0]\n",
    "n_test = df_test.shape[0]\n",
    "print \"Son %d datos de entrenamiento, correspondiente al %f por ciento de los datos\"%(n_train,100*n_train/total)\n",
    "print \"Son %d datos de pruebas, correspondiente al %f por ciento de los datos\"%(n_test,100*n_test/total)"
   ]
  },
  {
   "cell_type": "code",
   "execution_count": null,
   "metadata": {},
   "outputs": [],
   "source": [
    "scaler = MinMaxScaler(feature_range=(0,1)).fit(df_train)\n",
    "\n",
    "\n",
    "stream_train_scaled = scaler.transform(df_train)\n",
    "stream_test_scaled = scaler.transform(df_test)\n",
    "print \"Valor minimo: \", np.min(stream_train_scaled)\n",
    "print \"Valor maximo: \",np.max(stream_train_scaled)"
   ]
  },
  {
   "cell_type": "markdown",
   "metadata": {},
   "source": [
    "#### Sección b) En esta parte veremos la definición de lag, la cual es el numero de periodos los cuales seran usado para producir la predicción. Para ello usaremos la función que recibe una secuencia de valores y retorna una matriz con los respectivos arreglos de lag y su output."
   ]
  },
  {
   "cell_type": "code",
   "execution_count": null,
   "metadata": {},
   "outputs": [],
   "source": [
    "def create_dataset(secuencia,lag =1): \n",
    "    #preprocesamiento asumiendo dataset es una secuencia\n",
    "    dataX = []\n",
    "    dataY =[]\n",
    "    for t_plus_1 in range(lag,len(secuencia)):\n",
    "        #se crea el Y (target)\n",
    "        predecir = secuencia[t_plus_1]\n",
    "        dataY+= list(predecir) \n",
    "        \n",
    "        #se crea el X (inputs) columnas para predecir Y\n",
    "        columnasX = []\n",
    "        for i in np.arange(lag,0,-1): #para los valores anteriores al t_plus_1 durante un lag\n",
    "            columnasX += list( secuencia[t_plus_1-i] )\n",
    "        dataX.append(columnasX)\n",
    "    return np.array(dataX),np.array(dataY)\n",
    "#create_dataset(stream_train_scaled)"
   ]
  },
  {
   "cell_type": "markdown",
   "metadata": {},
   "source": [
    "#### Sección c) Ahora usando la función definida anteriormente se generara un conjunto de entrenamiento y prueba."
   ]
  },
  {
   "cell_type": "markdown",
   "metadata": {},
   "source": [
    "#### Sección d) Se tienen los datos de forma [sample, features] despues de pasar por c), pero para poder utilizarlos en la red LSTM se necesita que estos datos sean de la forma [sample, time steps,features]. Por lo que se aplica una transformación que logre el objetivo deseado."
   ]
  },
  {
   "cell_type": "markdown",
   "metadata": {},
   "source": [
    "#### Sección e) Teniendo ya nuestros datos, se procede al entrenamiento de la red LSTM con un lag de valor 3."
   ]
  },
  {
   "cell_type": "markdown",
   "metadata": {},
   "source": [
    "#### Sección f) Una vez finalizado el entrenamiento de la red, se procede a la predicción, para el conjunto de entrenamiento y el conjunto de pruebas. Y se impone que los valores sean desnormalizados para el calculo del error."
   ]
  },
  {
   "cell_type": "markdown",
   "metadata": {},
   "source": [
    "#### Sección g) Se computa el error, de tipo RMSE en este caso que el output no es una clasificación, sobre el entrenamiento y prueba. Agregar comentarios de lo encontrado. Probar con otra medida de error como MSE"
   ]
  },
  {
   "cell_type": "markdown",
   "metadata": {},
   "source": [
    "#### Sección h) Ahora se grafican las predicciones obtenidas con los datos originales. Para analizar el contraste, además se pide un extrato para notar el detalle de como es la predicción"
   ]
  },
  {
   "cell_type": "markdown",
   "metadata": {},
   "source": [
    "#### Sección i) Ahora se intenta mejorar los resultados, para ello se entrena con un timestep de 3. Para comparar se observan los errores de entrenamiento y prueba. Además se mide los tiempos de ejecución del entrenamiento."
   ]
  },
  {
   "cell_type": "markdown",
   "metadata": {},
   "source": [
    "#### Sección j) Ahora se fija un valor para LSTM, para el modelo, además se usa 5-fold cross validation, para el entrenamiento. Además como experimento se utiliza un conjunto de validación que corresponde a datos entre las filas 2000 a 2500."
   ]
  },
  {
   "cell_type": "markdown",
   "metadata": {},
   "source": [
    "### Sección k) Se compara el rendimiento con un lag en el rango 1 a 4 (1,2,3,4)."
   ]
  },
  {
   "cell_type": "markdown",
   "metadata": {},
   "source": [
    "### Sección l) Usando un lag de 3. se compara el modelo con LSTM a un RNN simple y una GRU. Se comparan en tiempo de entrenamiento y convergencia."
   ]
  },
  {
   "cell_type": "markdown",
   "metadata": {},
   "source": [
    "### Sección m) Se entre un modelo LSTM con batches. Y se compara con las predicción anteriores."
   ]
  },
  {
   "cell_type": "markdown",
   "metadata": {},
   "source": [
    "### Sección n) Se juega con el tamaño del batch para determinar la influencia de este."
   ]
  },
  {
   "cell_type": "markdown",
   "metadata": {},
   "source": [
    "### Sección o) Construir una LSTM apilada, y compárela con lo obtenido en la parte i)."
   ]
  }
 ],
 "metadata": {
  "kernelspec": {
   "display_name": "Python 3",
   "language": "python",
   "name": "python3"
  },
  "language_info": {
   "codemirror_mode": {
    "name": "ipython",
    "version": 3
   },
   "file_extension": ".py",
   "mimetype": "text/x-python",
   "name": "python",
   "nbconvert_exporter": "python",
   "pygments_lexer": "ipython3",
   "version": "3.6.5"
  }
 },
 "nbformat": 4,
 "nbformat_minor": 2
}
